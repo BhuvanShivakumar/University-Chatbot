{
 "cells": [
  {
   "cell_type": "code",
   "execution_count": 9,
   "id": "7b4d4752-dd7e-49d5-8f56-a4e3988641e6",
   "metadata": {},
   "outputs": [],
   "source": [
    "#bert-large-uncased"
   ]
  },
  {
   "cell_type": "code",
   "execution_count": 10,
   "id": "39b73dde-5b80-4512-895b-1c1b8f726503",
   "metadata": {},
   "outputs": [],
   "source": [
    "import json\n",
    "import numpy as np\n",
    "import nltk\n",
    "import time\n",
    "import random\n",
    "import string\n",
    "import tensorflow as tf\n",
    "from sklearn.model_selection import KFold\n",
    "from sklearn.preprocessing import LabelEncoder\n",
    "from sklearn.metrics import accuracy_score, precision_score, recall_score, f1_score\n",
    "from transformers import BertTokenizer, TFBertForSequenceClassification\n",
    "\n",
    "import warnings\n",
    "warnings.filterwarnings('ignore')"
   ]
  },
  {
   "cell_type": "code",
   "execution_count": 11,
   "id": "27ba30cc-5df1-42e2-9ff3-7b9f8749aa3f",
   "metadata": {},
   "outputs": [],
   "source": [
    "# Load and preprocess your dataset\n",
    "with open('Combined_training.json', 'r') as f:\n",
    "    data = json.load(f)\n",
    "\n",
    "# Extract patterns and responses\n",
    "questions = []\n",
    "labels = []\n",
    "\n",
    "for intent in data['intents']:\n",
    "    for pattern in intent['patterns']:\n",
    "        questions.append(pattern)\n",
    "        labels.append(intent['tag'])"
   ]
  },
  {
   "cell_type": "code",
   "execution_count": 12,
   "id": "f2a85129-0e9f-44f4-82eb-3db20f718df0",
   "metadata": {},
   "outputs": [],
   "source": [
    "# Encode the labels\n",
    "label_encoder = LabelEncoder()\n",
    "encoded_labels = label_encoder.fit_transform(labels)\n",
    "\n",
    "# Load BERT tokenizer\n",
    "MODEL_TYPE = 'bert-large-uncased'\n",
    "tokenizer = BertTokenizer.from_pretrained(MODEL_TYPE)"
   ]
  },
  {
   "cell_type": "code",
   "execution_count": 13,
   "id": "6a25c918-0a11-4bf7-9bdf-8863d2702a85",
   "metadata": {},
   "outputs": [],
   "source": [
    "# Tokenize the data\n",
    "def tokenize_data(questions, max_length):\n",
    "    encodings = tokenizer(questions, truncation=True, padding=True, max_length=max_length)\n",
    "    return encodings\n",
    "\n",
    "# Convert data to TensorFlow Dataset format\n",
    "def convert_to_tf_dataset(encodings, labels, batch_size):\n",
    "    dataset = tf.data.Dataset.from_tensor_slices((dict(encodings), labels))\n",
    "    dataset = dataset.shuffle(len(labels)).batch(batch_size)\n",
    "    return dataset"
   ]
  },
  {
   "cell_type": "code",
   "execution_count": 14,
   "id": "2ef5b55d-4a16-4eaf-861a-3ec67d1ab928",
   "metadata": {},
   "outputs": [],
   "source": [
    "# Hyperparameters\n",
    "MAX_LENGTH = 128\n",
    "BATCH_SIZE = 32\n",
    "LEARNING_RATE = 5e-5\n",
    "EPOCHS = 10\n",
    "N_SPLITS = 5"
   ]
  },
  {
   "cell_type": "code",
   "execution_count": 15,
   "id": "bd5f137c-da38-4f62-9462-39827e496b83",
   "metadata": {},
   "outputs": [
    {
     "name": "stdout",
     "output_type": "stream",
     "text": [
      "Fold 1\n"
     ]
    },
    {
     "name": "stderr",
     "output_type": "stream",
     "text": [
      "All PyTorch model weights were used when initializing TFBertForSequenceClassification.\n",
      "\n",
      "Some weights or buffers of the TF 2.0 model TFBertForSequenceClassification were not initialized from the PyTorch model and are newly initialized: ['classifier.weight', 'classifier.bias']\n",
      "You should probably TRAIN this model on a down-stream task to be able to use it for predictions and inference.\n",
      "WARNING:absl:At this time, the v2.11+ optimizer `tf.keras.optimizers.Adam` runs slowly on M1/M2 Macs, please use the legacy Keras optimizer instead, located at `tf.keras.optimizers.legacy.Adam`.\n",
      "WARNING:absl:There is a known slowdown when using v2.11+ Keras optimizers on M1/M2 Macs. Falling back to the legacy Keras optimizer, i.e., `tf.keras.optimizers.legacy.Adam`.\n"
     ]
    },
    {
     "name": "stdout",
     "output_type": "stream",
     "text": [
      "Epoch 1/10\n",
      "3/3 [==============================] - 21s 4s/step - loss: 2.8744 - accuracy: 0.0714 - val_loss: 2.8005 - val_accuracy: 0.1429\n",
      "Epoch 2/10\n",
      "3/3 [==============================] - 8s 3s/step - loss: 2.7952 - accuracy: 0.1071 - val_loss: 2.5837 - val_accuracy: 0.3333\n",
      "Epoch 3/10\n",
      "3/3 [==============================] - 8s 3s/step - loss: 2.5263 - accuracy: 0.2500 - val_loss: 2.2374 - val_accuracy: 0.4286\n",
      "Epoch 4/10\n",
      "3/3 [==============================] - 8s 3s/step - loss: 2.2314 - accuracy: 0.4048 - val_loss: 2.0012 - val_accuracy: 0.5714\n",
      "Epoch 5/10\n",
      "3/3 [==============================] - 9s 3s/step - loss: 2.0431 - accuracy: 0.5714 - val_loss: 1.7917 - val_accuracy: 0.6667\n",
      "Epoch 6/10\n",
      "3/3 [==============================] - 9s 3s/step - loss: 1.8620 - accuracy: 0.7381 - val_loss: 1.5416 - val_accuracy: 0.9048\n",
      "Epoch 7/10\n",
      "3/3 [==============================] - 9s 3s/step - loss: 1.6122 - accuracy: 0.8214 - val_loss: 1.4327 - val_accuracy: 0.8571\n",
      "Epoch 8/10\n",
      "3/3 [==============================] - 9s 3s/step - loss: 1.3005 - accuracy: 0.9167 - val_loss: 1.1422 - val_accuracy: 0.9524\n",
      "Epoch 9/10\n",
      "3/3 [==============================] - 9s 3s/step - loss: 1.0941 - accuracy: 0.9762 - val_loss: 1.0055 - val_accuracy: 0.9524\n",
      "Epoch 10/10\n",
      "3/3 [==============================] - 9s 3s/step - loss: 0.9238 - accuracy: 0.9524 - val_loss: 0.8295 - val_accuracy: 0.9524\n",
      "WARNING:tensorflow:6 out of the last 6 calls to <function Model.make_predict_function.<locals>.predict_function at 0x39ab02670> triggered tf.function retracing. Tracing is expensive and the excessive number of tracings could be due to (1) creating @tf.function repeatedly in a loop, (2) passing tensors with different shapes, (3) passing Python objects instead of tensors. For (1), please define your @tf.function outside of the loop. For (2), @tf.function has reduce_retracing=True option that can avoid unnecessary retracing. For (3), please refer to https://www.tensorflow.org/guide/function#controlling_retracing and https://www.tensorflow.org/api_docs/python/tf/function for  more details.\n"
     ]
    },
    {
     "name": "stderr",
     "output_type": "stream",
     "text": [
      "WARNING:tensorflow:6 out of the last 6 calls to <function Model.make_predict_function.<locals>.predict_function at 0x39ab02670> triggered tf.function retracing. Tracing is expensive and the excessive number of tracings could be due to (1) creating @tf.function repeatedly in a loop, (2) passing tensors with different shapes, (3) passing Python objects instead of tensors. For (1), please define your @tf.function outside of the loop. For (2), @tf.function has reduce_retracing=True option that can avoid unnecessary retracing. For (3), please refer to https://www.tensorflow.org/guide/function#controlling_retracing and https://www.tensorflow.org/api_docs/python/tf/function for  more details.\n"
     ]
    },
    {
     "name": "stdout",
     "output_type": "stream",
     "text": [
      "1/1 [==============================] - 3s 3s/step\n",
      "Fold 1 results - Accuracy: 9.52%, Precision: 7.62%, Recall: 9.52%, F1 Score: 8.47%\n",
      "Fold 2\n"
     ]
    },
    {
     "name": "stderr",
     "output_type": "stream",
     "text": [
      "All PyTorch model weights were used when initializing TFBertForSequenceClassification.\n",
      "\n",
      "Some weights or buffers of the TF 2.0 model TFBertForSequenceClassification were not initialized from the PyTorch model and are newly initialized: ['classifier.weight', 'classifier.bias']\n",
      "You should probably TRAIN this model on a down-stream task to be able to use it for predictions and inference.\n",
      "WARNING:absl:At this time, the v2.11+ optimizer `tf.keras.optimizers.Adam` runs slowly on M1/M2 Macs, please use the legacy Keras optimizer instead, located at `tf.keras.optimizers.legacy.Adam`.\n",
      "WARNING:absl:There is a known slowdown when using v2.11+ Keras optimizers on M1/M2 Macs. Falling back to the legacy Keras optimizer, i.e., `tf.keras.optimizers.legacy.Adam`.\n"
     ]
    },
    {
     "name": "stdout",
     "output_type": "stream",
     "text": [
      "Epoch 1/10\n",
      "3/3 [==============================] - 20s 4s/step - loss: 2.9203 - accuracy: 0.0357 - val_loss: 2.7853 - val_accuracy: 0.0476\n",
      "Epoch 2/10\n",
      "3/3 [==============================] - 9s 3s/step - loss: 2.7340 - accuracy: 0.1310 - val_loss: 2.8012 - val_accuracy: 0.1905\n",
      "Epoch 3/10\n",
      "3/3 [==============================] - 10s 3s/step - loss: 2.5687 - accuracy: 0.1786 - val_loss: 2.7835 - val_accuracy: 0.0476\n",
      "Epoch 4/10\n",
      "3/3 [==============================] - 9s 3s/step - loss: 2.4223 - accuracy: 0.2738 - val_loss: 2.5673 - val_accuracy: 0.2381\n",
      "Epoch 5/10\n",
      "3/3 [==============================] - 10s 3s/step - loss: 2.2875 - accuracy: 0.4048 - val_loss: 2.5224 - val_accuracy: 0.2381\n",
      "Epoch 6/10\n",
      "3/3 [==============================] - 9s 3s/step - loss: 2.0540 - accuracy: 0.5119 - val_loss: 2.1851 - val_accuracy: 0.3810\n",
      "Epoch 7/10\n",
      "3/3 [==============================] - 9s 3s/step - loss: 1.7414 - accuracy: 0.6071 - val_loss: 1.9166 - val_accuracy: 0.6190\n",
      "Epoch 8/10\n",
      "3/3 [==============================] - 10s 3s/step - loss: 1.4756 - accuracy: 0.8214 - val_loss: 1.5270 - val_accuracy: 0.7619\n",
      "Epoch 9/10\n",
      "3/3 [==============================] - 9s 3s/step - loss: 1.2360 - accuracy: 0.9286 - val_loss: 1.2763 - val_accuracy: 0.8571\n",
      "Epoch 10/10\n",
      "3/3 [==============================] - 9s 3s/step - loss: 0.9481 - accuracy: 0.9881 - val_loss: 1.0211 - val_accuracy: 0.8571\n",
      "1/1 [==============================] - 2s 2s/step\n",
      "Fold 2 results - Accuracy: 4.76%, Precision: 4.76%, Recall: 4.76%, F1 Score: 4.76%\n",
      "Fold 3\n"
     ]
    },
    {
     "name": "stderr",
     "output_type": "stream",
     "text": [
      "All PyTorch model weights were used when initializing TFBertForSequenceClassification.\n",
      "\n",
      "Some weights or buffers of the TF 2.0 model TFBertForSequenceClassification were not initialized from the PyTorch model and are newly initialized: ['classifier.weight', 'classifier.bias']\n",
      "You should probably TRAIN this model on a down-stream task to be able to use it for predictions and inference.\n",
      "WARNING:absl:At this time, the v2.11+ optimizer `tf.keras.optimizers.Adam` runs slowly on M1/M2 Macs, please use the legacy Keras optimizer instead, located at `tf.keras.optimizers.legacy.Adam`.\n",
      "WARNING:absl:There is a known slowdown when using v2.11+ Keras optimizers on M1/M2 Macs. Falling back to the legacy Keras optimizer, i.e., `tf.keras.optimizers.legacy.Adam`.\n"
     ]
    },
    {
     "name": "stdout",
     "output_type": "stream",
     "text": [
      "Epoch 1/10\n",
      "3/3 [==============================] - 19s 4s/step - loss: 2.8250 - accuracy: 0.0595 - val_loss: 2.7676 - val_accuracy: 0.0476\n",
      "Epoch 2/10\n",
      "3/3 [==============================] - 9s 3s/step - loss: 2.6653 - accuracy: 0.1548 - val_loss: 2.6157 - val_accuracy: 0.1905\n",
      "Epoch 3/10\n",
      "3/3 [==============================] - 9s 3s/step - loss: 2.5628 - accuracy: 0.2381 - val_loss: 2.3262 - val_accuracy: 0.3333\n",
      "Epoch 4/10\n",
      "3/3 [==============================] - 9s 3s/step - loss: 2.3181 - accuracy: 0.2738 - val_loss: 2.1059 - val_accuracy: 0.2857\n",
      "Epoch 5/10\n",
      "3/3 [==============================] - 9s 3s/step - loss: 2.1276 - accuracy: 0.3690 - val_loss: 1.8644 - val_accuracy: 0.2857\n",
      "Epoch 6/10\n",
      "3/3 [==============================] - 9s 3s/step - loss: 2.0002 - accuracy: 0.3810 - val_loss: 1.6550 - val_accuracy: 0.5238\n",
      "Epoch 7/10\n",
      "3/3 [==============================] - 9s 3s/step - loss: 1.7334 - accuracy: 0.6310 - val_loss: 1.5124 - val_accuracy: 0.6667\n",
      "Epoch 8/10\n",
      "3/3 [==============================] - 9s 3s/step - loss: 1.5918 - accuracy: 0.6548 - val_loss: 1.2698 - val_accuracy: 0.6667\n",
      "Epoch 9/10\n",
      "3/3 [==============================] - 9s 3s/step - loss: 1.4903 - accuracy: 0.7024 - val_loss: 1.1865 - val_accuracy: 0.6667\n",
      "Epoch 10/10\n",
      "3/3 [==============================] - 9s 3s/step - loss: 1.3459 - accuracy: 0.7976 - val_loss: 0.9806 - val_accuracy: 0.7143\n",
      "1/1 [==============================] - 3s 3s/step\n",
      "Fold 3 results - Accuracy: 14.29%, Precision: 11.90%, Recall: 14.29%, F1 Score: 12.70%\n",
      "Fold 4\n"
     ]
    },
    {
     "name": "stderr",
     "output_type": "stream",
     "text": [
      "All PyTorch model weights were used when initializing TFBertForSequenceClassification.\n",
      "\n",
      "Some weights or buffers of the TF 2.0 model TFBertForSequenceClassification were not initialized from the PyTorch model and are newly initialized: ['classifier.weight', 'classifier.bias']\n",
      "You should probably TRAIN this model on a down-stream task to be able to use it for predictions and inference.\n",
      "WARNING:absl:At this time, the v2.11+ optimizer `tf.keras.optimizers.Adam` runs slowly on M1/M2 Macs, please use the legacy Keras optimizer instead, located at `tf.keras.optimizers.legacy.Adam`.\n",
      "WARNING:absl:There is a known slowdown when using v2.11+ Keras optimizers on M1/M2 Macs. Falling back to the legacy Keras optimizer, i.e., `tf.keras.optimizers.legacy.Adam`.\n"
     ]
    },
    {
     "name": "stdout",
     "output_type": "stream",
     "text": [
      "Epoch 1/10\n",
      "3/3 [==============================] - 18s 3s/step - loss: 2.8293 - accuracy: 0.0714 - val_loss: 2.7956 - val_accuracy: 0.0952\n",
      "Epoch 2/10\n",
      "3/3 [==============================] - 9s 3s/step - loss: 2.4903 - accuracy: 0.2976 - val_loss: 2.7473 - val_accuracy: 0.0952\n",
      "Epoch 3/10\n",
      "3/3 [==============================] - 9s 3s/step - loss: 2.2411 - accuracy: 0.3571 - val_loss: 2.7443 - val_accuracy: 0.0952\n",
      "Epoch 4/10\n",
      "3/3 [==============================] - 9s 3s/step - loss: 2.0798 - accuracy: 0.4048 - val_loss: 2.6481 - val_accuracy: 0.1905\n",
      "Epoch 5/10\n",
      "3/3 [==============================] - 9s 3s/step - loss: 1.9286 - accuracy: 0.4643 - val_loss: 2.4441 - val_accuracy: 0.2857\n",
      "Epoch 6/10\n",
      "3/3 [==============================] - 9s 3s/step - loss: 1.8531 - accuracy: 0.4762 - val_loss: 2.3256 - val_accuracy: 0.3810\n",
      "Epoch 7/10\n",
      "3/3 [==============================] - 9s 3s/step - loss: 1.6286 - accuracy: 0.6667 - val_loss: 2.1383 - val_accuracy: 0.4286\n",
      "Epoch 8/10\n",
      "3/3 [==============================] - 9s 3s/step - loss: 1.4927 - accuracy: 0.7381 - val_loss: 1.9689 - val_accuracy: 0.4762\n",
      "Epoch 9/10\n",
      "3/3 [==============================] - 9s 3s/step - loss: 1.2996 - accuracy: 0.7976 - val_loss: 1.7418 - val_accuracy: 0.5238\n",
      "Epoch 10/10\n",
      "3/3 [==============================] - 9s 3s/step - loss: 1.1399 - accuracy: 0.8452 - val_loss: 1.5395 - val_accuracy: 0.6190\n",
      "1/1 [==============================] - 2s 2s/step\n",
      "Fold 4 results - Accuracy: 9.52%, Precision: 5.44%, Recall: 9.52%, F1 Score: 5.95%\n",
      "Fold 5\n"
     ]
    },
    {
     "name": "stderr",
     "output_type": "stream",
     "text": [
      "All PyTorch model weights were used when initializing TFBertForSequenceClassification.\n",
      "\n",
      "Some weights or buffers of the TF 2.0 model TFBertForSequenceClassification were not initialized from the PyTorch model and are newly initialized: ['classifier.weight', 'classifier.bias']\n",
      "You should probably TRAIN this model on a down-stream task to be able to use it for predictions and inference.\n",
      "WARNING:absl:At this time, the v2.11+ optimizer `tf.keras.optimizers.Adam` runs slowly on M1/M2 Macs, please use the legacy Keras optimizer instead, located at `tf.keras.optimizers.legacy.Adam`.\n",
      "WARNING:absl:There is a known slowdown when using v2.11+ Keras optimizers on M1/M2 Macs. Falling back to the legacy Keras optimizer, i.e., `tf.keras.optimizers.legacy.Adam`.\n"
     ]
    },
    {
     "name": "stdout",
     "output_type": "stream",
     "text": [
      "Epoch 1/10\n",
      "3/3 [==============================] - 19s 4s/step - loss: 2.8265 - accuracy: 0.0833 - val_loss: 2.7400 - val_accuracy: 0.0476\n",
      "Epoch 2/10\n",
      "3/3 [==============================] - 9s 3s/step - loss: 2.5810 - accuracy: 0.1310 - val_loss: 2.5102 - val_accuracy: 0.1905\n",
      "Epoch 3/10\n",
      "3/3 [==============================] - 9s 3s/step - loss: 2.4123 - accuracy: 0.3095 - val_loss: 2.2498 - val_accuracy: 0.3333\n",
      "Epoch 4/10\n",
      "3/3 [==============================] - 9s 3s/step - loss: 2.1981 - accuracy: 0.4405 - val_loss: 2.1210 - val_accuracy: 0.6190\n",
      "Epoch 5/10\n",
      "3/3 [==============================] - 9s 3s/step - loss: 2.0297 - accuracy: 0.6071 - val_loss: 1.8773 - val_accuracy: 0.7619\n",
      "Epoch 6/10\n",
      "3/3 [==============================] - 9s 3s/step - loss: 1.8130 - accuracy: 0.7619 - val_loss: 1.6719 - val_accuracy: 0.8571\n",
      "Epoch 7/10\n",
      "3/3 [==============================] - 9s 3s/step - loss: 1.5412 - accuracy: 0.7976 - val_loss: 1.4072 - val_accuracy: 0.9524\n",
      "Epoch 8/10\n",
      "3/3 [==============================] - 9s 3s/step - loss: 1.3339 - accuracy: 0.8810 - val_loss: 1.1652 - val_accuracy: 0.9524\n",
      "Epoch 9/10\n",
      "3/3 [==============================] - 9s 3s/step - loss: 1.0778 - accuracy: 0.9524 - val_loss: 0.9618 - val_accuracy: 0.9524\n",
      "Epoch 10/10\n",
      "3/3 [==============================] - 9s 3s/step - loss: 0.8176 - accuracy: 0.9643 - val_loss: 0.7948 - val_accuracy: 1.0000\n",
      "1/1 [==============================] - 3s 3s/step\n",
      "Fold 5 results - Accuracy: 0.00%, Precision: 0.00%, Recall: 0.00%, F1 Score: 0.00%\n"
     ]
    }
   ],
   "source": [
    "# K-fold cross-validation\n",
    "kf = KFold(n_splits=N_SPLITS, shuffle=True, random_state=42)\n",
    "fold = 0\n",
    "results = []\n",
    "\n",
    "training_times = []\n",
    "training_losses = []\n",
    "validation_losses = []\n",
    "\n",
    "for train_index, test_index in kf.split(questions):\n",
    "    fold += 1\n",
    "    print(f\"Fold {fold}\")\n",
    "\n",
    "    train_questions = [questions[i] for i in train_index]\n",
    "    test_questions = [questions[i] for i in test_index]\n",
    "    train_labels = [encoded_labels[i] for i in train_index]\n",
    "    test_labels = [encoded_labels[i] for i in test_index]\n",
    "\n",
    "    train_encodings = tokenize_data(train_questions, max_length=MAX_LENGTH)\n",
    "    test_encodings = tokenize_data(test_questions, max_length=MAX_LENGTH)\n",
    "\n",
    "    train_dataset = convert_to_tf_dataset(train_encodings, train_labels, batch_size=BATCH_SIZE)\n",
    "    test_dataset = convert_to_tf_dataset(test_encodings, test_labels, batch_size=BATCH_SIZE)\n",
    "\n",
    "    # Load BERT model for sequence classification\n",
    "    model = TFBertForSequenceClassification.from_pretrained(MODEL_TYPE, num_labels=len(label_encoder.classes_))\n",
    "\n",
    "    # Compile the model\n",
    "    optimizer = tf.keras.optimizers.Adam(learning_rate=LEARNING_RATE)\n",
    "    loss = tf.keras.losses.SparseCategoricalCrossentropy(from_logits=True)\n",
    "    metrics = [tf.keras.metrics.SparseCategoricalAccuracy('accuracy')]\n",
    "\n",
    "    model.compile(optimizer=optimizer, loss=loss, metrics=metrics)\n",
    "\n",
    "    # Train the model\n",
    "    start_time = time.time()\n",
    "    history = model.fit(train_dataset, epochs=EPOCHS, validation_data=test_dataset, verbose=1)\n",
    "    training_time = time.time() - start_time\n",
    "\n",
    "    training_times.append(training_time)\n",
    "    training_losses.append(np.mean(history.history['loss']))\n",
    "    validation_losses.append(np.mean(history.history['val_loss']))\n",
    "\n",
    "    # Evaluate the model\n",
    "    predictions = model.predict(test_dataset).logits\n",
    "    predictions = np.argmax(predictions, axis=1)\n",
    "\n",
    "    accuracy = accuracy_score(test_labels, predictions) * 100\n",
    "    precision = precision_score(test_labels, predictions, average='weighted') * 100\n",
    "    recall = recall_score(test_labels, predictions, average='weighted') * 100\n",
    "    f1 = f1_score(test_labels, predictions, average='weighted') * 100\n",
    "\n",
    "    results.append({\n",
    "        'fold': fold,\n",
    "        'accuracy': accuracy,\n",
    "        'precision': precision,\n",
    "        'recall': recall,\n",
    "        'f1': f1\n",
    "    })\n",
    "\n",
    "    print(f\"Fold {fold} results - Accuracy: {accuracy:.2f}%, Precision: {precision:.2f}%, Recall: {recall:.2f}%, F1 Score: {f1:.2f}%\")"
   ]
  },
  {
   "cell_type": "code",
   "execution_count": 16,
   "id": "5afea0cd-b4b7-4c70-be75-ab215438d9ad",
   "metadata": {},
   "outputs": [
    {
     "name": "stdout",
     "output_type": "stream",
     "text": [
      "\n",
      "Average results across all folds:\n",
      "Accuracy: 7.62%\n",
      "Precision: 5.95%\n",
      "Recall: 7.62%\n",
      "F1: 6.38%\n",
      "Average Training Time: 100.02 seconds\n",
      "Average Training Loss: 1.9585\n",
      "Average Validation Loss: 1.9526\n"
     ]
    }
   ],
   "source": [
    "# Calculate and print average metrics\n",
    "average_results = {metric: np.mean([result[metric] for result in results]) for metric in results[0].keys() if metric != 'fold'}\n",
    "average_training_time = np.mean(training_times)\n",
    "average_training_loss = np.mean(training_losses)\n",
    "average_validation_loss = np.mean(validation_losses)\n",
    "\n",
    "print(\"\\nAverage results across all folds:\")\n",
    "for metric, value in average_results.items():\n",
    "    print(f\"{metric.capitalize()}: {value:.2f}%\")\n",
    "\n",
    "print(f\"Average Training Time: {average_training_time:.2f} seconds\")\n",
    "print(f\"Average Training Loss: {average_training_loss:.4f}\")\n",
    "print(f\"Average Validation Loss: {average_validation_loss:.4f}\")"
   ]
  },
  {
   "cell_type": "code",
   "execution_count": 17,
   "id": "5c619688-a814-40dc-b421-788e66f9defa",
   "metadata": {},
   "outputs": [
    {
     "name": "stderr",
     "output_type": "stream",
     "text": [
      "Some layers from the model checkpoint at bert_chatbot_model were not used when initializing TFBertForSequenceClassification: ['dropout_739']\n",
      "- This IS expected if you are initializing TFBertForSequenceClassification from the checkpoint of a model trained on another task or with another architecture (e.g. initializing a BertForSequenceClassification model from a BertForPreTraining model).\n",
      "- This IS NOT expected if you are initializing TFBertForSequenceClassification from the checkpoint of a model that you expect to be exactly identical (initializing a BertForSequenceClassification model from a BertForSequenceClassification model).\n",
      "All the layers of TFBertForSequenceClassification were initialized from the model checkpoint at bert_chatbot_model.\n",
      "If your task is similar to the task the model of the checkpoint was trained on, you can already use TFBertForSequenceClassification for predictions without further training.\n"
     ]
    }
   ],
   "source": [
    "# Save the final model, tokenizer, and label encoder\n",
    "model.save_pretrained('bert_chatbot_model')\n",
    "tokenizer.save_pretrained('bert_chatbot_tokenizer')\n",
    "np.save('label_encoder_classes.npy', label_encoder.classes_)\n",
    "\n",
    "# Load the model, tokenizer, and label encoder\n",
    "model = TFBertForSequenceClassification.from_pretrained('bert_chatbot_model')\n",
    "tokenizer = BertTokenizer.from_pretrained('bert_chatbot_tokenizer')\n",
    "label_encoder = LabelEncoder()\n",
    "label_encoder.classes_ = np.load('label_encoder_classes.npy', allow_pickle=True)"
   ]
  },
  {
   "cell_type": "code",
   "execution_count": 18,
   "id": "9f133d2a-f98a-4498-b5f8-19bb052ccbca",
   "metadata": {},
   "outputs": [
    {
     "name": "stdout",
     "output_type": "stream",
     "text": [
      "Start chatting with the bot (type 'exit' to stop)!\n"
     ]
    },
    {
     "name": "stdin",
     "output_type": "stream",
     "text": [
      "You:  quit\n"
     ]
    },
    {
     "name": "stdout",
     "output_type": "stream",
     "text": [
      "Chatbot: Good day! What do you need help with?\n"
     ]
    },
    {
     "name": "stdin",
     "output_type": "stream",
     "text": [
      "You:  exit\n"
     ]
    },
    {
     "name": "stdout",
     "output_type": "stream",
     "text": [
      "Chatbot: Goodbye!\n"
     ]
    }
   ],
   "source": [
    "# Load the dataset again for responses\n",
    "with open('Combined_training.json', 'r') as f:\n",
    "    data = json.load(f)\n",
    "\n",
    "# Create a dictionary to map tags to responses\n",
    "tag_to_response = {intent['tag']: intent['responses'] for intent in data['intents']}\n",
    "\n",
    "# Function to chat with the model\n",
    "def chat_with_bert(user_input):\n",
    "    # Tokenize the user input\n",
    "    inputs = tokenizer(user_input, return_tensors='tf', max_length=128, padding='max_length', truncation=True)\n",
    "    \n",
    "    # Predict the response\n",
    "    outputs = model(inputs)\n",
    "    predicted_label = tf.argmax(outputs.logits, axis=1).numpy()[0]\n",
    "    predicted_tag = label_encoder.inverse_transform([predicted_label])[0]\n",
    "    \n",
    "    # Get the response from the tag_to_response dictionary\n",
    "    if predicted_tag in tag_to_response:\n",
    "        predicted_response = np.random.choice(tag_to_response[predicted_tag])\n",
    "    else:\n",
    "        predicted_response = \"I'm not sure how to respond to that. Can you please rephrase?\"\n",
    "\n",
    "    return predicted_response\n",
    "\n",
    "# Interactive chat\n",
    "print(\"Start chatting with the bot (type 'exit' to stop)!\")\n",
    "while True:\n",
    "    user_input = input(\"You: \")\n",
    "    if user_input.lower() == 'exit':\n",
    "        print(\"Chatbot: Goodbye!\")\n",
    "        break\n",
    "    response = chat_with_bert(user_input)\n",
    "    print(f\"Chatbot: {response}\")\n"
   ]
  },
  {
   "cell_type": "code",
   "execution_count": null,
   "id": "c1d5db6b-98ba-4798-8c55-a471934dc004",
   "metadata": {},
   "outputs": [],
   "source": []
  },
  {
   "cell_type": "code",
   "execution_count": null,
   "id": "77e490ea-90ff-429d-9e45-d95a51d16f38",
   "metadata": {},
   "outputs": [],
   "source": []
  },
  {
   "cell_type": "code",
   "execution_count": null,
   "id": "b5c5c5ca-94e7-43a7-9040-d5bdb0e17875",
   "metadata": {},
   "outputs": [],
   "source": []
  },
  {
   "cell_type": "code",
   "execution_count": null,
   "id": "8dda1cfe-4bda-483b-b398-ea6f6c73cb95",
   "metadata": {},
   "outputs": [],
   "source": []
  },
  {
   "cell_type": "code",
   "execution_count": null,
   "id": "d4822a9b-f230-4d74-840c-844991f4ad6c",
   "metadata": {},
   "outputs": [],
   "source": []
  },
  {
   "cell_type": "code",
   "execution_count": 19,
   "id": "9913dfbb-a987-43e0-abcc-abcf55e8988d",
   "metadata": {},
   "outputs": [],
   "source": [
    "#distilbert-base-uncased"
   ]
  },
  {
   "cell_type": "code",
   "execution_count": 20,
   "id": "ffef5e28-bcd7-49ce-8e92-19fb2df25b89",
   "metadata": {},
   "outputs": [],
   "source": [
    "import json\n",
    "import numpy as np\n",
    "import nltk\n",
    "import time\n",
    "import random\n",
    "import string\n",
    "import tensorflow as tf\n",
    "from sklearn.model_selection import KFold\n",
    "from sklearn.preprocessing import LabelEncoder\n",
    "from sklearn.metrics import accuracy_score, precision_score, recall_score, f1_score\n",
    "from transformers import DistilBertTokenizer, TFDistilBertForSequenceClassification\n",
    "\n",
    "import warnings\n",
    "warnings.filterwarnings('ignore')"
   ]
  },
  {
   "cell_type": "code",
   "execution_count": 21,
   "id": "11329d45-0e1a-4afd-94bc-ae6ebc202896",
   "metadata": {},
   "outputs": [],
   "source": [
    "# Load and preprocess your dataset\n",
    "with open('Combined_training.json', 'r') as f:\n",
    "    data = json.load(f)\n",
    "\n",
    "# Extract patterns and responses\n",
    "questions = []\n",
    "labels = []\n",
    "\n",
    "for intent in data['intents']:\n",
    "    for pattern in intent['patterns']:\n",
    "        questions.append(pattern)\n",
    "        labels.append(intent['tag'])     "
   ]
  },
  {
   "cell_type": "code",
   "execution_count": 22,
   "id": "afe165b1-02d3-4ebf-a31c-bb95630d2feb",
   "metadata": {},
   "outputs": [
    {
     "name": "stderr",
     "output_type": "stream",
     "text": [
      "Some weights of the PyTorch model were not used when initializing the TF 2.0 model TFDistilBertForSequenceClassification: ['vocab_transform.weight', 'vocab_layer_norm.weight', 'vocab_transform.bias', 'vocab_projector.bias', 'vocab_layer_norm.bias']\n",
      "- This IS expected if you are initializing TFDistilBertForSequenceClassification from a PyTorch model trained on another task or with another architecture (e.g. initializing a TFBertForSequenceClassification model from a BertForPreTraining model).\n",
      "- This IS NOT expected if you are initializing TFDistilBertForSequenceClassification from a PyTorch model that you expect to be exactly identical (e.g. initializing a TFBertForSequenceClassification model from a BertForSequenceClassification model).\n",
      "Some weights or buffers of the TF 2.0 model TFDistilBertForSequenceClassification were not initialized from the PyTorch model and are newly initialized: ['pre_classifier.weight', 'pre_classifier.bias', 'classifier.weight', 'classifier.bias']\n",
      "You should probably TRAIN this model on a down-stream task to be able to use it for predictions and inference.\n"
     ]
    }
   ],
   "source": [
    "# Load DistilBERT tokenizer and model\n",
    "MODEL_TYPE = 'distilbert-base-uncased'\n",
    "tokenizer = DistilBertTokenizer.from_pretrained(MODEL_TYPE)\n",
    "model = TFDistilBertForSequenceClassification.from_pretrained(MODEL_TYPE, num_labels=len(set(labels)))\n",
    "\n",
    "# Tokenize the data\n",
    "def tokenize_data(questions, max_length=128):\n",
    "    return tokenizer(questions, truncation=True, padding=True, max_length=max_length)\n",
    "\n",
    "# Convert data to TensorFlow Dataset format\n",
    "def convert_to_tf_dataset(encodings, labels, batch_size):\n",
    "    dataset = tf.data.Dataset.from_tensor_slices((dict(encodings), labels))\n",
    "    dataset = dataset.shuffle(len(labels)).batch(batch_size)\n",
    "    return dataset"
   ]
  },
  {
   "cell_type": "code",
   "execution_count": 23,
   "id": "5a086529-fa84-4154-a4c4-b0dfc096b01d",
   "metadata": {},
   "outputs": [],
   "source": [
    "# Hyperparameters\n",
    "MAX_LENGTH = 128\n",
    "BATCH_SIZE = 32\n",
    "LEARNING_RATE = 5e-5\n",
    "EPOCHS = 10\n",
    "N_SPLITS = 5"
   ]
  },
  {
   "cell_type": "code",
   "execution_count": 24,
   "id": "d3b6db2b-3996-44e8-8acc-08c9d8a1711d",
   "metadata": {},
   "outputs": [
    {
     "name": "stderr",
     "output_type": "stream",
     "text": [
      "You are using a model of type distilbert to instantiate a model of type bert. This is not supported for all configurations of models and can yield errors.\n"
     ]
    },
    {
     "name": "stdout",
     "output_type": "stream",
     "text": [
      "Fold 1\n"
     ]
    },
    {
     "name": "stderr",
     "output_type": "stream",
     "text": [
      "Some weights of the PyTorch model were not used when initializing the TF 2.0 model TFBertForSequenceClassification: ['distilbert.transformer.layer.4.attention.out_lin.weight', 'distilbert.transformer.layer.0.attention.v_lin.bias', 'distilbert.transformer.layer.4.output_layer_norm.bias', 'distilbert.transformer.layer.0.attention.k_lin.weight', 'distilbert.transformer.layer.2.attention.out_lin.bias', 'distilbert.transformer.layer.4.sa_layer_norm.weight', 'distilbert.transformer.layer.0.attention.v_lin.weight', 'distilbert.transformer.layer.0.attention.q_lin.weight', 'distilbert.transformer.layer.2.ffn.lin2.bias', 'distilbert.transformer.layer.4.ffn.lin1.weight', 'distilbert.transformer.layer.0.sa_layer_norm.bias', 'distilbert.transformer.layer.1.ffn.lin1.weight', 'distilbert.transformer.layer.5.attention.q_lin.weight', 'distilbert.transformer.layer.5.sa_layer_norm.weight', 'distilbert.transformer.layer.2.attention.q_lin.weight', 'distilbert.transformer.layer.4.attention.k_lin.bias', 'distilbert.transformer.layer.3.attention.out_lin.bias', 'distilbert.transformer.layer.5.attention.q_lin.bias', 'distilbert.transformer.layer.3.ffn.lin1.weight', 'distilbert.transformer.layer.3.attention.q_lin.weight', 'distilbert.transformer.layer.2.sa_layer_norm.weight', 'distilbert.transformer.layer.1.sa_layer_norm.bias', 'distilbert.transformer.layer.3.ffn.lin1.bias', 'distilbert.transformer.layer.5.attention.out_lin.weight', 'distilbert.transformer.layer.2.ffn.lin1.bias', 'distilbert.transformer.layer.0.attention.out_lin.bias', 'distilbert.transformer.layer.3.attention.out_lin.weight', 'distilbert.transformer.layer.2.attention.v_lin.weight', 'distilbert.transformer.layer.4.attention.v_lin.bias', 'distilbert.transformer.layer.3.sa_layer_norm.bias', 'distilbert.transformer.layer.4.sa_layer_norm.bias', 'distilbert.transformer.layer.1.ffn.lin1.bias', 'distilbert.transformer.layer.1.sa_layer_norm.weight', 'vocab_transform.weight', 'distilbert.transformer.layer.0.sa_layer_norm.weight', 'vocab_layer_norm.weight', 'distilbert.transformer.layer.1.output_layer_norm.weight', 'distilbert.transformer.layer.3.ffn.lin2.bias', 'distilbert.transformer.layer.1.attention.v_lin.bias', 'distilbert.transformer.layer.1.attention.out_lin.weight', 'distilbert.transformer.layer.0.ffn.lin1.weight', 'distilbert.transformer.layer.3.attention.k_lin.weight', 'distilbert.transformer.layer.1.ffn.lin2.weight', 'distilbert.transformer.layer.3.attention.q_lin.bias', 'distilbert.transformer.layer.3.attention.v_lin.bias', 'vocab_transform.bias', 'distilbert.transformer.layer.3.output_layer_norm.weight', 'distilbert.transformer.layer.2.attention.k_lin.bias', 'vocab_projector.bias', 'distilbert.transformer.layer.0.output_layer_norm.weight', 'distilbert.transformer.layer.4.attention.q_lin.bias', 'distilbert.transformer.layer.3.ffn.lin2.weight', 'distilbert.transformer.layer.4.attention.v_lin.weight', 'distilbert.transformer.layer.3.attention.v_lin.weight', 'distilbert.transformer.layer.4.ffn.lin2.bias', 'distilbert.transformer.layer.2.ffn.lin1.weight', 'distilbert.embeddings.word_embeddings.weight', 'distilbert.transformer.layer.0.ffn.lin2.weight', 'distilbert.embeddings.LayerNorm.bias', 'distilbert.transformer.layer.4.ffn.lin2.weight', 'distilbert.transformer.layer.5.ffn.lin2.weight', 'distilbert.transformer.layer.2.attention.v_lin.bias', 'distilbert.transformer.layer.0.attention.q_lin.bias', 'distilbert.transformer.layer.5.ffn.lin1.bias', 'vocab_layer_norm.bias', 'distilbert.transformer.layer.0.attention.k_lin.bias', 'distilbert.transformer.layer.4.output_layer_norm.weight', 'distilbert.transformer.layer.3.attention.k_lin.bias', 'distilbert.transformer.layer.5.output_layer_norm.weight', 'distilbert.transformer.layer.2.output_layer_norm.bias', 'distilbert.transformer.layer.1.ffn.lin2.bias', 'distilbert.transformer.layer.5.ffn.lin1.weight', 'distilbert.transformer.layer.5.attention.v_lin.weight', 'distilbert.embeddings.LayerNorm.weight', 'distilbert.transformer.layer.3.output_layer_norm.bias', 'distilbert.transformer.layer.2.attention.q_lin.bias', 'distilbert.transformer.layer.1.attention.out_lin.bias', 'distilbert.transformer.layer.1.attention.v_lin.weight', 'distilbert.transformer.layer.4.ffn.lin1.bias', 'distilbert.transformer.layer.5.output_layer_norm.bias', 'distilbert.transformer.layer.2.output_layer_norm.weight', 'distilbert.transformer.layer.0.attention.out_lin.weight', 'distilbert.transformer.layer.4.attention.k_lin.weight', 'distilbert.transformer.layer.0.output_layer_norm.bias', 'distilbert.transformer.layer.0.ffn.lin1.bias', 'distilbert.transformer.layer.1.attention.q_lin.bias', 'distilbert.transformer.layer.5.attention.k_lin.weight', 'distilbert.transformer.layer.1.attention.q_lin.weight', 'distilbert.transformer.layer.5.ffn.lin2.bias', 'distilbert.transformer.layer.1.output_layer_norm.bias', 'distilbert.transformer.layer.3.sa_layer_norm.weight', 'distilbert.transformer.layer.4.attention.q_lin.weight', 'distilbert.transformer.layer.2.attention.out_lin.weight', 'distilbert.transformer.layer.4.attention.out_lin.bias', 'distilbert.transformer.layer.5.attention.k_lin.bias', 'distilbert.transformer.layer.2.ffn.lin2.weight', 'distilbert.transformer.layer.2.attention.k_lin.weight', 'distilbert.transformer.layer.1.attention.k_lin.bias', 'distilbert.transformer.layer.1.attention.k_lin.weight', 'distilbert.transformer.layer.5.attention.v_lin.bias', 'distilbert.transformer.layer.2.sa_layer_norm.bias', 'distilbert.embeddings.position_embeddings.weight', 'distilbert.transformer.layer.5.attention.out_lin.bias', 'distilbert.transformer.layer.5.sa_layer_norm.bias', 'distilbert.transformer.layer.0.ffn.lin2.bias']\n",
      "- This IS expected if you are initializing TFBertForSequenceClassification from a PyTorch model trained on another task or with another architecture (e.g. initializing a TFBertForSequenceClassification model from a BertForPreTraining model).\n",
      "- This IS NOT expected if you are initializing TFBertForSequenceClassification from a PyTorch model that you expect to be exactly identical (e.g. initializing a TFBertForSequenceClassification model from a BertForSequenceClassification model).\n",
      "Some weights or buffers of the TF 2.0 model TFBertForSequenceClassification were not initialized from the PyTorch model and are newly initialized: ['embeddings.word_embeddings.weight', 'embeddings.token_type_embeddings.weight', 'embeddings.position_embeddings.weight', 'embeddings.LayerNorm.weight', 'embeddings.LayerNorm.bias', 'encoder.layer.0.attention.self.query.weight', 'encoder.layer.0.attention.self.query.bias', 'encoder.layer.0.attention.self.key.weight', 'encoder.layer.0.attention.self.key.bias', 'encoder.layer.0.attention.self.value.weight', 'encoder.layer.0.attention.self.value.bias', 'encoder.layer.0.attention.output.dense.weight', 'encoder.layer.0.attention.output.dense.bias', 'encoder.layer.0.attention.output.LayerNorm.weight', 'encoder.layer.0.attention.output.LayerNorm.bias', 'encoder.layer.0.intermediate.dense.weight', 'encoder.layer.0.intermediate.dense.bias', 'encoder.layer.0.output.dense.weight', 'encoder.layer.0.output.dense.bias', 'encoder.layer.0.output.LayerNorm.weight', 'encoder.layer.0.output.LayerNorm.bias', 'encoder.layer.1.attention.self.query.weight', 'encoder.layer.1.attention.self.query.bias', 'encoder.layer.1.attention.self.key.weight', 'encoder.layer.1.attention.self.key.bias', 'encoder.layer.1.attention.self.value.weight', 'encoder.layer.1.attention.self.value.bias', 'encoder.layer.1.attention.output.dense.weight', 'encoder.layer.1.attention.output.dense.bias', 'encoder.layer.1.attention.output.LayerNorm.weight', 'encoder.layer.1.attention.output.LayerNorm.bias', 'encoder.layer.1.intermediate.dense.weight', 'encoder.layer.1.intermediate.dense.bias', 'encoder.layer.1.output.dense.weight', 'encoder.layer.1.output.dense.bias', 'encoder.layer.1.output.LayerNorm.weight', 'encoder.layer.1.output.LayerNorm.bias', 'encoder.layer.2.attention.self.query.weight', 'encoder.layer.2.attention.self.query.bias', 'encoder.layer.2.attention.self.key.weight', 'encoder.layer.2.attention.self.key.bias', 'encoder.layer.2.attention.self.value.weight', 'encoder.layer.2.attention.self.value.bias', 'encoder.layer.2.attention.output.dense.weight', 'encoder.layer.2.attention.output.dense.bias', 'encoder.layer.2.attention.output.LayerNorm.weight', 'encoder.layer.2.attention.output.LayerNorm.bias', 'encoder.layer.2.intermediate.dense.weight', 'encoder.layer.2.intermediate.dense.bias', 'encoder.layer.2.output.dense.weight', 'encoder.layer.2.output.dense.bias', 'encoder.layer.2.output.LayerNorm.weight', 'encoder.layer.2.output.LayerNorm.bias', 'encoder.layer.3.attention.self.query.weight', 'encoder.layer.3.attention.self.query.bias', 'encoder.layer.3.attention.self.key.weight', 'encoder.layer.3.attention.self.key.bias', 'encoder.layer.3.attention.self.value.weight', 'encoder.layer.3.attention.self.value.bias', 'encoder.layer.3.attention.output.dense.weight', 'encoder.layer.3.attention.output.dense.bias', 'encoder.layer.3.attention.output.LayerNorm.weight', 'encoder.layer.3.attention.output.LayerNorm.bias', 'encoder.layer.3.intermediate.dense.weight', 'encoder.layer.3.intermediate.dense.bias', 'encoder.layer.3.output.dense.weight', 'encoder.layer.3.output.dense.bias', 'encoder.layer.3.output.LayerNorm.weight', 'encoder.layer.3.output.LayerNorm.bias', 'encoder.layer.4.attention.self.query.weight', 'encoder.layer.4.attention.self.query.bias', 'encoder.layer.4.attention.self.key.weight', 'encoder.layer.4.attention.self.key.bias', 'encoder.layer.4.attention.self.value.weight', 'encoder.layer.4.attention.self.value.bias', 'encoder.layer.4.attention.output.dense.weight', 'encoder.layer.4.attention.output.dense.bias', 'encoder.layer.4.attention.output.LayerNorm.weight', 'encoder.layer.4.attention.output.LayerNorm.bias', 'encoder.layer.4.intermediate.dense.weight', 'encoder.layer.4.intermediate.dense.bias', 'encoder.layer.4.output.dense.weight', 'encoder.layer.4.output.dense.bias', 'encoder.layer.4.output.LayerNorm.weight', 'encoder.layer.4.output.LayerNorm.bias', 'encoder.layer.5.attention.self.query.weight', 'encoder.layer.5.attention.self.query.bias', 'encoder.layer.5.attention.self.key.weight', 'encoder.layer.5.attention.self.key.bias', 'encoder.layer.5.attention.self.value.weight', 'encoder.layer.5.attention.self.value.bias', 'encoder.layer.5.attention.output.dense.weight', 'encoder.layer.5.attention.output.dense.bias', 'encoder.layer.5.attention.output.LayerNorm.weight', 'encoder.layer.5.attention.output.LayerNorm.bias', 'encoder.layer.5.intermediate.dense.weight', 'encoder.layer.5.intermediate.dense.bias', 'encoder.layer.5.output.dense.weight', 'encoder.layer.5.output.dense.bias', 'encoder.layer.5.output.LayerNorm.weight', 'encoder.layer.5.output.LayerNorm.bias', 'encoder.layer.6.attention.self.query.weight', 'encoder.layer.6.attention.self.query.bias', 'encoder.layer.6.attention.self.key.weight', 'encoder.layer.6.attention.self.key.bias', 'encoder.layer.6.attention.self.value.weight', 'encoder.layer.6.attention.self.value.bias', 'encoder.layer.6.attention.output.dense.weight', 'encoder.layer.6.attention.output.dense.bias', 'encoder.layer.6.attention.output.LayerNorm.weight', 'encoder.layer.6.attention.output.LayerNorm.bias', 'encoder.layer.6.intermediate.dense.weight', 'encoder.layer.6.intermediate.dense.bias', 'encoder.layer.6.output.dense.weight', 'encoder.layer.6.output.dense.bias', 'encoder.layer.6.output.LayerNorm.weight', 'encoder.layer.6.output.LayerNorm.bias', 'encoder.layer.7.attention.self.query.weight', 'encoder.layer.7.attention.self.query.bias', 'encoder.layer.7.attention.self.key.weight', 'encoder.layer.7.attention.self.key.bias', 'encoder.layer.7.attention.self.value.weight', 'encoder.layer.7.attention.self.value.bias', 'encoder.layer.7.attention.output.dense.weight', 'encoder.layer.7.attention.output.dense.bias', 'encoder.layer.7.attention.output.LayerNorm.weight', 'encoder.layer.7.attention.output.LayerNorm.bias', 'encoder.layer.7.intermediate.dense.weight', 'encoder.layer.7.intermediate.dense.bias', 'encoder.layer.7.output.dense.weight', 'encoder.layer.7.output.dense.bias', 'encoder.layer.7.output.LayerNorm.weight', 'encoder.layer.7.output.LayerNorm.bias', 'encoder.layer.8.attention.self.query.weight', 'encoder.layer.8.attention.self.query.bias', 'encoder.layer.8.attention.self.key.weight', 'encoder.layer.8.attention.self.key.bias', 'encoder.layer.8.attention.self.value.weight', 'encoder.layer.8.attention.self.value.bias', 'encoder.layer.8.attention.output.dense.weight', 'encoder.layer.8.attention.output.dense.bias', 'encoder.layer.8.attention.output.LayerNorm.weight', 'encoder.layer.8.attention.output.LayerNorm.bias', 'encoder.layer.8.intermediate.dense.weight', 'encoder.layer.8.intermediate.dense.bias', 'encoder.layer.8.output.dense.weight', 'encoder.layer.8.output.dense.bias', 'encoder.layer.8.output.LayerNorm.weight', 'encoder.layer.8.output.LayerNorm.bias', 'encoder.layer.9.attention.self.query.weight', 'encoder.layer.9.attention.self.query.bias', 'encoder.layer.9.attention.self.key.weight', 'encoder.layer.9.attention.self.key.bias', 'encoder.layer.9.attention.self.value.weight', 'encoder.layer.9.attention.self.value.bias', 'encoder.layer.9.attention.output.dense.weight', 'encoder.layer.9.attention.output.dense.bias', 'encoder.layer.9.attention.output.LayerNorm.weight', 'encoder.layer.9.attention.output.LayerNorm.bias', 'encoder.layer.9.intermediate.dense.weight', 'encoder.layer.9.intermediate.dense.bias', 'encoder.layer.9.output.dense.weight', 'encoder.layer.9.output.dense.bias', 'encoder.layer.9.output.LayerNorm.weight', 'encoder.layer.9.output.LayerNorm.bias', 'encoder.layer.10.attention.self.query.weight', 'encoder.layer.10.attention.self.query.bias', 'encoder.layer.10.attention.self.key.weight', 'encoder.layer.10.attention.self.key.bias', 'encoder.layer.10.attention.self.value.weight', 'encoder.layer.10.attention.self.value.bias', 'encoder.layer.10.attention.output.dense.weight', 'encoder.layer.10.attention.output.dense.bias', 'encoder.layer.10.attention.output.LayerNorm.weight', 'encoder.layer.10.attention.output.LayerNorm.bias', 'encoder.layer.10.intermediate.dense.weight', 'encoder.layer.10.intermediate.dense.bias', 'encoder.layer.10.output.dense.weight', 'encoder.layer.10.output.dense.bias', 'encoder.layer.10.output.LayerNorm.weight', 'encoder.layer.10.output.LayerNorm.bias', 'encoder.layer.11.attention.self.query.weight', 'encoder.layer.11.attention.self.query.bias', 'encoder.layer.11.attention.self.key.weight', 'encoder.layer.11.attention.self.key.bias', 'encoder.layer.11.attention.self.value.weight', 'encoder.layer.11.attention.self.value.bias', 'encoder.layer.11.attention.output.dense.weight', 'encoder.layer.11.attention.output.dense.bias', 'encoder.layer.11.attention.output.LayerNorm.weight', 'encoder.layer.11.attention.output.LayerNorm.bias', 'encoder.layer.11.intermediate.dense.weight', 'encoder.layer.11.intermediate.dense.bias', 'encoder.layer.11.output.dense.weight', 'encoder.layer.11.output.dense.bias', 'encoder.layer.11.output.LayerNorm.weight', 'encoder.layer.11.output.LayerNorm.bias', 'pooler.dense.weight', 'pooler.dense.bias', 'classifier.weight', 'classifier.bias']\n",
      "You should probably TRAIN this model on a down-stream task to be able to use it for predictions and inference.\n",
      "WARNING:absl:At this time, the v2.11+ optimizer `tf.keras.optimizers.Adam` runs slowly on M1/M2 Macs, please use the legacy Keras optimizer instead, located at `tf.keras.optimizers.legacy.Adam`.\n",
      "WARNING:absl:There is a known slowdown when using v2.11+ Keras optimizers on M1/M2 Macs. Falling back to the legacy Keras optimizer, i.e., `tf.keras.optimizers.legacy.Adam`.\n"
     ]
    },
    {
     "name": "stdout",
     "output_type": "stream",
     "text": [
      "Epoch 1/10\n",
      "3/3 [==============================] - 7s 1s/step - loss: 2.8923 - accuracy: 0.0952 - val_loss: 2.8082 - val_accuracy: 0.1905\n",
      "Epoch 2/10\n",
      "3/3 [==============================] - 2s 787ms/step - loss: 2.7251 - accuracy: 0.1190 - val_loss: 2.7026 - val_accuracy: 0.1905\n",
      "Epoch 3/10\n",
      "3/3 [==============================] - 2s 790ms/step - loss: 2.5764 - accuracy: 0.2262 - val_loss: 2.4759 - val_accuracy: 0.1905\n",
      "Epoch 4/10\n",
      "3/3 [==============================] - 2s 803ms/step - loss: 2.3954 - accuracy: 0.2262 - val_loss: 2.2032 - val_accuracy: 0.1905\n",
      "Epoch 5/10\n",
      "3/3 [==============================] - 2s 812ms/step - loss: 2.1309 - accuracy: 0.3095 - val_loss: 2.0410 - val_accuracy: 0.2857\n",
      "Epoch 6/10\n",
      "3/3 [==============================] - 2s 817ms/step - loss: 1.8873 - accuracy: 0.6548 - val_loss: 1.8139 - val_accuracy: 0.5238\n",
      "Epoch 7/10\n",
      "3/3 [==============================] - 3s 852ms/step - loss: 1.5858 - accuracy: 0.7024 - val_loss: 1.6292 - val_accuracy: 0.4762\n",
      "Epoch 8/10\n",
      "3/3 [==============================] - 3s 822ms/step - loss: 1.2606 - accuracy: 0.8095 - val_loss: 1.1897 - val_accuracy: 0.7143\n",
      "Epoch 9/10\n",
      "3/3 [==============================] - 3s 824ms/step - loss: 0.9453 - accuracy: 0.8929 - val_loss: 1.0069 - val_accuracy: 0.8095\n",
      "Epoch 10/10\n",
      "3/3 [==============================] - 3s 824ms/step - loss: 0.7104 - accuracy: 0.9762 - val_loss: 0.7233 - val_accuracy: 0.8571\n",
      "1/1 [==============================] - 1s 895ms/step\n"
     ]
    },
    {
     "name": "stderr",
     "output_type": "stream",
     "text": [
      "You are using a model of type distilbert to instantiate a model of type bert. This is not supported for all configurations of models and can yield errors.\n"
     ]
    },
    {
     "name": "stdout",
     "output_type": "stream",
     "text": [
      "Fold 1 results - Accuracy: 4.76%, Precision: 4.76%, Recall: 4.76%, F1 Score: 4.76%\n",
      "Fold 2\n"
     ]
    },
    {
     "name": "stderr",
     "output_type": "stream",
     "text": [
      "Some weights of the PyTorch model were not used when initializing the TF 2.0 model TFBertForSequenceClassification: ['distilbert.transformer.layer.4.attention.out_lin.weight', 'distilbert.transformer.layer.0.attention.v_lin.bias', 'distilbert.transformer.layer.4.output_layer_norm.bias', 'distilbert.transformer.layer.0.attention.k_lin.weight', 'distilbert.transformer.layer.2.attention.out_lin.bias', 'distilbert.transformer.layer.4.sa_layer_norm.weight', 'distilbert.transformer.layer.0.attention.v_lin.weight', 'distilbert.transformer.layer.0.attention.q_lin.weight', 'distilbert.transformer.layer.2.ffn.lin2.bias', 'distilbert.transformer.layer.4.ffn.lin1.weight', 'distilbert.transformer.layer.0.sa_layer_norm.bias', 'distilbert.transformer.layer.1.ffn.lin1.weight', 'distilbert.transformer.layer.5.attention.q_lin.weight', 'distilbert.transformer.layer.5.sa_layer_norm.weight', 'distilbert.transformer.layer.2.attention.q_lin.weight', 'distilbert.transformer.layer.4.attention.k_lin.bias', 'distilbert.transformer.layer.3.attention.out_lin.bias', 'distilbert.transformer.layer.5.attention.q_lin.bias', 'distilbert.transformer.layer.3.ffn.lin1.weight', 'distilbert.transformer.layer.3.attention.q_lin.weight', 'distilbert.transformer.layer.2.sa_layer_norm.weight', 'distilbert.transformer.layer.1.sa_layer_norm.bias', 'distilbert.transformer.layer.3.ffn.lin1.bias', 'distilbert.transformer.layer.5.attention.out_lin.weight', 'distilbert.transformer.layer.2.ffn.lin1.bias', 'distilbert.transformer.layer.0.attention.out_lin.bias', 'distilbert.transformer.layer.3.attention.out_lin.weight', 'distilbert.transformer.layer.2.attention.v_lin.weight', 'distilbert.transformer.layer.4.attention.v_lin.bias', 'distilbert.transformer.layer.3.sa_layer_norm.bias', 'distilbert.transformer.layer.4.sa_layer_norm.bias', 'distilbert.transformer.layer.1.ffn.lin1.bias', 'distilbert.transformer.layer.1.sa_layer_norm.weight', 'vocab_transform.weight', 'distilbert.transformer.layer.0.sa_layer_norm.weight', 'vocab_layer_norm.weight', 'distilbert.transformer.layer.1.output_layer_norm.weight', 'distilbert.transformer.layer.3.ffn.lin2.bias', 'distilbert.transformer.layer.1.attention.v_lin.bias', 'distilbert.transformer.layer.1.attention.out_lin.weight', 'distilbert.transformer.layer.0.ffn.lin1.weight', 'distilbert.transformer.layer.3.attention.k_lin.weight', 'distilbert.transformer.layer.1.ffn.lin2.weight', 'distilbert.transformer.layer.3.attention.q_lin.bias', 'distilbert.transformer.layer.3.attention.v_lin.bias', 'vocab_transform.bias', 'distilbert.transformer.layer.3.output_layer_norm.weight', 'distilbert.transformer.layer.2.attention.k_lin.bias', 'vocab_projector.bias', 'distilbert.transformer.layer.0.output_layer_norm.weight', 'distilbert.transformer.layer.4.attention.q_lin.bias', 'distilbert.transformer.layer.3.ffn.lin2.weight', 'distilbert.transformer.layer.4.attention.v_lin.weight', 'distilbert.transformer.layer.3.attention.v_lin.weight', 'distilbert.transformer.layer.4.ffn.lin2.bias', 'distilbert.transformer.layer.2.ffn.lin1.weight', 'distilbert.embeddings.word_embeddings.weight', 'distilbert.transformer.layer.0.ffn.lin2.weight', 'distilbert.embeddings.LayerNorm.bias', 'distilbert.transformer.layer.4.ffn.lin2.weight', 'distilbert.transformer.layer.5.ffn.lin2.weight', 'distilbert.transformer.layer.2.attention.v_lin.bias', 'distilbert.transformer.layer.0.attention.q_lin.bias', 'distilbert.transformer.layer.5.ffn.lin1.bias', 'vocab_layer_norm.bias', 'distilbert.transformer.layer.0.attention.k_lin.bias', 'distilbert.transformer.layer.4.output_layer_norm.weight', 'distilbert.transformer.layer.3.attention.k_lin.bias', 'distilbert.transformer.layer.5.output_layer_norm.weight', 'distilbert.transformer.layer.2.output_layer_norm.bias', 'distilbert.transformer.layer.1.ffn.lin2.bias', 'distilbert.transformer.layer.5.ffn.lin1.weight', 'distilbert.transformer.layer.5.attention.v_lin.weight', 'distilbert.embeddings.LayerNorm.weight', 'distilbert.transformer.layer.3.output_layer_norm.bias', 'distilbert.transformer.layer.2.attention.q_lin.bias', 'distilbert.transformer.layer.1.attention.out_lin.bias', 'distilbert.transformer.layer.1.attention.v_lin.weight', 'distilbert.transformer.layer.4.ffn.lin1.bias', 'distilbert.transformer.layer.5.output_layer_norm.bias', 'distilbert.transformer.layer.2.output_layer_norm.weight', 'distilbert.transformer.layer.0.attention.out_lin.weight', 'distilbert.transformer.layer.4.attention.k_lin.weight', 'distilbert.transformer.layer.0.output_layer_norm.bias', 'distilbert.transformer.layer.0.ffn.lin1.bias', 'distilbert.transformer.layer.1.attention.q_lin.bias', 'distilbert.transformer.layer.5.attention.k_lin.weight', 'distilbert.transformer.layer.1.attention.q_lin.weight', 'distilbert.transformer.layer.5.ffn.lin2.bias', 'distilbert.transformer.layer.1.output_layer_norm.bias', 'distilbert.transformer.layer.3.sa_layer_norm.weight', 'distilbert.transformer.layer.4.attention.q_lin.weight', 'distilbert.transformer.layer.2.attention.out_lin.weight', 'distilbert.transformer.layer.4.attention.out_lin.bias', 'distilbert.transformer.layer.5.attention.k_lin.bias', 'distilbert.transformer.layer.2.ffn.lin2.weight', 'distilbert.transformer.layer.2.attention.k_lin.weight', 'distilbert.transformer.layer.1.attention.k_lin.bias', 'distilbert.transformer.layer.1.attention.k_lin.weight', 'distilbert.transformer.layer.5.attention.v_lin.bias', 'distilbert.transformer.layer.2.sa_layer_norm.bias', 'distilbert.embeddings.position_embeddings.weight', 'distilbert.transformer.layer.5.attention.out_lin.bias', 'distilbert.transformer.layer.5.sa_layer_norm.bias', 'distilbert.transformer.layer.0.ffn.lin2.bias']\n",
      "- This IS expected if you are initializing TFBertForSequenceClassification from a PyTorch model trained on another task or with another architecture (e.g. initializing a TFBertForSequenceClassification model from a BertForPreTraining model).\n",
      "- This IS NOT expected if you are initializing TFBertForSequenceClassification from a PyTorch model that you expect to be exactly identical (e.g. initializing a TFBertForSequenceClassification model from a BertForSequenceClassification model).\n",
      "Some weights or buffers of the TF 2.0 model TFBertForSequenceClassification were not initialized from the PyTorch model and are newly initialized: ['embeddings.word_embeddings.weight', 'embeddings.token_type_embeddings.weight', 'embeddings.position_embeddings.weight', 'embeddings.LayerNorm.weight', 'embeddings.LayerNorm.bias', 'encoder.layer.0.attention.self.query.weight', 'encoder.layer.0.attention.self.query.bias', 'encoder.layer.0.attention.self.key.weight', 'encoder.layer.0.attention.self.key.bias', 'encoder.layer.0.attention.self.value.weight', 'encoder.layer.0.attention.self.value.bias', 'encoder.layer.0.attention.output.dense.weight', 'encoder.layer.0.attention.output.dense.bias', 'encoder.layer.0.attention.output.LayerNorm.weight', 'encoder.layer.0.attention.output.LayerNorm.bias', 'encoder.layer.0.intermediate.dense.weight', 'encoder.layer.0.intermediate.dense.bias', 'encoder.layer.0.output.dense.weight', 'encoder.layer.0.output.dense.bias', 'encoder.layer.0.output.LayerNorm.weight', 'encoder.layer.0.output.LayerNorm.bias', 'encoder.layer.1.attention.self.query.weight', 'encoder.layer.1.attention.self.query.bias', 'encoder.layer.1.attention.self.key.weight', 'encoder.layer.1.attention.self.key.bias', 'encoder.layer.1.attention.self.value.weight', 'encoder.layer.1.attention.self.value.bias', 'encoder.layer.1.attention.output.dense.weight', 'encoder.layer.1.attention.output.dense.bias', 'encoder.layer.1.attention.output.LayerNorm.weight', 'encoder.layer.1.attention.output.LayerNorm.bias', 'encoder.layer.1.intermediate.dense.weight', 'encoder.layer.1.intermediate.dense.bias', 'encoder.layer.1.output.dense.weight', 'encoder.layer.1.output.dense.bias', 'encoder.layer.1.output.LayerNorm.weight', 'encoder.layer.1.output.LayerNorm.bias', 'encoder.layer.2.attention.self.query.weight', 'encoder.layer.2.attention.self.query.bias', 'encoder.layer.2.attention.self.key.weight', 'encoder.layer.2.attention.self.key.bias', 'encoder.layer.2.attention.self.value.weight', 'encoder.layer.2.attention.self.value.bias', 'encoder.layer.2.attention.output.dense.weight', 'encoder.layer.2.attention.output.dense.bias', 'encoder.layer.2.attention.output.LayerNorm.weight', 'encoder.layer.2.attention.output.LayerNorm.bias', 'encoder.layer.2.intermediate.dense.weight', 'encoder.layer.2.intermediate.dense.bias', 'encoder.layer.2.output.dense.weight', 'encoder.layer.2.output.dense.bias', 'encoder.layer.2.output.LayerNorm.weight', 'encoder.layer.2.output.LayerNorm.bias', 'encoder.layer.3.attention.self.query.weight', 'encoder.layer.3.attention.self.query.bias', 'encoder.layer.3.attention.self.key.weight', 'encoder.layer.3.attention.self.key.bias', 'encoder.layer.3.attention.self.value.weight', 'encoder.layer.3.attention.self.value.bias', 'encoder.layer.3.attention.output.dense.weight', 'encoder.layer.3.attention.output.dense.bias', 'encoder.layer.3.attention.output.LayerNorm.weight', 'encoder.layer.3.attention.output.LayerNorm.bias', 'encoder.layer.3.intermediate.dense.weight', 'encoder.layer.3.intermediate.dense.bias', 'encoder.layer.3.output.dense.weight', 'encoder.layer.3.output.dense.bias', 'encoder.layer.3.output.LayerNorm.weight', 'encoder.layer.3.output.LayerNorm.bias', 'encoder.layer.4.attention.self.query.weight', 'encoder.layer.4.attention.self.query.bias', 'encoder.layer.4.attention.self.key.weight', 'encoder.layer.4.attention.self.key.bias', 'encoder.layer.4.attention.self.value.weight', 'encoder.layer.4.attention.self.value.bias', 'encoder.layer.4.attention.output.dense.weight', 'encoder.layer.4.attention.output.dense.bias', 'encoder.layer.4.attention.output.LayerNorm.weight', 'encoder.layer.4.attention.output.LayerNorm.bias', 'encoder.layer.4.intermediate.dense.weight', 'encoder.layer.4.intermediate.dense.bias', 'encoder.layer.4.output.dense.weight', 'encoder.layer.4.output.dense.bias', 'encoder.layer.4.output.LayerNorm.weight', 'encoder.layer.4.output.LayerNorm.bias', 'encoder.layer.5.attention.self.query.weight', 'encoder.layer.5.attention.self.query.bias', 'encoder.layer.5.attention.self.key.weight', 'encoder.layer.5.attention.self.key.bias', 'encoder.layer.5.attention.self.value.weight', 'encoder.layer.5.attention.self.value.bias', 'encoder.layer.5.attention.output.dense.weight', 'encoder.layer.5.attention.output.dense.bias', 'encoder.layer.5.attention.output.LayerNorm.weight', 'encoder.layer.5.attention.output.LayerNorm.bias', 'encoder.layer.5.intermediate.dense.weight', 'encoder.layer.5.intermediate.dense.bias', 'encoder.layer.5.output.dense.weight', 'encoder.layer.5.output.dense.bias', 'encoder.layer.5.output.LayerNorm.weight', 'encoder.layer.5.output.LayerNorm.bias', 'encoder.layer.6.attention.self.query.weight', 'encoder.layer.6.attention.self.query.bias', 'encoder.layer.6.attention.self.key.weight', 'encoder.layer.6.attention.self.key.bias', 'encoder.layer.6.attention.self.value.weight', 'encoder.layer.6.attention.self.value.bias', 'encoder.layer.6.attention.output.dense.weight', 'encoder.layer.6.attention.output.dense.bias', 'encoder.layer.6.attention.output.LayerNorm.weight', 'encoder.layer.6.attention.output.LayerNorm.bias', 'encoder.layer.6.intermediate.dense.weight', 'encoder.layer.6.intermediate.dense.bias', 'encoder.layer.6.output.dense.weight', 'encoder.layer.6.output.dense.bias', 'encoder.layer.6.output.LayerNorm.weight', 'encoder.layer.6.output.LayerNorm.bias', 'encoder.layer.7.attention.self.query.weight', 'encoder.layer.7.attention.self.query.bias', 'encoder.layer.7.attention.self.key.weight', 'encoder.layer.7.attention.self.key.bias', 'encoder.layer.7.attention.self.value.weight', 'encoder.layer.7.attention.self.value.bias', 'encoder.layer.7.attention.output.dense.weight', 'encoder.layer.7.attention.output.dense.bias', 'encoder.layer.7.attention.output.LayerNorm.weight', 'encoder.layer.7.attention.output.LayerNorm.bias', 'encoder.layer.7.intermediate.dense.weight', 'encoder.layer.7.intermediate.dense.bias', 'encoder.layer.7.output.dense.weight', 'encoder.layer.7.output.dense.bias', 'encoder.layer.7.output.LayerNorm.weight', 'encoder.layer.7.output.LayerNorm.bias', 'encoder.layer.8.attention.self.query.weight', 'encoder.layer.8.attention.self.query.bias', 'encoder.layer.8.attention.self.key.weight', 'encoder.layer.8.attention.self.key.bias', 'encoder.layer.8.attention.self.value.weight', 'encoder.layer.8.attention.self.value.bias', 'encoder.layer.8.attention.output.dense.weight', 'encoder.layer.8.attention.output.dense.bias', 'encoder.layer.8.attention.output.LayerNorm.weight', 'encoder.layer.8.attention.output.LayerNorm.bias', 'encoder.layer.8.intermediate.dense.weight', 'encoder.layer.8.intermediate.dense.bias', 'encoder.layer.8.output.dense.weight', 'encoder.layer.8.output.dense.bias', 'encoder.layer.8.output.LayerNorm.weight', 'encoder.layer.8.output.LayerNorm.bias', 'encoder.layer.9.attention.self.query.weight', 'encoder.layer.9.attention.self.query.bias', 'encoder.layer.9.attention.self.key.weight', 'encoder.layer.9.attention.self.key.bias', 'encoder.layer.9.attention.self.value.weight', 'encoder.layer.9.attention.self.value.bias', 'encoder.layer.9.attention.output.dense.weight', 'encoder.layer.9.attention.output.dense.bias', 'encoder.layer.9.attention.output.LayerNorm.weight', 'encoder.layer.9.attention.output.LayerNorm.bias', 'encoder.layer.9.intermediate.dense.weight', 'encoder.layer.9.intermediate.dense.bias', 'encoder.layer.9.output.dense.weight', 'encoder.layer.9.output.dense.bias', 'encoder.layer.9.output.LayerNorm.weight', 'encoder.layer.9.output.LayerNorm.bias', 'encoder.layer.10.attention.self.query.weight', 'encoder.layer.10.attention.self.query.bias', 'encoder.layer.10.attention.self.key.weight', 'encoder.layer.10.attention.self.key.bias', 'encoder.layer.10.attention.self.value.weight', 'encoder.layer.10.attention.self.value.bias', 'encoder.layer.10.attention.output.dense.weight', 'encoder.layer.10.attention.output.dense.bias', 'encoder.layer.10.attention.output.LayerNorm.weight', 'encoder.layer.10.attention.output.LayerNorm.bias', 'encoder.layer.10.intermediate.dense.weight', 'encoder.layer.10.intermediate.dense.bias', 'encoder.layer.10.output.dense.weight', 'encoder.layer.10.output.dense.bias', 'encoder.layer.10.output.LayerNorm.weight', 'encoder.layer.10.output.LayerNorm.bias', 'encoder.layer.11.attention.self.query.weight', 'encoder.layer.11.attention.self.query.bias', 'encoder.layer.11.attention.self.key.weight', 'encoder.layer.11.attention.self.key.bias', 'encoder.layer.11.attention.self.value.weight', 'encoder.layer.11.attention.self.value.bias', 'encoder.layer.11.attention.output.dense.weight', 'encoder.layer.11.attention.output.dense.bias', 'encoder.layer.11.attention.output.LayerNorm.weight', 'encoder.layer.11.attention.output.LayerNorm.bias', 'encoder.layer.11.intermediate.dense.weight', 'encoder.layer.11.intermediate.dense.bias', 'encoder.layer.11.output.dense.weight', 'encoder.layer.11.output.dense.bias', 'encoder.layer.11.output.LayerNorm.weight', 'encoder.layer.11.output.LayerNorm.bias', 'pooler.dense.weight', 'pooler.dense.bias', 'classifier.weight', 'classifier.bias']\n",
      "You should probably TRAIN this model on a down-stream task to be able to use it for predictions and inference.\n",
      "WARNING:absl:At this time, the v2.11+ optimizer `tf.keras.optimizers.Adam` runs slowly on M1/M2 Macs, please use the legacy Keras optimizer instead, located at `tf.keras.optimizers.legacy.Adam`.\n",
      "WARNING:absl:There is a known slowdown when using v2.11+ Keras optimizers on M1/M2 Macs. Falling back to the legacy Keras optimizer, i.e., `tf.keras.optimizers.legacy.Adam`.\n"
     ]
    },
    {
     "name": "stdout",
     "output_type": "stream",
     "text": [
      "Epoch 1/10\n",
      "3/3 [==============================] - 7s 1s/step - loss: 2.9351 - accuracy: 0.1071 - val_loss: 2.9924 - val_accuracy: 0.1429\n",
      "Epoch 2/10\n",
      "3/3 [==============================] - 3s 834ms/step - loss: 2.6950 - accuracy: 0.1786 - val_loss: 2.9981 - val_accuracy: 0.1429\n",
      "Epoch 3/10\n",
      "3/3 [==============================] - 3s 826ms/step - loss: 2.6310 - accuracy: 0.1667 - val_loss: 2.8368 - val_accuracy: 0.1429\n",
      "Epoch 4/10\n",
      "3/3 [==============================] - 3s 830ms/step - loss: 2.5620 - accuracy: 0.1548 - val_loss: 2.6363 - val_accuracy: 0.1429\n",
      "Epoch 5/10\n",
      "3/3 [==============================] - 3s 853ms/step - loss: 2.2787 - accuracy: 0.3571 - val_loss: 2.3978 - val_accuracy: 0.2381\n",
      "Epoch 6/10\n",
      "3/3 [==============================] - 3s 858ms/step - loss: 2.0377 - accuracy: 0.3571 - val_loss: 2.2459 - val_accuracy: 0.2857\n",
      "Epoch 7/10\n",
      "3/3 [==============================] - 3s 886ms/step - loss: 1.7266 - accuracy: 0.6310 - val_loss: 1.9502 - val_accuracy: 0.4286\n",
      "Epoch 8/10\n",
      "3/3 [==============================] - 3s 843ms/step - loss: 1.4521 - accuracy: 0.8095 - val_loss: 1.5859 - val_accuracy: 0.5238\n",
      "Epoch 9/10\n",
      "3/3 [==============================] - 3s 838ms/step - loss: 1.0994 - accuracy: 0.8929 - val_loss: 1.2408 - val_accuracy: 0.6190\n",
      "Epoch 10/10\n",
      "3/3 [==============================] - 3s 855ms/step - loss: 0.8483 - accuracy: 0.9762 - val_loss: 0.9485 - val_accuracy: 0.7143\n",
      "1/1 [==============================] - 1s 941ms/step\n"
     ]
    },
    {
     "name": "stderr",
     "output_type": "stream",
     "text": [
      "You are using a model of type distilbert to instantiate a model of type bert. This is not supported for all configurations of models and can yield errors.\n"
     ]
    },
    {
     "name": "stdout",
     "output_type": "stream",
     "text": [
      "Fold 2 results - Accuracy: 9.52%, Precision: 9.52%, Recall: 9.52%, F1 Score: 9.52%\n",
      "Fold 3\n"
     ]
    },
    {
     "name": "stderr",
     "output_type": "stream",
     "text": [
      "Some weights of the PyTorch model were not used when initializing the TF 2.0 model TFBertForSequenceClassification: ['distilbert.transformer.layer.4.attention.out_lin.weight', 'distilbert.transformer.layer.0.attention.v_lin.bias', 'distilbert.transformer.layer.4.output_layer_norm.bias', 'distilbert.transformer.layer.0.attention.k_lin.weight', 'distilbert.transformer.layer.2.attention.out_lin.bias', 'distilbert.transformer.layer.4.sa_layer_norm.weight', 'distilbert.transformer.layer.0.attention.v_lin.weight', 'distilbert.transformer.layer.0.attention.q_lin.weight', 'distilbert.transformer.layer.2.ffn.lin2.bias', 'distilbert.transformer.layer.4.ffn.lin1.weight', 'distilbert.transformer.layer.0.sa_layer_norm.bias', 'distilbert.transformer.layer.1.ffn.lin1.weight', 'distilbert.transformer.layer.5.attention.q_lin.weight', 'distilbert.transformer.layer.5.sa_layer_norm.weight', 'distilbert.transformer.layer.2.attention.q_lin.weight', 'distilbert.transformer.layer.4.attention.k_lin.bias', 'distilbert.transformer.layer.3.attention.out_lin.bias', 'distilbert.transformer.layer.5.attention.q_lin.bias', 'distilbert.transformer.layer.3.ffn.lin1.weight', 'distilbert.transformer.layer.3.attention.q_lin.weight', 'distilbert.transformer.layer.2.sa_layer_norm.weight', 'distilbert.transformer.layer.1.sa_layer_norm.bias', 'distilbert.transformer.layer.3.ffn.lin1.bias', 'distilbert.transformer.layer.5.attention.out_lin.weight', 'distilbert.transformer.layer.2.ffn.lin1.bias', 'distilbert.transformer.layer.0.attention.out_lin.bias', 'distilbert.transformer.layer.3.attention.out_lin.weight', 'distilbert.transformer.layer.2.attention.v_lin.weight', 'distilbert.transformer.layer.4.attention.v_lin.bias', 'distilbert.transformer.layer.3.sa_layer_norm.bias', 'distilbert.transformer.layer.4.sa_layer_norm.bias', 'distilbert.transformer.layer.1.ffn.lin1.bias', 'distilbert.transformer.layer.1.sa_layer_norm.weight', 'vocab_transform.weight', 'distilbert.transformer.layer.0.sa_layer_norm.weight', 'vocab_layer_norm.weight', 'distilbert.transformer.layer.1.output_layer_norm.weight', 'distilbert.transformer.layer.3.ffn.lin2.bias', 'distilbert.transformer.layer.1.attention.v_lin.bias', 'distilbert.transformer.layer.1.attention.out_lin.weight', 'distilbert.transformer.layer.0.ffn.lin1.weight', 'distilbert.transformer.layer.3.attention.k_lin.weight', 'distilbert.transformer.layer.1.ffn.lin2.weight', 'distilbert.transformer.layer.3.attention.q_lin.bias', 'distilbert.transformer.layer.3.attention.v_lin.bias', 'vocab_transform.bias', 'distilbert.transformer.layer.3.output_layer_norm.weight', 'distilbert.transformer.layer.2.attention.k_lin.bias', 'vocab_projector.bias', 'distilbert.transformer.layer.0.output_layer_norm.weight', 'distilbert.transformer.layer.4.attention.q_lin.bias', 'distilbert.transformer.layer.3.ffn.lin2.weight', 'distilbert.transformer.layer.4.attention.v_lin.weight', 'distilbert.transformer.layer.3.attention.v_lin.weight', 'distilbert.transformer.layer.4.ffn.lin2.bias', 'distilbert.transformer.layer.2.ffn.lin1.weight', 'distilbert.embeddings.word_embeddings.weight', 'distilbert.transformer.layer.0.ffn.lin2.weight', 'distilbert.embeddings.LayerNorm.bias', 'distilbert.transformer.layer.4.ffn.lin2.weight', 'distilbert.transformer.layer.5.ffn.lin2.weight', 'distilbert.transformer.layer.2.attention.v_lin.bias', 'distilbert.transformer.layer.0.attention.q_lin.bias', 'distilbert.transformer.layer.5.ffn.lin1.bias', 'vocab_layer_norm.bias', 'distilbert.transformer.layer.0.attention.k_lin.bias', 'distilbert.transformer.layer.4.output_layer_norm.weight', 'distilbert.transformer.layer.3.attention.k_lin.bias', 'distilbert.transformer.layer.5.output_layer_norm.weight', 'distilbert.transformer.layer.2.output_layer_norm.bias', 'distilbert.transformer.layer.1.ffn.lin2.bias', 'distilbert.transformer.layer.5.ffn.lin1.weight', 'distilbert.transformer.layer.5.attention.v_lin.weight', 'distilbert.embeddings.LayerNorm.weight', 'distilbert.transformer.layer.3.output_layer_norm.bias', 'distilbert.transformer.layer.2.attention.q_lin.bias', 'distilbert.transformer.layer.1.attention.out_lin.bias', 'distilbert.transformer.layer.1.attention.v_lin.weight', 'distilbert.transformer.layer.4.ffn.lin1.bias', 'distilbert.transformer.layer.5.output_layer_norm.bias', 'distilbert.transformer.layer.2.output_layer_norm.weight', 'distilbert.transformer.layer.0.attention.out_lin.weight', 'distilbert.transformer.layer.4.attention.k_lin.weight', 'distilbert.transformer.layer.0.output_layer_norm.bias', 'distilbert.transformer.layer.0.ffn.lin1.bias', 'distilbert.transformer.layer.1.attention.q_lin.bias', 'distilbert.transformer.layer.5.attention.k_lin.weight', 'distilbert.transformer.layer.1.attention.q_lin.weight', 'distilbert.transformer.layer.5.ffn.lin2.bias', 'distilbert.transformer.layer.1.output_layer_norm.bias', 'distilbert.transformer.layer.3.sa_layer_norm.weight', 'distilbert.transformer.layer.4.attention.q_lin.weight', 'distilbert.transformer.layer.2.attention.out_lin.weight', 'distilbert.transformer.layer.4.attention.out_lin.bias', 'distilbert.transformer.layer.5.attention.k_lin.bias', 'distilbert.transformer.layer.2.ffn.lin2.weight', 'distilbert.transformer.layer.2.attention.k_lin.weight', 'distilbert.transformer.layer.1.attention.k_lin.bias', 'distilbert.transformer.layer.1.attention.k_lin.weight', 'distilbert.transformer.layer.5.attention.v_lin.bias', 'distilbert.transformer.layer.2.sa_layer_norm.bias', 'distilbert.embeddings.position_embeddings.weight', 'distilbert.transformer.layer.5.attention.out_lin.bias', 'distilbert.transformer.layer.5.sa_layer_norm.bias', 'distilbert.transformer.layer.0.ffn.lin2.bias']\n",
      "- This IS expected if you are initializing TFBertForSequenceClassification from a PyTorch model trained on another task or with another architecture (e.g. initializing a TFBertForSequenceClassification model from a BertForPreTraining model).\n",
      "- This IS NOT expected if you are initializing TFBertForSequenceClassification from a PyTorch model that you expect to be exactly identical (e.g. initializing a TFBertForSequenceClassification model from a BertForSequenceClassification model).\n",
      "Some weights or buffers of the TF 2.0 model TFBertForSequenceClassification were not initialized from the PyTorch model and are newly initialized: ['embeddings.word_embeddings.weight', 'embeddings.token_type_embeddings.weight', 'embeddings.position_embeddings.weight', 'embeddings.LayerNorm.weight', 'embeddings.LayerNorm.bias', 'encoder.layer.0.attention.self.query.weight', 'encoder.layer.0.attention.self.query.bias', 'encoder.layer.0.attention.self.key.weight', 'encoder.layer.0.attention.self.key.bias', 'encoder.layer.0.attention.self.value.weight', 'encoder.layer.0.attention.self.value.bias', 'encoder.layer.0.attention.output.dense.weight', 'encoder.layer.0.attention.output.dense.bias', 'encoder.layer.0.attention.output.LayerNorm.weight', 'encoder.layer.0.attention.output.LayerNorm.bias', 'encoder.layer.0.intermediate.dense.weight', 'encoder.layer.0.intermediate.dense.bias', 'encoder.layer.0.output.dense.weight', 'encoder.layer.0.output.dense.bias', 'encoder.layer.0.output.LayerNorm.weight', 'encoder.layer.0.output.LayerNorm.bias', 'encoder.layer.1.attention.self.query.weight', 'encoder.layer.1.attention.self.query.bias', 'encoder.layer.1.attention.self.key.weight', 'encoder.layer.1.attention.self.key.bias', 'encoder.layer.1.attention.self.value.weight', 'encoder.layer.1.attention.self.value.bias', 'encoder.layer.1.attention.output.dense.weight', 'encoder.layer.1.attention.output.dense.bias', 'encoder.layer.1.attention.output.LayerNorm.weight', 'encoder.layer.1.attention.output.LayerNorm.bias', 'encoder.layer.1.intermediate.dense.weight', 'encoder.layer.1.intermediate.dense.bias', 'encoder.layer.1.output.dense.weight', 'encoder.layer.1.output.dense.bias', 'encoder.layer.1.output.LayerNorm.weight', 'encoder.layer.1.output.LayerNorm.bias', 'encoder.layer.2.attention.self.query.weight', 'encoder.layer.2.attention.self.query.bias', 'encoder.layer.2.attention.self.key.weight', 'encoder.layer.2.attention.self.key.bias', 'encoder.layer.2.attention.self.value.weight', 'encoder.layer.2.attention.self.value.bias', 'encoder.layer.2.attention.output.dense.weight', 'encoder.layer.2.attention.output.dense.bias', 'encoder.layer.2.attention.output.LayerNorm.weight', 'encoder.layer.2.attention.output.LayerNorm.bias', 'encoder.layer.2.intermediate.dense.weight', 'encoder.layer.2.intermediate.dense.bias', 'encoder.layer.2.output.dense.weight', 'encoder.layer.2.output.dense.bias', 'encoder.layer.2.output.LayerNorm.weight', 'encoder.layer.2.output.LayerNorm.bias', 'encoder.layer.3.attention.self.query.weight', 'encoder.layer.3.attention.self.query.bias', 'encoder.layer.3.attention.self.key.weight', 'encoder.layer.3.attention.self.key.bias', 'encoder.layer.3.attention.self.value.weight', 'encoder.layer.3.attention.self.value.bias', 'encoder.layer.3.attention.output.dense.weight', 'encoder.layer.3.attention.output.dense.bias', 'encoder.layer.3.attention.output.LayerNorm.weight', 'encoder.layer.3.attention.output.LayerNorm.bias', 'encoder.layer.3.intermediate.dense.weight', 'encoder.layer.3.intermediate.dense.bias', 'encoder.layer.3.output.dense.weight', 'encoder.layer.3.output.dense.bias', 'encoder.layer.3.output.LayerNorm.weight', 'encoder.layer.3.output.LayerNorm.bias', 'encoder.layer.4.attention.self.query.weight', 'encoder.layer.4.attention.self.query.bias', 'encoder.layer.4.attention.self.key.weight', 'encoder.layer.4.attention.self.key.bias', 'encoder.layer.4.attention.self.value.weight', 'encoder.layer.4.attention.self.value.bias', 'encoder.layer.4.attention.output.dense.weight', 'encoder.layer.4.attention.output.dense.bias', 'encoder.layer.4.attention.output.LayerNorm.weight', 'encoder.layer.4.attention.output.LayerNorm.bias', 'encoder.layer.4.intermediate.dense.weight', 'encoder.layer.4.intermediate.dense.bias', 'encoder.layer.4.output.dense.weight', 'encoder.layer.4.output.dense.bias', 'encoder.layer.4.output.LayerNorm.weight', 'encoder.layer.4.output.LayerNorm.bias', 'encoder.layer.5.attention.self.query.weight', 'encoder.layer.5.attention.self.query.bias', 'encoder.layer.5.attention.self.key.weight', 'encoder.layer.5.attention.self.key.bias', 'encoder.layer.5.attention.self.value.weight', 'encoder.layer.5.attention.self.value.bias', 'encoder.layer.5.attention.output.dense.weight', 'encoder.layer.5.attention.output.dense.bias', 'encoder.layer.5.attention.output.LayerNorm.weight', 'encoder.layer.5.attention.output.LayerNorm.bias', 'encoder.layer.5.intermediate.dense.weight', 'encoder.layer.5.intermediate.dense.bias', 'encoder.layer.5.output.dense.weight', 'encoder.layer.5.output.dense.bias', 'encoder.layer.5.output.LayerNorm.weight', 'encoder.layer.5.output.LayerNorm.bias', 'encoder.layer.6.attention.self.query.weight', 'encoder.layer.6.attention.self.query.bias', 'encoder.layer.6.attention.self.key.weight', 'encoder.layer.6.attention.self.key.bias', 'encoder.layer.6.attention.self.value.weight', 'encoder.layer.6.attention.self.value.bias', 'encoder.layer.6.attention.output.dense.weight', 'encoder.layer.6.attention.output.dense.bias', 'encoder.layer.6.attention.output.LayerNorm.weight', 'encoder.layer.6.attention.output.LayerNorm.bias', 'encoder.layer.6.intermediate.dense.weight', 'encoder.layer.6.intermediate.dense.bias', 'encoder.layer.6.output.dense.weight', 'encoder.layer.6.output.dense.bias', 'encoder.layer.6.output.LayerNorm.weight', 'encoder.layer.6.output.LayerNorm.bias', 'encoder.layer.7.attention.self.query.weight', 'encoder.layer.7.attention.self.query.bias', 'encoder.layer.7.attention.self.key.weight', 'encoder.layer.7.attention.self.key.bias', 'encoder.layer.7.attention.self.value.weight', 'encoder.layer.7.attention.self.value.bias', 'encoder.layer.7.attention.output.dense.weight', 'encoder.layer.7.attention.output.dense.bias', 'encoder.layer.7.attention.output.LayerNorm.weight', 'encoder.layer.7.attention.output.LayerNorm.bias', 'encoder.layer.7.intermediate.dense.weight', 'encoder.layer.7.intermediate.dense.bias', 'encoder.layer.7.output.dense.weight', 'encoder.layer.7.output.dense.bias', 'encoder.layer.7.output.LayerNorm.weight', 'encoder.layer.7.output.LayerNorm.bias', 'encoder.layer.8.attention.self.query.weight', 'encoder.layer.8.attention.self.query.bias', 'encoder.layer.8.attention.self.key.weight', 'encoder.layer.8.attention.self.key.bias', 'encoder.layer.8.attention.self.value.weight', 'encoder.layer.8.attention.self.value.bias', 'encoder.layer.8.attention.output.dense.weight', 'encoder.layer.8.attention.output.dense.bias', 'encoder.layer.8.attention.output.LayerNorm.weight', 'encoder.layer.8.attention.output.LayerNorm.bias', 'encoder.layer.8.intermediate.dense.weight', 'encoder.layer.8.intermediate.dense.bias', 'encoder.layer.8.output.dense.weight', 'encoder.layer.8.output.dense.bias', 'encoder.layer.8.output.LayerNorm.weight', 'encoder.layer.8.output.LayerNorm.bias', 'encoder.layer.9.attention.self.query.weight', 'encoder.layer.9.attention.self.query.bias', 'encoder.layer.9.attention.self.key.weight', 'encoder.layer.9.attention.self.key.bias', 'encoder.layer.9.attention.self.value.weight', 'encoder.layer.9.attention.self.value.bias', 'encoder.layer.9.attention.output.dense.weight', 'encoder.layer.9.attention.output.dense.bias', 'encoder.layer.9.attention.output.LayerNorm.weight', 'encoder.layer.9.attention.output.LayerNorm.bias', 'encoder.layer.9.intermediate.dense.weight', 'encoder.layer.9.intermediate.dense.bias', 'encoder.layer.9.output.dense.weight', 'encoder.layer.9.output.dense.bias', 'encoder.layer.9.output.LayerNorm.weight', 'encoder.layer.9.output.LayerNorm.bias', 'encoder.layer.10.attention.self.query.weight', 'encoder.layer.10.attention.self.query.bias', 'encoder.layer.10.attention.self.key.weight', 'encoder.layer.10.attention.self.key.bias', 'encoder.layer.10.attention.self.value.weight', 'encoder.layer.10.attention.self.value.bias', 'encoder.layer.10.attention.output.dense.weight', 'encoder.layer.10.attention.output.dense.bias', 'encoder.layer.10.attention.output.LayerNorm.weight', 'encoder.layer.10.attention.output.LayerNorm.bias', 'encoder.layer.10.intermediate.dense.weight', 'encoder.layer.10.intermediate.dense.bias', 'encoder.layer.10.output.dense.weight', 'encoder.layer.10.output.dense.bias', 'encoder.layer.10.output.LayerNorm.weight', 'encoder.layer.10.output.LayerNorm.bias', 'encoder.layer.11.attention.self.query.weight', 'encoder.layer.11.attention.self.query.bias', 'encoder.layer.11.attention.self.key.weight', 'encoder.layer.11.attention.self.key.bias', 'encoder.layer.11.attention.self.value.weight', 'encoder.layer.11.attention.self.value.bias', 'encoder.layer.11.attention.output.dense.weight', 'encoder.layer.11.attention.output.dense.bias', 'encoder.layer.11.attention.output.LayerNorm.weight', 'encoder.layer.11.attention.output.LayerNorm.bias', 'encoder.layer.11.intermediate.dense.weight', 'encoder.layer.11.intermediate.dense.bias', 'encoder.layer.11.output.dense.weight', 'encoder.layer.11.output.dense.bias', 'encoder.layer.11.output.LayerNorm.weight', 'encoder.layer.11.output.LayerNorm.bias', 'pooler.dense.weight', 'pooler.dense.bias', 'classifier.weight', 'classifier.bias']\n",
      "You should probably TRAIN this model on a down-stream task to be able to use it for predictions and inference.\n",
      "WARNING:absl:At this time, the v2.11+ optimizer `tf.keras.optimizers.Adam` runs slowly on M1/M2 Macs, please use the legacy Keras optimizer instead, located at `tf.keras.optimizers.legacy.Adam`.\n",
      "WARNING:absl:There is a known slowdown when using v2.11+ Keras optimizers on M1/M2 Macs. Falling back to the legacy Keras optimizer, i.e., `tf.keras.optimizers.legacy.Adam`.\n"
     ]
    },
    {
     "name": "stdout",
     "output_type": "stream",
     "text": [
      "Epoch 1/10\n",
      "3/3 [==============================] - 8s 1s/step - loss: 2.9109 - accuracy: 0.0595 - val_loss: 2.7885 - val_accuracy: 0.2381\n",
      "Epoch 2/10\n",
      "3/3 [==============================] - 3s 844ms/step - loss: 2.6509 - accuracy: 0.1190 - val_loss: 2.6597 - val_accuracy: 0.2381\n",
      "Epoch 3/10\n",
      "3/3 [==============================] - 3s 858ms/step - loss: 2.5494 - accuracy: 0.2143 - val_loss: 2.5205 - val_accuracy: 0.2381\n",
      "Epoch 4/10\n",
      "3/3 [==============================] - 3s 871ms/step - loss: 2.3065 - accuracy: 0.3214 - val_loss: 2.2262 - val_accuracy: 0.3810\n",
      "Epoch 5/10\n",
      "3/3 [==============================] - 3s 866ms/step - loss: 2.0821 - accuracy: 0.4881 - val_loss: 2.1106 - val_accuracy: 0.3810\n",
      "Epoch 6/10\n",
      "3/3 [==============================] - 3s 874ms/step - loss: 1.7675 - accuracy: 0.6667 - val_loss: 1.9843 - val_accuracy: 0.2381\n",
      "Epoch 7/10\n",
      "3/3 [==============================] - 3s 879ms/step - loss: 1.4888 - accuracy: 0.7143 - val_loss: 1.6436 - val_accuracy: 0.5238\n",
      "Epoch 8/10\n",
      "3/3 [==============================] - 3s 872ms/step - loss: 1.1613 - accuracy: 0.8810 - val_loss: 1.4011 - val_accuracy: 0.7619\n",
      "Epoch 9/10\n",
      "3/3 [==============================] - 3s 886ms/step - loss: 0.9261 - accuracy: 0.9167 - val_loss: 1.2130 - val_accuracy: 0.7619\n",
      "Epoch 10/10\n",
      "3/3 [==============================] - 3s 894ms/step - loss: 0.7019 - accuracy: 0.9643 - val_loss: 1.0512 - val_accuracy: 0.6667\n",
      "1/1 [==============================] - 1s 940ms/step\n"
     ]
    },
    {
     "name": "stderr",
     "output_type": "stream",
     "text": [
      "You are using a model of type distilbert to instantiate a model of type bert. This is not supported for all configurations of models and can yield errors.\n"
     ]
    },
    {
     "name": "stdout",
     "output_type": "stream",
     "text": [
      "Fold 3 results - Accuracy: 9.52%, Precision: 7.14%, Recall: 9.52%, F1 Score: 7.94%\n",
      "Fold 4\n"
     ]
    },
    {
     "name": "stderr",
     "output_type": "stream",
     "text": [
      "Some weights of the PyTorch model were not used when initializing the TF 2.0 model TFBertForSequenceClassification: ['distilbert.transformer.layer.4.attention.out_lin.weight', 'distilbert.transformer.layer.0.attention.v_lin.bias', 'distilbert.transformer.layer.4.output_layer_norm.bias', 'distilbert.transformer.layer.0.attention.k_lin.weight', 'distilbert.transformer.layer.2.attention.out_lin.bias', 'distilbert.transformer.layer.4.sa_layer_norm.weight', 'distilbert.transformer.layer.0.attention.v_lin.weight', 'distilbert.transformer.layer.0.attention.q_lin.weight', 'distilbert.transformer.layer.2.ffn.lin2.bias', 'distilbert.transformer.layer.4.ffn.lin1.weight', 'distilbert.transformer.layer.0.sa_layer_norm.bias', 'distilbert.transformer.layer.1.ffn.lin1.weight', 'distilbert.transformer.layer.5.attention.q_lin.weight', 'distilbert.transformer.layer.5.sa_layer_norm.weight', 'distilbert.transformer.layer.2.attention.q_lin.weight', 'distilbert.transformer.layer.4.attention.k_lin.bias', 'distilbert.transformer.layer.3.attention.out_lin.bias', 'distilbert.transformer.layer.5.attention.q_lin.bias', 'distilbert.transformer.layer.3.ffn.lin1.weight', 'distilbert.transformer.layer.3.attention.q_lin.weight', 'distilbert.transformer.layer.2.sa_layer_norm.weight', 'distilbert.transformer.layer.1.sa_layer_norm.bias', 'distilbert.transformer.layer.3.ffn.lin1.bias', 'distilbert.transformer.layer.5.attention.out_lin.weight', 'distilbert.transformer.layer.2.ffn.lin1.bias', 'distilbert.transformer.layer.0.attention.out_lin.bias', 'distilbert.transformer.layer.3.attention.out_lin.weight', 'distilbert.transformer.layer.2.attention.v_lin.weight', 'distilbert.transformer.layer.4.attention.v_lin.bias', 'distilbert.transformer.layer.3.sa_layer_norm.bias', 'distilbert.transformer.layer.4.sa_layer_norm.bias', 'distilbert.transformer.layer.1.ffn.lin1.bias', 'distilbert.transformer.layer.1.sa_layer_norm.weight', 'vocab_transform.weight', 'distilbert.transformer.layer.0.sa_layer_norm.weight', 'vocab_layer_norm.weight', 'distilbert.transformer.layer.1.output_layer_norm.weight', 'distilbert.transformer.layer.3.ffn.lin2.bias', 'distilbert.transformer.layer.1.attention.v_lin.bias', 'distilbert.transformer.layer.1.attention.out_lin.weight', 'distilbert.transformer.layer.0.ffn.lin1.weight', 'distilbert.transformer.layer.3.attention.k_lin.weight', 'distilbert.transformer.layer.1.ffn.lin2.weight', 'distilbert.transformer.layer.3.attention.q_lin.bias', 'distilbert.transformer.layer.3.attention.v_lin.bias', 'vocab_transform.bias', 'distilbert.transformer.layer.3.output_layer_norm.weight', 'distilbert.transformer.layer.2.attention.k_lin.bias', 'vocab_projector.bias', 'distilbert.transformer.layer.0.output_layer_norm.weight', 'distilbert.transformer.layer.4.attention.q_lin.bias', 'distilbert.transformer.layer.3.ffn.lin2.weight', 'distilbert.transformer.layer.4.attention.v_lin.weight', 'distilbert.transformer.layer.3.attention.v_lin.weight', 'distilbert.transformer.layer.4.ffn.lin2.bias', 'distilbert.transformer.layer.2.ffn.lin1.weight', 'distilbert.embeddings.word_embeddings.weight', 'distilbert.transformer.layer.0.ffn.lin2.weight', 'distilbert.embeddings.LayerNorm.bias', 'distilbert.transformer.layer.4.ffn.lin2.weight', 'distilbert.transformer.layer.5.ffn.lin2.weight', 'distilbert.transformer.layer.2.attention.v_lin.bias', 'distilbert.transformer.layer.0.attention.q_lin.bias', 'distilbert.transformer.layer.5.ffn.lin1.bias', 'vocab_layer_norm.bias', 'distilbert.transformer.layer.0.attention.k_lin.bias', 'distilbert.transformer.layer.4.output_layer_norm.weight', 'distilbert.transformer.layer.3.attention.k_lin.bias', 'distilbert.transformer.layer.5.output_layer_norm.weight', 'distilbert.transformer.layer.2.output_layer_norm.bias', 'distilbert.transformer.layer.1.ffn.lin2.bias', 'distilbert.transformer.layer.5.ffn.lin1.weight', 'distilbert.transformer.layer.5.attention.v_lin.weight', 'distilbert.embeddings.LayerNorm.weight', 'distilbert.transformer.layer.3.output_layer_norm.bias', 'distilbert.transformer.layer.2.attention.q_lin.bias', 'distilbert.transformer.layer.1.attention.out_lin.bias', 'distilbert.transformer.layer.1.attention.v_lin.weight', 'distilbert.transformer.layer.4.ffn.lin1.bias', 'distilbert.transformer.layer.5.output_layer_norm.bias', 'distilbert.transformer.layer.2.output_layer_norm.weight', 'distilbert.transformer.layer.0.attention.out_lin.weight', 'distilbert.transformer.layer.4.attention.k_lin.weight', 'distilbert.transformer.layer.0.output_layer_norm.bias', 'distilbert.transformer.layer.0.ffn.lin1.bias', 'distilbert.transformer.layer.1.attention.q_lin.bias', 'distilbert.transformer.layer.5.attention.k_lin.weight', 'distilbert.transformer.layer.1.attention.q_lin.weight', 'distilbert.transformer.layer.5.ffn.lin2.bias', 'distilbert.transformer.layer.1.output_layer_norm.bias', 'distilbert.transformer.layer.3.sa_layer_norm.weight', 'distilbert.transformer.layer.4.attention.q_lin.weight', 'distilbert.transformer.layer.2.attention.out_lin.weight', 'distilbert.transformer.layer.4.attention.out_lin.bias', 'distilbert.transformer.layer.5.attention.k_lin.bias', 'distilbert.transformer.layer.2.ffn.lin2.weight', 'distilbert.transformer.layer.2.attention.k_lin.weight', 'distilbert.transformer.layer.1.attention.k_lin.bias', 'distilbert.transformer.layer.1.attention.k_lin.weight', 'distilbert.transformer.layer.5.attention.v_lin.bias', 'distilbert.transformer.layer.2.sa_layer_norm.bias', 'distilbert.embeddings.position_embeddings.weight', 'distilbert.transformer.layer.5.attention.out_lin.bias', 'distilbert.transformer.layer.5.sa_layer_norm.bias', 'distilbert.transformer.layer.0.ffn.lin2.bias']\n",
      "- This IS expected if you are initializing TFBertForSequenceClassification from a PyTorch model trained on another task or with another architecture (e.g. initializing a TFBertForSequenceClassification model from a BertForPreTraining model).\n",
      "- This IS NOT expected if you are initializing TFBertForSequenceClassification from a PyTorch model that you expect to be exactly identical (e.g. initializing a TFBertForSequenceClassification model from a BertForSequenceClassification model).\n",
      "Some weights or buffers of the TF 2.0 model TFBertForSequenceClassification were not initialized from the PyTorch model and are newly initialized: ['embeddings.word_embeddings.weight', 'embeddings.token_type_embeddings.weight', 'embeddings.position_embeddings.weight', 'embeddings.LayerNorm.weight', 'embeddings.LayerNorm.bias', 'encoder.layer.0.attention.self.query.weight', 'encoder.layer.0.attention.self.query.bias', 'encoder.layer.0.attention.self.key.weight', 'encoder.layer.0.attention.self.key.bias', 'encoder.layer.0.attention.self.value.weight', 'encoder.layer.0.attention.self.value.bias', 'encoder.layer.0.attention.output.dense.weight', 'encoder.layer.0.attention.output.dense.bias', 'encoder.layer.0.attention.output.LayerNorm.weight', 'encoder.layer.0.attention.output.LayerNorm.bias', 'encoder.layer.0.intermediate.dense.weight', 'encoder.layer.0.intermediate.dense.bias', 'encoder.layer.0.output.dense.weight', 'encoder.layer.0.output.dense.bias', 'encoder.layer.0.output.LayerNorm.weight', 'encoder.layer.0.output.LayerNorm.bias', 'encoder.layer.1.attention.self.query.weight', 'encoder.layer.1.attention.self.query.bias', 'encoder.layer.1.attention.self.key.weight', 'encoder.layer.1.attention.self.key.bias', 'encoder.layer.1.attention.self.value.weight', 'encoder.layer.1.attention.self.value.bias', 'encoder.layer.1.attention.output.dense.weight', 'encoder.layer.1.attention.output.dense.bias', 'encoder.layer.1.attention.output.LayerNorm.weight', 'encoder.layer.1.attention.output.LayerNorm.bias', 'encoder.layer.1.intermediate.dense.weight', 'encoder.layer.1.intermediate.dense.bias', 'encoder.layer.1.output.dense.weight', 'encoder.layer.1.output.dense.bias', 'encoder.layer.1.output.LayerNorm.weight', 'encoder.layer.1.output.LayerNorm.bias', 'encoder.layer.2.attention.self.query.weight', 'encoder.layer.2.attention.self.query.bias', 'encoder.layer.2.attention.self.key.weight', 'encoder.layer.2.attention.self.key.bias', 'encoder.layer.2.attention.self.value.weight', 'encoder.layer.2.attention.self.value.bias', 'encoder.layer.2.attention.output.dense.weight', 'encoder.layer.2.attention.output.dense.bias', 'encoder.layer.2.attention.output.LayerNorm.weight', 'encoder.layer.2.attention.output.LayerNorm.bias', 'encoder.layer.2.intermediate.dense.weight', 'encoder.layer.2.intermediate.dense.bias', 'encoder.layer.2.output.dense.weight', 'encoder.layer.2.output.dense.bias', 'encoder.layer.2.output.LayerNorm.weight', 'encoder.layer.2.output.LayerNorm.bias', 'encoder.layer.3.attention.self.query.weight', 'encoder.layer.3.attention.self.query.bias', 'encoder.layer.3.attention.self.key.weight', 'encoder.layer.3.attention.self.key.bias', 'encoder.layer.3.attention.self.value.weight', 'encoder.layer.3.attention.self.value.bias', 'encoder.layer.3.attention.output.dense.weight', 'encoder.layer.3.attention.output.dense.bias', 'encoder.layer.3.attention.output.LayerNorm.weight', 'encoder.layer.3.attention.output.LayerNorm.bias', 'encoder.layer.3.intermediate.dense.weight', 'encoder.layer.3.intermediate.dense.bias', 'encoder.layer.3.output.dense.weight', 'encoder.layer.3.output.dense.bias', 'encoder.layer.3.output.LayerNorm.weight', 'encoder.layer.3.output.LayerNorm.bias', 'encoder.layer.4.attention.self.query.weight', 'encoder.layer.4.attention.self.query.bias', 'encoder.layer.4.attention.self.key.weight', 'encoder.layer.4.attention.self.key.bias', 'encoder.layer.4.attention.self.value.weight', 'encoder.layer.4.attention.self.value.bias', 'encoder.layer.4.attention.output.dense.weight', 'encoder.layer.4.attention.output.dense.bias', 'encoder.layer.4.attention.output.LayerNorm.weight', 'encoder.layer.4.attention.output.LayerNorm.bias', 'encoder.layer.4.intermediate.dense.weight', 'encoder.layer.4.intermediate.dense.bias', 'encoder.layer.4.output.dense.weight', 'encoder.layer.4.output.dense.bias', 'encoder.layer.4.output.LayerNorm.weight', 'encoder.layer.4.output.LayerNorm.bias', 'encoder.layer.5.attention.self.query.weight', 'encoder.layer.5.attention.self.query.bias', 'encoder.layer.5.attention.self.key.weight', 'encoder.layer.5.attention.self.key.bias', 'encoder.layer.5.attention.self.value.weight', 'encoder.layer.5.attention.self.value.bias', 'encoder.layer.5.attention.output.dense.weight', 'encoder.layer.5.attention.output.dense.bias', 'encoder.layer.5.attention.output.LayerNorm.weight', 'encoder.layer.5.attention.output.LayerNorm.bias', 'encoder.layer.5.intermediate.dense.weight', 'encoder.layer.5.intermediate.dense.bias', 'encoder.layer.5.output.dense.weight', 'encoder.layer.5.output.dense.bias', 'encoder.layer.5.output.LayerNorm.weight', 'encoder.layer.5.output.LayerNorm.bias', 'encoder.layer.6.attention.self.query.weight', 'encoder.layer.6.attention.self.query.bias', 'encoder.layer.6.attention.self.key.weight', 'encoder.layer.6.attention.self.key.bias', 'encoder.layer.6.attention.self.value.weight', 'encoder.layer.6.attention.self.value.bias', 'encoder.layer.6.attention.output.dense.weight', 'encoder.layer.6.attention.output.dense.bias', 'encoder.layer.6.attention.output.LayerNorm.weight', 'encoder.layer.6.attention.output.LayerNorm.bias', 'encoder.layer.6.intermediate.dense.weight', 'encoder.layer.6.intermediate.dense.bias', 'encoder.layer.6.output.dense.weight', 'encoder.layer.6.output.dense.bias', 'encoder.layer.6.output.LayerNorm.weight', 'encoder.layer.6.output.LayerNorm.bias', 'encoder.layer.7.attention.self.query.weight', 'encoder.layer.7.attention.self.query.bias', 'encoder.layer.7.attention.self.key.weight', 'encoder.layer.7.attention.self.key.bias', 'encoder.layer.7.attention.self.value.weight', 'encoder.layer.7.attention.self.value.bias', 'encoder.layer.7.attention.output.dense.weight', 'encoder.layer.7.attention.output.dense.bias', 'encoder.layer.7.attention.output.LayerNorm.weight', 'encoder.layer.7.attention.output.LayerNorm.bias', 'encoder.layer.7.intermediate.dense.weight', 'encoder.layer.7.intermediate.dense.bias', 'encoder.layer.7.output.dense.weight', 'encoder.layer.7.output.dense.bias', 'encoder.layer.7.output.LayerNorm.weight', 'encoder.layer.7.output.LayerNorm.bias', 'encoder.layer.8.attention.self.query.weight', 'encoder.layer.8.attention.self.query.bias', 'encoder.layer.8.attention.self.key.weight', 'encoder.layer.8.attention.self.key.bias', 'encoder.layer.8.attention.self.value.weight', 'encoder.layer.8.attention.self.value.bias', 'encoder.layer.8.attention.output.dense.weight', 'encoder.layer.8.attention.output.dense.bias', 'encoder.layer.8.attention.output.LayerNorm.weight', 'encoder.layer.8.attention.output.LayerNorm.bias', 'encoder.layer.8.intermediate.dense.weight', 'encoder.layer.8.intermediate.dense.bias', 'encoder.layer.8.output.dense.weight', 'encoder.layer.8.output.dense.bias', 'encoder.layer.8.output.LayerNorm.weight', 'encoder.layer.8.output.LayerNorm.bias', 'encoder.layer.9.attention.self.query.weight', 'encoder.layer.9.attention.self.query.bias', 'encoder.layer.9.attention.self.key.weight', 'encoder.layer.9.attention.self.key.bias', 'encoder.layer.9.attention.self.value.weight', 'encoder.layer.9.attention.self.value.bias', 'encoder.layer.9.attention.output.dense.weight', 'encoder.layer.9.attention.output.dense.bias', 'encoder.layer.9.attention.output.LayerNorm.weight', 'encoder.layer.9.attention.output.LayerNorm.bias', 'encoder.layer.9.intermediate.dense.weight', 'encoder.layer.9.intermediate.dense.bias', 'encoder.layer.9.output.dense.weight', 'encoder.layer.9.output.dense.bias', 'encoder.layer.9.output.LayerNorm.weight', 'encoder.layer.9.output.LayerNorm.bias', 'encoder.layer.10.attention.self.query.weight', 'encoder.layer.10.attention.self.query.bias', 'encoder.layer.10.attention.self.key.weight', 'encoder.layer.10.attention.self.key.bias', 'encoder.layer.10.attention.self.value.weight', 'encoder.layer.10.attention.self.value.bias', 'encoder.layer.10.attention.output.dense.weight', 'encoder.layer.10.attention.output.dense.bias', 'encoder.layer.10.attention.output.LayerNorm.weight', 'encoder.layer.10.attention.output.LayerNorm.bias', 'encoder.layer.10.intermediate.dense.weight', 'encoder.layer.10.intermediate.dense.bias', 'encoder.layer.10.output.dense.weight', 'encoder.layer.10.output.dense.bias', 'encoder.layer.10.output.LayerNorm.weight', 'encoder.layer.10.output.LayerNorm.bias', 'encoder.layer.11.attention.self.query.weight', 'encoder.layer.11.attention.self.query.bias', 'encoder.layer.11.attention.self.key.weight', 'encoder.layer.11.attention.self.key.bias', 'encoder.layer.11.attention.self.value.weight', 'encoder.layer.11.attention.self.value.bias', 'encoder.layer.11.attention.output.dense.weight', 'encoder.layer.11.attention.output.dense.bias', 'encoder.layer.11.attention.output.LayerNorm.weight', 'encoder.layer.11.attention.output.LayerNorm.bias', 'encoder.layer.11.intermediate.dense.weight', 'encoder.layer.11.intermediate.dense.bias', 'encoder.layer.11.output.dense.weight', 'encoder.layer.11.output.dense.bias', 'encoder.layer.11.output.LayerNorm.weight', 'encoder.layer.11.output.LayerNorm.bias', 'pooler.dense.weight', 'pooler.dense.bias', 'classifier.weight', 'classifier.bias']\n",
      "You should probably TRAIN this model on a down-stream task to be able to use it for predictions and inference.\n",
      "WARNING:absl:At this time, the v2.11+ optimizer `tf.keras.optimizers.Adam` runs slowly on M1/M2 Macs, please use the legacy Keras optimizer instead, located at `tf.keras.optimizers.legacy.Adam`.\n",
      "WARNING:absl:There is a known slowdown when using v2.11+ Keras optimizers on M1/M2 Macs. Falling back to the legacy Keras optimizer, i.e., `tf.keras.optimizers.legacy.Adam`.\n"
     ]
    },
    {
     "name": "stdout",
     "output_type": "stream",
     "text": [
      "Epoch 1/10\n",
      "3/3 [==============================] - 7s 1s/step - loss: 2.9468 - accuracy: 0.1071 - val_loss: 3.2259 - val_accuracy: 0.0000e+00\n",
      "Epoch 2/10\n",
      "3/3 [==============================] - 3s 847ms/step - loss: 2.6192 - accuracy: 0.1786 - val_loss: 3.0225 - val_accuracy: 0.0000e+00\n",
      "Epoch 3/10\n",
      "3/3 [==============================] - 3s 848ms/step - loss: 2.5808 - accuracy: 0.2500 - val_loss: 2.9803 - val_accuracy: 0.0000e+00\n",
      "Epoch 4/10\n",
      "3/3 [==============================] - 3s 848ms/step - loss: 2.3867 - accuracy: 0.2262 - val_loss: 2.8707 - val_accuracy: 0.1429\n",
      "Epoch 5/10\n",
      "3/3 [==============================] - 3s 854ms/step - loss: 2.2012 - accuracy: 0.3810 - val_loss: 2.7233 - val_accuracy: 0.1905\n",
      "Epoch 6/10\n",
      "3/3 [==============================] - 3s 854ms/step - loss: 1.9510 - accuracy: 0.4881 - val_loss: 2.4648 - val_accuracy: 0.1905\n",
      "Epoch 7/10\n",
      "3/3 [==============================] - 3s 954ms/step - loss: 1.7445 - accuracy: 0.6190 - val_loss: 2.3336 - val_accuracy: 0.3333\n",
      "Epoch 8/10\n",
      "3/3 [==============================] - 3s 872ms/step - loss: 1.4462 - accuracy: 0.7381 - val_loss: 1.9805 - val_accuracy: 0.3333\n",
      "Epoch 9/10\n",
      "3/3 [==============================] - 3s 877ms/step - loss: 1.1872 - accuracy: 0.8452 - val_loss: 1.7365 - val_accuracy: 0.5714\n",
      "Epoch 10/10\n",
      "3/3 [==============================] - 3s 865ms/step - loss: 0.9574 - accuracy: 0.8929 - val_loss: 1.4605 - val_accuracy: 0.5714\n",
      "1/1 [==============================] - 1s 905ms/step\n"
     ]
    },
    {
     "name": "stderr",
     "output_type": "stream",
     "text": [
      "You are using a model of type distilbert to instantiate a model of type bert. This is not supported for all configurations of models and can yield errors.\n"
     ]
    },
    {
     "name": "stdout",
     "output_type": "stream",
     "text": [
      "Fold 4 results - Accuracy: 0.00%, Precision: 0.00%, Recall: 0.00%, F1 Score: 0.00%\n",
      "Fold 5\n"
     ]
    },
    {
     "name": "stderr",
     "output_type": "stream",
     "text": [
      "Some weights of the PyTorch model were not used when initializing the TF 2.0 model TFBertForSequenceClassification: ['distilbert.transformer.layer.4.attention.out_lin.weight', 'distilbert.transformer.layer.0.attention.v_lin.bias', 'distilbert.transformer.layer.4.output_layer_norm.bias', 'distilbert.transformer.layer.0.attention.k_lin.weight', 'distilbert.transformer.layer.2.attention.out_lin.bias', 'distilbert.transformer.layer.4.sa_layer_norm.weight', 'distilbert.transformer.layer.0.attention.v_lin.weight', 'distilbert.transformer.layer.0.attention.q_lin.weight', 'distilbert.transformer.layer.2.ffn.lin2.bias', 'distilbert.transformer.layer.4.ffn.lin1.weight', 'distilbert.transformer.layer.0.sa_layer_norm.bias', 'distilbert.transformer.layer.1.ffn.lin1.weight', 'distilbert.transformer.layer.5.attention.q_lin.weight', 'distilbert.transformer.layer.5.sa_layer_norm.weight', 'distilbert.transformer.layer.2.attention.q_lin.weight', 'distilbert.transformer.layer.4.attention.k_lin.bias', 'distilbert.transformer.layer.3.attention.out_lin.bias', 'distilbert.transformer.layer.5.attention.q_lin.bias', 'distilbert.transformer.layer.3.ffn.lin1.weight', 'distilbert.transformer.layer.3.attention.q_lin.weight', 'distilbert.transformer.layer.2.sa_layer_norm.weight', 'distilbert.transformer.layer.1.sa_layer_norm.bias', 'distilbert.transformer.layer.3.ffn.lin1.bias', 'distilbert.transformer.layer.5.attention.out_lin.weight', 'distilbert.transformer.layer.2.ffn.lin1.bias', 'distilbert.transformer.layer.0.attention.out_lin.bias', 'distilbert.transformer.layer.3.attention.out_lin.weight', 'distilbert.transformer.layer.2.attention.v_lin.weight', 'distilbert.transformer.layer.4.attention.v_lin.bias', 'distilbert.transformer.layer.3.sa_layer_norm.bias', 'distilbert.transformer.layer.4.sa_layer_norm.bias', 'distilbert.transformer.layer.1.ffn.lin1.bias', 'distilbert.transformer.layer.1.sa_layer_norm.weight', 'vocab_transform.weight', 'distilbert.transformer.layer.0.sa_layer_norm.weight', 'vocab_layer_norm.weight', 'distilbert.transformer.layer.1.output_layer_norm.weight', 'distilbert.transformer.layer.3.ffn.lin2.bias', 'distilbert.transformer.layer.1.attention.v_lin.bias', 'distilbert.transformer.layer.1.attention.out_lin.weight', 'distilbert.transformer.layer.0.ffn.lin1.weight', 'distilbert.transformer.layer.3.attention.k_lin.weight', 'distilbert.transformer.layer.1.ffn.lin2.weight', 'distilbert.transformer.layer.3.attention.q_lin.bias', 'distilbert.transformer.layer.3.attention.v_lin.bias', 'vocab_transform.bias', 'distilbert.transformer.layer.3.output_layer_norm.weight', 'distilbert.transformer.layer.2.attention.k_lin.bias', 'vocab_projector.bias', 'distilbert.transformer.layer.0.output_layer_norm.weight', 'distilbert.transformer.layer.4.attention.q_lin.bias', 'distilbert.transformer.layer.3.ffn.lin2.weight', 'distilbert.transformer.layer.4.attention.v_lin.weight', 'distilbert.transformer.layer.3.attention.v_lin.weight', 'distilbert.transformer.layer.4.ffn.lin2.bias', 'distilbert.transformer.layer.2.ffn.lin1.weight', 'distilbert.embeddings.word_embeddings.weight', 'distilbert.transformer.layer.0.ffn.lin2.weight', 'distilbert.embeddings.LayerNorm.bias', 'distilbert.transformer.layer.4.ffn.lin2.weight', 'distilbert.transformer.layer.5.ffn.lin2.weight', 'distilbert.transformer.layer.2.attention.v_lin.bias', 'distilbert.transformer.layer.0.attention.q_lin.bias', 'distilbert.transformer.layer.5.ffn.lin1.bias', 'vocab_layer_norm.bias', 'distilbert.transformer.layer.0.attention.k_lin.bias', 'distilbert.transformer.layer.4.output_layer_norm.weight', 'distilbert.transformer.layer.3.attention.k_lin.bias', 'distilbert.transformer.layer.5.output_layer_norm.weight', 'distilbert.transformer.layer.2.output_layer_norm.bias', 'distilbert.transformer.layer.1.ffn.lin2.bias', 'distilbert.transformer.layer.5.ffn.lin1.weight', 'distilbert.transformer.layer.5.attention.v_lin.weight', 'distilbert.embeddings.LayerNorm.weight', 'distilbert.transformer.layer.3.output_layer_norm.bias', 'distilbert.transformer.layer.2.attention.q_lin.bias', 'distilbert.transformer.layer.1.attention.out_lin.bias', 'distilbert.transformer.layer.1.attention.v_lin.weight', 'distilbert.transformer.layer.4.ffn.lin1.bias', 'distilbert.transformer.layer.5.output_layer_norm.bias', 'distilbert.transformer.layer.2.output_layer_norm.weight', 'distilbert.transformer.layer.0.attention.out_lin.weight', 'distilbert.transformer.layer.4.attention.k_lin.weight', 'distilbert.transformer.layer.0.output_layer_norm.bias', 'distilbert.transformer.layer.0.ffn.lin1.bias', 'distilbert.transformer.layer.1.attention.q_lin.bias', 'distilbert.transformer.layer.5.attention.k_lin.weight', 'distilbert.transformer.layer.1.attention.q_lin.weight', 'distilbert.transformer.layer.5.ffn.lin2.bias', 'distilbert.transformer.layer.1.output_layer_norm.bias', 'distilbert.transformer.layer.3.sa_layer_norm.weight', 'distilbert.transformer.layer.4.attention.q_lin.weight', 'distilbert.transformer.layer.2.attention.out_lin.weight', 'distilbert.transformer.layer.4.attention.out_lin.bias', 'distilbert.transformer.layer.5.attention.k_lin.bias', 'distilbert.transformer.layer.2.ffn.lin2.weight', 'distilbert.transformer.layer.2.attention.k_lin.weight', 'distilbert.transformer.layer.1.attention.k_lin.bias', 'distilbert.transformer.layer.1.attention.k_lin.weight', 'distilbert.transformer.layer.5.attention.v_lin.bias', 'distilbert.transformer.layer.2.sa_layer_norm.bias', 'distilbert.embeddings.position_embeddings.weight', 'distilbert.transformer.layer.5.attention.out_lin.bias', 'distilbert.transformer.layer.5.sa_layer_norm.bias', 'distilbert.transformer.layer.0.ffn.lin2.bias']\n",
      "- This IS expected if you are initializing TFBertForSequenceClassification from a PyTorch model trained on another task or with another architecture (e.g. initializing a TFBertForSequenceClassification model from a BertForPreTraining model).\n",
      "- This IS NOT expected if you are initializing TFBertForSequenceClassification from a PyTorch model that you expect to be exactly identical (e.g. initializing a TFBertForSequenceClassification model from a BertForSequenceClassification model).\n",
      "Some weights or buffers of the TF 2.0 model TFBertForSequenceClassification were not initialized from the PyTorch model and are newly initialized: ['embeddings.word_embeddings.weight', 'embeddings.token_type_embeddings.weight', 'embeddings.position_embeddings.weight', 'embeddings.LayerNorm.weight', 'embeddings.LayerNorm.bias', 'encoder.layer.0.attention.self.query.weight', 'encoder.layer.0.attention.self.query.bias', 'encoder.layer.0.attention.self.key.weight', 'encoder.layer.0.attention.self.key.bias', 'encoder.layer.0.attention.self.value.weight', 'encoder.layer.0.attention.self.value.bias', 'encoder.layer.0.attention.output.dense.weight', 'encoder.layer.0.attention.output.dense.bias', 'encoder.layer.0.attention.output.LayerNorm.weight', 'encoder.layer.0.attention.output.LayerNorm.bias', 'encoder.layer.0.intermediate.dense.weight', 'encoder.layer.0.intermediate.dense.bias', 'encoder.layer.0.output.dense.weight', 'encoder.layer.0.output.dense.bias', 'encoder.layer.0.output.LayerNorm.weight', 'encoder.layer.0.output.LayerNorm.bias', 'encoder.layer.1.attention.self.query.weight', 'encoder.layer.1.attention.self.query.bias', 'encoder.layer.1.attention.self.key.weight', 'encoder.layer.1.attention.self.key.bias', 'encoder.layer.1.attention.self.value.weight', 'encoder.layer.1.attention.self.value.bias', 'encoder.layer.1.attention.output.dense.weight', 'encoder.layer.1.attention.output.dense.bias', 'encoder.layer.1.attention.output.LayerNorm.weight', 'encoder.layer.1.attention.output.LayerNorm.bias', 'encoder.layer.1.intermediate.dense.weight', 'encoder.layer.1.intermediate.dense.bias', 'encoder.layer.1.output.dense.weight', 'encoder.layer.1.output.dense.bias', 'encoder.layer.1.output.LayerNorm.weight', 'encoder.layer.1.output.LayerNorm.bias', 'encoder.layer.2.attention.self.query.weight', 'encoder.layer.2.attention.self.query.bias', 'encoder.layer.2.attention.self.key.weight', 'encoder.layer.2.attention.self.key.bias', 'encoder.layer.2.attention.self.value.weight', 'encoder.layer.2.attention.self.value.bias', 'encoder.layer.2.attention.output.dense.weight', 'encoder.layer.2.attention.output.dense.bias', 'encoder.layer.2.attention.output.LayerNorm.weight', 'encoder.layer.2.attention.output.LayerNorm.bias', 'encoder.layer.2.intermediate.dense.weight', 'encoder.layer.2.intermediate.dense.bias', 'encoder.layer.2.output.dense.weight', 'encoder.layer.2.output.dense.bias', 'encoder.layer.2.output.LayerNorm.weight', 'encoder.layer.2.output.LayerNorm.bias', 'encoder.layer.3.attention.self.query.weight', 'encoder.layer.3.attention.self.query.bias', 'encoder.layer.3.attention.self.key.weight', 'encoder.layer.3.attention.self.key.bias', 'encoder.layer.3.attention.self.value.weight', 'encoder.layer.3.attention.self.value.bias', 'encoder.layer.3.attention.output.dense.weight', 'encoder.layer.3.attention.output.dense.bias', 'encoder.layer.3.attention.output.LayerNorm.weight', 'encoder.layer.3.attention.output.LayerNorm.bias', 'encoder.layer.3.intermediate.dense.weight', 'encoder.layer.3.intermediate.dense.bias', 'encoder.layer.3.output.dense.weight', 'encoder.layer.3.output.dense.bias', 'encoder.layer.3.output.LayerNorm.weight', 'encoder.layer.3.output.LayerNorm.bias', 'encoder.layer.4.attention.self.query.weight', 'encoder.layer.4.attention.self.query.bias', 'encoder.layer.4.attention.self.key.weight', 'encoder.layer.4.attention.self.key.bias', 'encoder.layer.4.attention.self.value.weight', 'encoder.layer.4.attention.self.value.bias', 'encoder.layer.4.attention.output.dense.weight', 'encoder.layer.4.attention.output.dense.bias', 'encoder.layer.4.attention.output.LayerNorm.weight', 'encoder.layer.4.attention.output.LayerNorm.bias', 'encoder.layer.4.intermediate.dense.weight', 'encoder.layer.4.intermediate.dense.bias', 'encoder.layer.4.output.dense.weight', 'encoder.layer.4.output.dense.bias', 'encoder.layer.4.output.LayerNorm.weight', 'encoder.layer.4.output.LayerNorm.bias', 'encoder.layer.5.attention.self.query.weight', 'encoder.layer.5.attention.self.query.bias', 'encoder.layer.5.attention.self.key.weight', 'encoder.layer.5.attention.self.key.bias', 'encoder.layer.5.attention.self.value.weight', 'encoder.layer.5.attention.self.value.bias', 'encoder.layer.5.attention.output.dense.weight', 'encoder.layer.5.attention.output.dense.bias', 'encoder.layer.5.attention.output.LayerNorm.weight', 'encoder.layer.5.attention.output.LayerNorm.bias', 'encoder.layer.5.intermediate.dense.weight', 'encoder.layer.5.intermediate.dense.bias', 'encoder.layer.5.output.dense.weight', 'encoder.layer.5.output.dense.bias', 'encoder.layer.5.output.LayerNorm.weight', 'encoder.layer.5.output.LayerNorm.bias', 'encoder.layer.6.attention.self.query.weight', 'encoder.layer.6.attention.self.query.bias', 'encoder.layer.6.attention.self.key.weight', 'encoder.layer.6.attention.self.key.bias', 'encoder.layer.6.attention.self.value.weight', 'encoder.layer.6.attention.self.value.bias', 'encoder.layer.6.attention.output.dense.weight', 'encoder.layer.6.attention.output.dense.bias', 'encoder.layer.6.attention.output.LayerNorm.weight', 'encoder.layer.6.attention.output.LayerNorm.bias', 'encoder.layer.6.intermediate.dense.weight', 'encoder.layer.6.intermediate.dense.bias', 'encoder.layer.6.output.dense.weight', 'encoder.layer.6.output.dense.bias', 'encoder.layer.6.output.LayerNorm.weight', 'encoder.layer.6.output.LayerNorm.bias', 'encoder.layer.7.attention.self.query.weight', 'encoder.layer.7.attention.self.query.bias', 'encoder.layer.7.attention.self.key.weight', 'encoder.layer.7.attention.self.key.bias', 'encoder.layer.7.attention.self.value.weight', 'encoder.layer.7.attention.self.value.bias', 'encoder.layer.7.attention.output.dense.weight', 'encoder.layer.7.attention.output.dense.bias', 'encoder.layer.7.attention.output.LayerNorm.weight', 'encoder.layer.7.attention.output.LayerNorm.bias', 'encoder.layer.7.intermediate.dense.weight', 'encoder.layer.7.intermediate.dense.bias', 'encoder.layer.7.output.dense.weight', 'encoder.layer.7.output.dense.bias', 'encoder.layer.7.output.LayerNorm.weight', 'encoder.layer.7.output.LayerNorm.bias', 'encoder.layer.8.attention.self.query.weight', 'encoder.layer.8.attention.self.query.bias', 'encoder.layer.8.attention.self.key.weight', 'encoder.layer.8.attention.self.key.bias', 'encoder.layer.8.attention.self.value.weight', 'encoder.layer.8.attention.self.value.bias', 'encoder.layer.8.attention.output.dense.weight', 'encoder.layer.8.attention.output.dense.bias', 'encoder.layer.8.attention.output.LayerNorm.weight', 'encoder.layer.8.attention.output.LayerNorm.bias', 'encoder.layer.8.intermediate.dense.weight', 'encoder.layer.8.intermediate.dense.bias', 'encoder.layer.8.output.dense.weight', 'encoder.layer.8.output.dense.bias', 'encoder.layer.8.output.LayerNorm.weight', 'encoder.layer.8.output.LayerNorm.bias', 'encoder.layer.9.attention.self.query.weight', 'encoder.layer.9.attention.self.query.bias', 'encoder.layer.9.attention.self.key.weight', 'encoder.layer.9.attention.self.key.bias', 'encoder.layer.9.attention.self.value.weight', 'encoder.layer.9.attention.self.value.bias', 'encoder.layer.9.attention.output.dense.weight', 'encoder.layer.9.attention.output.dense.bias', 'encoder.layer.9.attention.output.LayerNorm.weight', 'encoder.layer.9.attention.output.LayerNorm.bias', 'encoder.layer.9.intermediate.dense.weight', 'encoder.layer.9.intermediate.dense.bias', 'encoder.layer.9.output.dense.weight', 'encoder.layer.9.output.dense.bias', 'encoder.layer.9.output.LayerNorm.weight', 'encoder.layer.9.output.LayerNorm.bias', 'encoder.layer.10.attention.self.query.weight', 'encoder.layer.10.attention.self.query.bias', 'encoder.layer.10.attention.self.key.weight', 'encoder.layer.10.attention.self.key.bias', 'encoder.layer.10.attention.self.value.weight', 'encoder.layer.10.attention.self.value.bias', 'encoder.layer.10.attention.output.dense.weight', 'encoder.layer.10.attention.output.dense.bias', 'encoder.layer.10.attention.output.LayerNorm.weight', 'encoder.layer.10.attention.output.LayerNorm.bias', 'encoder.layer.10.intermediate.dense.weight', 'encoder.layer.10.intermediate.dense.bias', 'encoder.layer.10.output.dense.weight', 'encoder.layer.10.output.dense.bias', 'encoder.layer.10.output.LayerNorm.weight', 'encoder.layer.10.output.LayerNorm.bias', 'encoder.layer.11.attention.self.query.weight', 'encoder.layer.11.attention.self.query.bias', 'encoder.layer.11.attention.self.key.weight', 'encoder.layer.11.attention.self.key.bias', 'encoder.layer.11.attention.self.value.weight', 'encoder.layer.11.attention.self.value.bias', 'encoder.layer.11.attention.output.dense.weight', 'encoder.layer.11.attention.output.dense.bias', 'encoder.layer.11.attention.output.LayerNorm.weight', 'encoder.layer.11.attention.output.LayerNorm.bias', 'encoder.layer.11.intermediate.dense.weight', 'encoder.layer.11.intermediate.dense.bias', 'encoder.layer.11.output.dense.weight', 'encoder.layer.11.output.dense.bias', 'encoder.layer.11.output.LayerNorm.weight', 'encoder.layer.11.output.LayerNorm.bias', 'pooler.dense.weight', 'pooler.dense.bias', 'classifier.weight', 'classifier.bias']\n",
      "You should probably TRAIN this model on a down-stream task to be able to use it for predictions and inference.\n",
      "WARNING:absl:At this time, the v2.11+ optimizer `tf.keras.optimizers.Adam` runs slowly on M1/M2 Macs, please use the legacy Keras optimizer instead, located at `tf.keras.optimizers.legacy.Adam`.\n",
      "WARNING:absl:There is a known slowdown when using v2.11+ Keras optimizers on M1/M2 Macs. Falling back to the legacy Keras optimizer, i.e., `tf.keras.optimizers.legacy.Adam`.\n"
     ]
    },
    {
     "name": "stdout",
     "output_type": "stream",
     "text": [
      "Epoch 1/10\n",
      "3/3 [==============================] - 7s 1s/step - loss: 2.9323 - accuracy: 0.1190 - val_loss: 2.8315 - val_accuracy: 0.1429\n",
      "Epoch 2/10\n",
      "3/3 [==============================] - 3s 878ms/step - loss: 2.7036 - accuracy: 0.1548 - val_loss: 2.8340 - val_accuracy: 0.1429\n",
      "Epoch 3/10\n",
      "3/3 [==============================] - 3s 862ms/step - loss: 2.5790 - accuracy: 0.2381 - val_loss: 2.6738 - val_accuracy: 0.1429\n",
      "Epoch 4/10\n",
      "3/3 [==============================] - 3s 860ms/step - loss: 2.4489 - accuracy: 0.2381 - val_loss: 2.3749 - val_accuracy: 0.2381\n",
      "Epoch 5/10\n",
      "3/3 [==============================] - 3s 863ms/step - loss: 2.1681 - accuracy: 0.4762 - val_loss: 2.1669 - val_accuracy: 0.3333\n",
      "Epoch 6/10\n",
      "3/3 [==============================] - 3s 919ms/step - loss: 1.9348 - accuracy: 0.5000 - val_loss: 1.9447 - val_accuracy: 0.4286\n",
      "Epoch 7/10\n",
      "3/3 [==============================] - 3s 878ms/step - loss: 1.6869 - accuracy: 0.6429 - val_loss: 1.7072 - val_accuracy: 0.7143\n",
      "Epoch 8/10\n",
      "3/3 [==============================] - 3s 866ms/step - loss: 1.3488 - accuracy: 0.7976 - val_loss: 1.3737 - val_accuracy: 0.7143\n",
      "Epoch 9/10\n",
      "3/3 [==============================] - 3s 872ms/step - loss: 1.0549 - accuracy: 0.9524 - val_loss: 1.1518 - val_accuracy: 0.7619\n",
      "Epoch 10/10\n",
      "3/3 [==============================] - 3s 884ms/step - loss: 0.8222 - accuracy: 0.9405 - val_loss: 0.8524 - val_accuracy: 0.9048\n",
      "1/1 [==============================] - 1s 962ms/step\n",
      "Fold 5 results - Accuracy: 4.76%, Precision: 4.76%, Recall: 4.76%, F1 Score: 4.76%\n"
     ]
    }
   ],
   "source": [
    "# K-fold cross-validation\n",
    "kf = KFold(n_splits=N_SPLITS, shuffle=True, random_state=42)\n",
    "fold = 0\n",
    "results = []\n",
    "\n",
    "training_times = []\n",
    "training_losses = []\n",
    "validation_losses = []\n",
    "\n",
    "for train_index, test_index in kf.split(questions):\n",
    "    fold += 1\n",
    "    print(f\"Fold {fold}\")\n",
    "\n",
    "    train_questions = [questions[i] for i in train_index]\n",
    "    test_questions = [questions[i] for i in test_index]\n",
    "    train_labels = [encoded_labels[i] for i in train_index]\n",
    "    test_labels = [encoded_labels[i] for i in test_index]\n",
    "\n",
    "    train_encodings = tokenize_data(train_questions, max_length=MAX_LENGTH)\n",
    "    test_encodings = tokenize_data(test_questions, max_length=MAX_LENGTH)\n",
    "\n",
    "    train_dataset = convert_to_tf_dataset(train_encodings, train_labels, batch_size=BATCH_SIZE)\n",
    "    test_dataset = convert_to_tf_dataset(test_encodings, test_labels, batch_size=BATCH_SIZE)\n",
    "\n",
    "    # Load BERT model for sequence classification\n",
    "    model = TFBertForSequenceClassification.from_pretrained(MODEL_TYPE, num_labels=len(label_encoder.classes_))\n",
    "\n",
    "    # Compile the model\n",
    "    optimizer = tf.keras.optimizers.Adam(learning_rate=LEARNING_RATE)\n",
    "    loss = tf.keras.losses.SparseCategoricalCrossentropy(from_logits=True)\n",
    "    metrics = [tf.keras.metrics.SparseCategoricalAccuracy('accuracy')]\n",
    "\n",
    "    model.compile(optimizer=optimizer, loss=loss, metrics=metrics)\n",
    "\n",
    "    # Train the model\n",
    "    start_time = time.time()\n",
    "    history = model.fit(train_dataset, epochs=EPOCHS, validation_data=test_dataset, verbose=1)\n",
    "    training_time = time.time() - start_time\n",
    "\n",
    "    training_times.append(training_time)\n",
    "    training_losses.append(np.mean(history.history['loss']))\n",
    "    validation_losses.append(np.mean(history.history['val_loss']))\n",
    "\n",
    "    # Evaluate the model\n",
    "    predictions = model.predict(test_dataset).logits\n",
    "    predictions = np.argmax(predictions, axis=1)\n",
    "\n",
    "    accuracy = accuracy_score(test_labels, predictions) * 100\n",
    "    precision = precision_score(test_labels, predictions, average='weighted') * 100\n",
    "    recall = recall_score(test_labels, predictions, average='weighted') * 100\n",
    "    f1 = f1_score(test_labels, predictions, average='weighted') * 100\n",
    "\n",
    "    results.append({\n",
    "        'fold': fold,\n",
    "        'accuracy': accuracy,\n",
    "        'precision': precision,\n",
    "        'recall': recall,\n",
    "        'f1': f1\n",
    "    })\n",
    "\n",
    "    print(f\"Fold {fold} results - Accuracy: {accuracy:.2f}%, Precision: {precision:.2f}%, Recall: {recall:.2f}%, F1 Score: {f1:.2f}%\")"
   ]
  },
  {
   "cell_type": "code",
   "execution_count": 25,
   "id": "4cb2b00d-8bda-4020-934a-bee46f8b511b",
   "metadata": {},
   "outputs": [
    {
     "name": "stdout",
     "output_type": "stream",
     "text": [
      "\n",
      "Average results across all folds:\n",
      "Accuracy: 5.71%\n",
      "Precision: 5.24%\n",
      "Recall: 5.71%\n",
      "F1: 5.40%\n",
      "Average Training Time: 30.91 seconds\n",
      "Average Training Loss: 1.9524\n",
      "Average Validation Loss: 2.0947\n"
     ]
    }
   ],
   "source": [
    "# Calculate and print average metrics\n",
    "average_results = {metric: np.mean([result[metric] for result in results]) for metric in results[0].keys() if metric != 'fold'}\n",
    "average_training_time = np.mean(training_times)\n",
    "average_training_loss = np.mean(training_losses)\n",
    "average_validation_loss = np.mean(validation_losses)\n",
    "\n",
    "print(\"\\nAverage results across all folds:\")\n",
    "for metric, value in average_results.items():\n",
    "    print(f\"{metric.capitalize()}: {value:.2f}%\")\n",
    "\n",
    "print(f\"Average Training Time: {average_training_time:.2f} seconds\")\n",
    "print(f\"Average Training Loss: {average_training_loss:.4f}\")\n",
    "print(f\"Average Validation Loss: {average_validation_loss:.4f}\")"
   ]
  },
  {
   "cell_type": "code",
   "execution_count": 26,
   "id": "4f379df1-fc3a-4e14-8b2b-2c408eb7f9ae",
   "metadata": {},
   "outputs": [
    {
     "name": "stderr",
     "output_type": "stream",
     "text": [
      "Some layers from the model checkpoint at bert_chatbot_model were not used when initializing TFBertForSequenceClassification: ['dropout_1023']\n",
      "- This IS expected if you are initializing TFBertForSequenceClassification from the checkpoint of a model trained on another task or with another architecture (e.g. initializing a BertForSequenceClassification model from a BertForPreTraining model).\n",
      "- This IS NOT expected if you are initializing TFBertForSequenceClassification from the checkpoint of a model that you expect to be exactly identical (initializing a BertForSequenceClassification model from a BertForSequenceClassification model).\n",
      "All the layers of TFBertForSequenceClassification were initialized from the model checkpoint at bert_chatbot_model.\n",
      "If your task is similar to the task the model of the checkpoint was trained on, you can already use TFBertForSequenceClassification for predictions without further training.\n",
      "The tokenizer class you load from this checkpoint is not the same type as the class this function is called from. It may result in unexpected tokenization. \n",
      "The tokenizer class you load from this checkpoint is 'DistilBertTokenizer'. \n",
      "The class this function is called from is 'BertTokenizer'.\n"
     ]
    }
   ],
   "source": [
    "# Save the final model, tokenizer, and label encoder\n",
    "model.save_pretrained('bert_chatbot_model')\n",
    "tokenizer.save_pretrained('bert_chatbot_tokenizer')\n",
    "np.save('label_encoder_classes.npy', label_encoder.classes_)\n",
    "\n",
    "# Load the model, tokenizer, and label encoder\n",
    "model = TFBertForSequenceClassification.from_pretrained('bert_chatbot_model')\n",
    "tokenizer = BertTokenizer.from_pretrained('bert_chatbot_tokenizer')\n",
    "label_encoder = LabelEncoder()\n",
    "label_encoder.classes_ = np.load('label_encoder_classes.npy', allow_pickle=True)\n"
   ]
  },
  {
   "cell_type": "code",
   "execution_count": 27,
   "id": "392c1eac-c191-4449-9530-22b8cd144a96",
   "metadata": {},
   "outputs": [
    {
     "name": "stdout",
     "output_type": "stream",
     "text": [
      "Start chatting with the bot (type 'exit' to stop)!\n"
     ]
    },
    {
     "name": "stdin",
     "output_type": "stream",
     "text": [
      "You:  exit\n"
     ]
    },
    {
     "name": "stdout",
     "output_type": "stream",
     "text": [
      "Chatbot: Goodbye!\n"
     ]
    }
   ],
   "source": [
    "# Load the dataset again for responses\n",
    "with open('Combined_training.json', 'r') as f:\n",
    "    data = json.load(f)\n",
    "\n",
    "# Create a dictionary to map tags to responses\n",
    "tag_to_response = {intent['tag']: intent['responses'] for intent in data['intents']}\n",
    "\n",
    "# Function to chat with the model\n",
    "def chat_with_bert(user_input):\n",
    "    # Tokenize the user input\n",
    "    inputs = tokenizer(user_input, return_tensors='tf', max_length=128, padding='max_length', truncation=True)\n",
    "    \n",
    "    # Predict the response\n",
    "    outputs = model(inputs)\n",
    "    predicted_label = tf.argmax(outputs.logits, axis=1).numpy()[0]\n",
    "    predicted_tag = label_encoder.inverse_transform([predicted_label])[0]\n",
    "    \n",
    "    # Get the response from the tag_to_response dictionary\n",
    "    if predicted_tag in tag_to_response:\n",
    "        predicted_response = np.random.choice(tag_to_response[predicted_tag])\n",
    "    else:\n",
    "        predicted_response = \"I'm not sure how to respond to that. Can you please rephrase?\"\n",
    "\n",
    "    return predicted_response\n",
    "\n",
    "# Interactive chat\n",
    "print(\"Start chatting with the bot (type 'exit' to stop)!\")\n",
    "while True:\n",
    "    user_input = input(\"You: \")\n",
    "    if user_input.lower() == 'exit':\n",
    "        print(\"Chatbot: Goodbye!\")\n",
    "        break\n",
    "    response = chat_with_bert(user_input)\n",
    "    print(f\"Chatbot: {response}\")\n"
   ]
  },
  {
   "cell_type": "code",
   "execution_count": null,
   "id": "29ff9b1d-1c46-47b6-898d-632450a475e3",
   "metadata": {},
   "outputs": [],
   "source": []
  },
  {
   "cell_type": "code",
   "execution_count": 28,
   "id": "e31cf48f-9649-4808-bbd3-fc6f835960e0",
   "metadata": {},
   "outputs": [],
   "source": [
    "#bert-base-uncased"
   ]
  },
  {
   "cell_type": "code",
   "execution_count": 29,
   "id": "111360c3-4765-44a6-b67e-e812f954b14a",
   "metadata": {},
   "outputs": [],
   "source": [
    "import json\n",
    "import numpy as np\n",
    "import nltk\n",
    "import time\n",
    "import random\n",
    "import string\n",
    "import tensorflow as tf\n",
    "from sklearn.model_selection import KFold\n",
    "from sklearn.preprocessing import LabelEncoder\n",
    "from sklearn.metrics import accuracy_score, precision_score, recall_score, f1_score\n",
    "from transformers import BertTokenizer, TFBertForSequenceClassification\n",
    "\n",
    "import warnings\n",
    "warnings.filterwarnings('ignore')"
   ]
  },
  {
   "cell_type": "code",
   "execution_count": 30,
   "id": "9a506719-5c99-4ef4-926b-014e7f2facf6",
   "metadata": {},
   "outputs": [],
   "source": [
    "# Load and preprocess your dataset\n",
    "with open('Combined_training.json', 'r') as f:\n",
    "    data = json.load(f)\n",
    "\n",
    "# Extract patterns and responses\n",
    "questions = []\n",
    "labels = []\n",
    "\n",
    "for intent in data['intents']:\n",
    "    for pattern in intent['patterns']:\n",
    "        questions.append(pattern)\n",
    "        labels.append(intent['tag'])"
   ]
  },
  {
   "cell_type": "code",
   "execution_count": 31,
   "id": "5b9822fe-9608-4d64-b2c5-7642b6889aa0",
   "metadata": {},
   "outputs": [],
   "source": [
    "# Encode the labels\n",
    "label_encoder = LabelEncoder()\n",
    "encoded_labels = label_encoder.fit_transform(labels)\n",
    "\n",
    "# Load BERT tokenizer\n",
    "MODEL_TYPE = 'bert-base-uncased'\n",
    "tokenizer = BertTokenizer.from_pretrained(MODEL_TYPE)"
   ]
  },
  {
   "cell_type": "code",
   "execution_count": 32,
   "id": "ac38357e-408e-44c7-b2a0-587892d0e930",
   "metadata": {},
   "outputs": [],
   "source": [
    "# Tokenize the data\n",
    "def tokenize_data(questions, max_length):\n",
    "    encodings = tokenizer(questions, truncation=True, padding=True, max_length=max_length)\n",
    "    return encodings\n",
    "\n",
    "# Convert data to TensorFlow Dataset format\n",
    "def convert_to_tf_dataset(encodings, labels, batch_size):\n",
    "    dataset = tf.data.Dataset.from_tensor_slices((dict(encodings), labels))\n",
    "    dataset = dataset.shuffle(len(labels)).batch(batch_size)\n",
    "    return dataset"
   ]
  },
  {
   "cell_type": "code",
   "execution_count": 33,
   "id": "55a792ff-b626-4690-beda-796a94753dd4",
   "metadata": {},
   "outputs": [],
   "source": [
    "# Hyperparameters\n",
    "MAX_LENGTH = 128\n",
    "BATCH_SIZE = 32\n",
    "LEARNING_RATE = 5e-5\n",
    "EPOCHS = 10\n",
    "N_SPLITS = 5"
   ]
  },
  {
   "cell_type": "code",
   "execution_count": 34,
   "id": "992d54b7-1e65-4720-a4ed-3758bcdf4fda",
   "metadata": {},
   "outputs": [
    {
     "name": "stdout",
     "output_type": "stream",
     "text": [
      "Fold 1\n"
     ]
    },
    {
     "name": "stderr",
     "output_type": "stream",
     "text": [
      "All PyTorch model weights were used when initializing TFBertForSequenceClassification.\n",
      "\n",
      "Some weights or buffers of the TF 2.0 model TFBertForSequenceClassification were not initialized from the PyTorch model and are newly initialized: ['classifier.weight', 'classifier.bias']\n",
      "You should probably TRAIN this model on a down-stream task to be able to use it for predictions and inference.\n",
      "WARNING:absl:At this time, the v2.11+ optimizer `tf.keras.optimizers.Adam` runs slowly on M1/M2 Macs, please use the legacy Keras optimizer instead, located at `tf.keras.optimizers.legacy.Adam`.\n",
      "WARNING:absl:There is a known slowdown when using v2.11+ Keras optimizers on M1/M2 Macs. Falling back to the legacy Keras optimizer, i.e., `tf.keras.optimizers.legacy.Adam`.\n"
     ]
    },
    {
     "name": "stdout",
     "output_type": "stream",
     "text": [
      "Epoch 1/10\n",
      "3/3 [==============================] - 7s 1s/step - loss: 2.7948 - accuracy: 0.0595 - val_loss: 2.6217 - val_accuracy: 0.1905\n",
      "Epoch 2/10\n",
      "3/3 [==============================] - 2s 793ms/step - loss: 2.6356 - accuracy: 0.1310 - val_loss: 2.4861 - val_accuracy: 0.2857\n",
      "Epoch 3/10\n",
      "3/3 [==============================] - 2s 793ms/step - loss: 2.4779 - accuracy: 0.2262 - val_loss: 2.3382 - val_accuracy: 0.4286\n",
      "Epoch 4/10\n",
      "3/3 [==============================] - 2s 808ms/step - loss: 2.3449 - accuracy: 0.3810 - val_loss: 2.2655 - val_accuracy: 0.4286\n",
      "Epoch 5/10\n",
      "3/3 [==============================] - 2s 807ms/step - loss: 2.1861 - accuracy: 0.4881 - val_loss: 2.1421 - val_accuracy: 0.4286\n",
      "Epoch 6/10\n",
      "3/3 [==============================] - 3s 839ms/step - loss: 1.9866 - accuracy: 0.6071 - val_loss: 1.8993 - val_accuracy: 0.6190\n",
      "Epoch 7/10\n",
      "3/3 [==============================] - 3s 826ms/step - loss: 1.8484 - accuracy: 0.7381 - val_loss: 1.7358 - val_accuracy: 0.6190\n",
      "Epoch 8/10\n",
      "3/3 [==============================] - 3s 861ms/step - loss: 1.6858 - accuracy: 0.8095 - val_loss: 1.5657 - val_accuracy: 0.7619\n",
      "Epoch 9/10\n",
      "3/3 [==============================] - 3s 839ms/step - loss: 1.5390 - accuracy: 0.8571 - val_loss: 1.4256 - val_accuracy: 0.7619\n",
      "Epoch 10/10\n",
      "3/3 [==============================] - 3s 843ms/step - loss: 1.3674 - accuracy: 0.8810 - val_loss: 1.3245 - val_accuracy: 0.8095\n",
      "1/1 [==============================] - 1s 1s/step\n",
      "Fold 1 results - Accuracy: 4.76%, Precision: 4.76%, Recall: 4.76%, F1 Score: 4.76%\n",
      "Fold 2\n"
     ]
    },
    {
     "name": "stderr",
     "output_type": "stream",
     "text": [
      "All PyTorch model weights were used when initializing TFBertForSequenceClassification.\n",
      "\n",
      "Some weights or buffers of the TF 2.0 model TFBertForSequenceClassification were not initialized from the PyTorch model and are newly initialized: ['classifier.weight', 'classifier.bias']\n",
      "You should probably TRAIN this model on a down-stream task to be able to use it for predictions and inference.\n",
      "WARNING:absl:At this time, the v2.11+ optimizer `tf.keras.optimizers.Adam` runs slowly on M1/M2 Macs, please use the legacy Keras optimizer instead, located at `tf.keras.optimizers.legacy.Adam`.\n",
      "WARNING:absl:There is a known slowdown when using v2.11+ Keras optimizers on M1/M2 Macs. Falling back to the legacy Keras optimizer, i.e., `tf.keras.optimizers.legacy.Adam`.\n"
     ]
    },
    {
     "name": "stdout",
     "output_type": "stream",
     "text": [
      "Epoch 1/10\n",
      "3/3 [==============================] - 7s 1s/step - loss: 2.7817 - accuracy: 0.1310 - val_loss: 2.8242 - val_accuracy: 0.1429\n",
      "Epoch 2/10\n",
      "3/3 [==============================] - 3s 831ms/step - loss: 2.6177 - accuracy: 0.1548 - val_loss: 2.6144 - val_accuracy: 0.2381\n",
      "Epoch 3/10\n",
      "3/3 [==============================] - 3s 835ms/step - loss: 2.4445 - accuracy: 0.3333 - val_loss: 2.3664 - val_accuracy: 0.3810\n",
      "Epoch 4/10\n",
      "3/3 [==============================] - 3s 839ms/step - loss: 2.2648 - accuracy: 0.4286 - val_loss: 2.1245 - val_accuracy: 0.5238\n",
      "Epoch 5/10\n",
      "3/3 [==============================] - 3s 839ms/step - loss: 2.0868 - accuracy: 0.5952 - val_loss: 1.9445 - val_accuracy: 0.7619\n",
      "Epoch 6/10\n",
      "3/3 [==============================] - 3s 855ms/step - loss: 1.8985 - accuracy: 0.6905 - val_loss: 1.7764 - val_accuracy: 0.8095\n",
      "Epoch 7/10\n",
      "3/3 [==============================] - 3s 851ms/step - loss: 1.7038 - accuracy: 0.7976 - val_loss: 1.6792 - val_accuracy: 0.9524\n",
      "Epoch 8/10\n",
      "3/3 [==============================] - 3s 900ms/step - loss: 1.5287 - accuracy: 0.9405 - val_loss: 1.5484 - val_accuracy: 1.0000\n",
      "Epoch 9/10\n",
      "3/3 [==============================] - 3s 853ms/step - loss: 1.3797 - accuracy: 0.9881 - val_loss: 1.3953 - val_accuracy: 1.0000\n",
      "Epoch 10/10\n",
      "3/3 [==============================] - 3s 856ms/step - loss: 1.2113 - accuracy: 0.9881 - val_loss: 1.2566 - val_accuracy: 1.0000\n",
      "1/1 [==============================] - 1s 1s/step\n",
      "Fold 2 results - Accuracy: 4.76%, Precision: 4.76%, Recall: 4.76%, F1 Score: 4.76%\n",
      "Fold 3\n"
     ]
    },
    {
     "name": "stderr",
     "output_type": "stream",
     "text": [
      "All PyTorch model weights were used when initializing TFBertForSequenceClassification.\n",
      "\n",
      "Some weights or buffers of the TF 2.0 model TFBertForSequenceClassification were not initialized from the PyTorch model and are newly initialized: ['classifier.weight', 'classifier.bias']\n",
      "You should probably TRAIN this model on a down-stream task to be able to use it for predictions and inference.\n",
      "WARNING:absl:At this time, the v2.11+ optimizer `tf.keras.optimizers.Adam` runs slowly on M1/M2 Macs, please use the legacy Keras optimizer instead, located at `tf.keras.optimizers.legacy.Adam`.\n",
      "WARNING:absl:There is a known slowdown when using v2.11+ Keras optimizers on M1/M2 Macs. Falling back to the legacy Keras optimizer, i.e., `tf.keras.optimizers.legacy.Adam`.\n"
     ]
    },
    {
     "name": "stdout",
     "output_type": "stream",
     "text": [
      "Epoch 1/10\n",
      "3/3 [==============================] - 7s 1s/step - loss: 2.7892 - accuracy: 0.0833 - val_loss: 2.7056 - val_accuracy: 0.1905\n",
      "Epoch 2/10\n",
      "3/3 [==============================] - 3s 854ms/step - loss: 2.6832 - accuracy: 0.1548 - val_loss: 2.6347 - val_accuracy: 0.2381\n",
      "Epoch 3/10\n",
      "3/3 [==============================] - 3s 854ms/step - loss: 2.5564 - accuracy: 0.2262 - val_loss: 2.6294 - val_accuracy: 0.2857\n",
      "Epoch 4/10\n",
      "3/3 [==============================] - 3s 863ms/step - loss: 2.4637 - accuracy: 0.2857 - val_loss: 2.5912 - val_accuracy: 0.2381\n",
      "Epoch 5/10\n",
      "3/3 [==============================] - 3s 866ms/step - loss: 2.3704 - accuracy: 0.2500 - val_loss: 2.4974 - val_accuracy: 0.2857\n",
      "Epoch 6/10\n",
      "3/3 [==============================] - 3s 866ms/step - loss: 2.2866 - accuracy: 0.2738 - val_loss: 2.4440 - val_accuracy: 0.2857\n",
      "Epoch 7/10\n",
      "3/3 [==============================] - 3s 863ms/step - loss: 2.1242 - accuracy: 0.4524 - val_loss: 2.3159 - val_accuracy: 0.3333\n",
      "Epoch 8/10\n",
      "3/3 [==============================] - 3s 864ms/step - loss: 2.0184 - accuracy: 0.5000 - val_loss: 2.2410 - val_accuracy: 0.3333\n",
      "Epoch 9/10\n",
      "3/3 [==============================] - 3s 868ms/step - loss: 1.8382 - accuracy: 0.6310 - val_loss: 2.0748 - val_accuracy: 0.5238\n",
      "Epoch 10/10\n",
      "3/3 [==============================] - 3s 867ms/step - loss: 1.6852 - accuracy: 0.7857 - val_loss: 1.9412 - val_accuracy: 0.5238\n",
      "1/1 [==============================] - 1s 1s/step\n",
      "Fold 3 results - Accuracy: 14.29%, Precision: 12.70%, Recall: 14.29%, F1 Score: 13.42%\n",
      "Fold 4\n"
     ]
    },
    {
     "name": "stderr",
     "output_type": "stream",
     "text": [
      "All PyTorch model weights were used when initializing TFBertForSequenceClassification.\n",
      "\n",
      "Some weights or buffers of the TF 2.0 model TFBertForSequenceClassification were not initialized from the PyTorch model and are newly initialized: ['classifier.weight', 'classifier.bias']\n",
      "You should probably TRAIN this model on a down-stream task to be able to use it for predictions and inference.\n",
      "WARNING:absl:At this time, the v2.11+ optimizer `tf.keras.optimizers.Adam` runs slowly on M1/M2 Macs, please use the legacy Keras optimizer instead, located at `tf.keras.optimizers.legacy.Adam`.\n",
      "WARNING:absl:There is a known slowdown when using v2.11+ Keras optimizers on M1/M2 Macs. Falling back to the legacy Keras optimizer, i.e., `tf.keras.optimizers.legacy.Adam`.\n"
     ]
    },
    {
     "name": "stdout",
     "output_type": "stream",
     "text": [
      "Epoch 1/10\n",
      "3/3 [==============================] - 7s 1s/step - loss: 2.8254 - accuracy: 0.0357 - val_loss: 2.7613 - val_accuracy: 0.1429\n",
      "Epoch 2/10\n",
      "3/3 [==============================] - 3s 835ms/step - loss: 2.6910 - accuracy: 0.0714 - val_loss: 2.6783 - val_accuracy: 0.1429\n",
      "Epoch 3/10\n",
      "3/3 [==============================] - 3s 836ms/step - loss: 2.5393 - accuracy: 0.1667 - val_loss: 2.6494 - val_accuracy: 0.2381\n",
      "Epoch 4/10\n",
      "3/3 [==============================] - 3s 853ms/step - loss: 2.4280 - accuracy: 0.2024 - val_loss: 2.4853 - val_accuracy: 0.2381\n",
      "Epoch 5/10\n",
      "3/3 [==============================] - 3s 843ms/step - loss: 2.2766 - accuracy: 0.4286 - val_loss: 2.4272 - val_accuracy: 0.3810\n",
      "Epoch 6/10\n",
      "3/3 [==============================] - 3s 854ms/step - loss: 2.1349 - accuracy: 0.5595 - val_loss: 2.2512 - val_accuracy: 0.3333\n",
      "Epoch 7/10\n",
      "3/3 [==============================] - 3s 876ms/step - loss: 1.9913 - accuracy: 0.5238 - val_loss: 2.1596 - val_accuracy: 0.3810\n",
      "Epoch 8/10\n",
      "3/3 [==============================] - 3s 848ms/step - loss: 1.8215 - accuracy: 0.5595 - val_loss: 2.0244 - val_accuracy: 0.3810\n",
      "Epoch 9/10\n",
      "3/3 [==============================] - 3s 847ms/step - loss: 1.6448 - accuracy: 0.6667 - val_loss: 1.8670 - val_accuracy: 0.6190\n",
      "Epoch 10/10\n",
      "3/3 [==============================] - 3s 856ms/step - loss: 1.4958 - accuracy: 0.7024 - val_loss: 1.6869 - val_accuracy: 0.7619\n",
      "1/1 [==============================] - 1s 917ms/step\n",
      "Fold 4 results - Accuracy: 14.29%, Precision: 11.11%, Recall: 14.29%, F1 Score: 11.90%\n",
      "Fold 5\n"
     ]
    },
    {
     "name": "stderr",
     "output_type": "stream",
     "text": [
      "All PyTorch model weights were used when initializing TFBertForSequenceClassification.\n",
      "\n",
      "Some weights or buffers of the TF 2.0 model TFBertForSequenceClassification were not initialized from the PyTorch model and are newly initialized: ['classifier.weight', 'classifier.bias']\n",
      "You should probably TRAIN this model on a down-stream task to be able to use it for predictions and inference.\n",
      "WARNING:absl:At this time, the v2.11+ optimizer `tf.keras.optimizers.Adam` runs slowly on M1/M2 Macs, please use the legacy Keras optimizer instead, located at `tf.keras.optimizers.legacy.Adam`.\n",
      "WARNING:absl:There is a known slowdown when using v2.11+ Keras optimizers on M1/M2 Macs. Falling back to the legacy Keras optimizer, i.e., `tf.keras.optimizers.legacy.Adam`.\n"
     ]
    },
    {
     "name": "stdout",
     "output_type": "stream",
     "text": [
      "Epoch 1/10\n",
      "3/3 [==============================] - 7s 1s/step - loss: 2.8296 - accuracy: 0.0476 - val_loss: 2.7872 - val_accuracy: 0.0000e+00\n",
      "Epoch 2/10\n",
      "3/3 [==============================] - 3s 854ms/step - loss: 2.6041 - accuracy: 0.1905 - val_loss: 2.5424 - val_accuracy: 0.1905\n",
      "Epoch 3/10\n",
      "3/3 [==============================] - 3s 857ms/step - loss: 2.5192 - accuracy: 0.2857 - val_loss: 2.4189 - val_accuracy: 0.2857\n",
      "Epoch 4/10\n",
      "3/3 [==============================] - 3s 859ms/step - loss: 2.3045 - accuracy: 0.4762 - val_loss: 2.2794 - val_accuracy: 0.4762\n",
      "Epoch 5/10\n",
      "3/3 [==============================] - 3s 866ms/step - loss: 2.1535 - accuracy: 0.6310 - val_loss: 2.1355 - val_accuracy: 0.5714\n",
      "Epoch 6/10\n",
      "3/3 [==============================] - 3s 870ms/step - loss: 2.0381 - accuracy: 0.6786 - val_loss: 1.9948 - val_accuracy: 0.6190\n",
      "Epoch 7/10\n",
      "3/3 [==============================] - 3s 911ms/step - loss: 1.8483 - accuracy: 0.7500 - val_loss: 1.8013 - val_accuracy: 0.7619\n",
      "Epoch 8/10\n",
      "3/3 [==============================] - 3s 870ms/step - loss: 1.6838 - accuracy: 0.9048 - val_loss: 1.6223 - val_accuracy: 1.0000\n",
      "Epoch 9/10\n",
      "3/3 [==============================] - 3s 868ms/step - loss: 1.5338 - accuracy: 0.9881 - val_loss: 1.4475 - val_accuracy: 1.0000\n",
      "Epoch 10/10\n",
      "3/3 [==============================] - 3s 872ms/step - loss: 1.3730 - accuracy: 0.9524 - val_loss: 1.3037 - val_accuracy: 1.0000\n",
      "1/1 [==============================] - 1s 1s/step\n",
      "Fold 5 results - Accuracy: 0.00%, Precision: 0.00%, Recall: 0.00%, F1 Score: 0.00%\n"
     ]
    }
   ],
   "source": [
    "# K-fold cross-validation\n",
    "kf = KFold(n_splits=N_SPLITS, shuffle=True, random_state=42)\n",
    "fold = 0\n",
    "results = []\n",
    "\n",
    "training_times = []\n",
    "training_losses = []\n",
    "validation_losses = []\n",
    "\n",
    "for train_index, test_index in kf.split(questions):\n",
    "    fold += 1\n",
    "    print(f\"Fold {fold}\")\n",
    "\n",
    "    train_questions = [questions[i] for i in train_index]\n",
    "    test_questions = [questions[i] for i in test_index]\n",
    "    train_labels = [encoded_labels[i] for i in train_index]\n",
    "    test_labels = [encoded_labels[i] for i in test_index]\n",
    "\n",
    "    train_encodings = tokenize_data(train_questions, max_length=MAX_LENGTH)\n",
    "    test_encodings = tokenize_data(test_questions, max_length=MAX_LENGTH)\n",
    "\n",
    "    train_dataset = convert_to_tf_dataset(train_encodings, train_labels, batch_size=BATCH_SIZE)\n",
    "    test_dataset = convert_to_tf_dataset(test_encodings, test_labels, batch_size=BATCH_SIZE)\n",
    "\n",
    "    # Load BERT model for sequence classification\n",
    "    model = TFBertForSequenceClassification.from_pretrained(MODEL_TYPE, num_labels=len(label_encoder.classes_))\n",
    "\n",
    "    # Compile the model\n",
    "    optimizer = tf.keras.optimizers.Adam(learning_rate=LEARNING_RATE)\n",
    "    loss = tf.keras.losses.SparseCategoricalCrossentropy(from_logits=True)\n",
    "    metrics = [tf.keras.metrics.SparseCategoricalAccuracy('accuracy')]\n",
    "\n",
    "    model.compile(optimizer=optimizer, loss=loss, metrics=metrics)\n",
    "\n",
    "    # Train the model\n",
    "    start_time = time.time()\n",
    "    history = model.fit(train_dataset, epochs=EPOCHS, validation_data=test_dataset, verbose=1)\n",
    "    training_time = time.time() - start_time\n",
    "\n",
    "    training_times.append(training_time)\n",
    "    training_losses.append(np.mean(history.history['loss']))\n",
    "    validation_losses.append(np.mean(history.history['val_loss']))\n",
    "\n",
    "    # Evaluate the model\n",
    "    predictions = model.predict(test_dataset).logits\n",
    "    predictions = np.argmax(predictions, axis=1)\n",
    "\n",
    "    accuracy = accuracy_score(test_labels, predictions) * 100\n",
    "    precision = precision_score(test_labels, predictions, average='weighted') * 100\n",
    "    recall = recall_score(test_labels, predictions, average='weighted') * 100\n",
    "    f1 = f1_score(test_labels, predictions, average='weighted') * 100\n",
    "\n",
    "    results.append({\n",
    "        'fold': fold,\n",
    "        'accuracy': accuracy,\n",
    "        'precision': precision,\n",
    "        'recall': recall,\n",
    "        'f1': f1\n",
    "    })\n",
    "\n",
    "    print(f\"Fold {fold} results - Accuracy: {accuracy:.2f}%, Precision: {precision:.2f}%, Recall: {recall:.2f}%, F1 Score: {f1:.2f}%\")"
   ]
  },
  {
   "cell_type": "code",
   "execution_count": 35,
   "id": "792a864f-b836-4ad3-812e-3097cea60e28",
   "metadata": {},
   "outputs": [
    {
     "name": "stdout",
     "output_type": "stream",
     "text": [
      "\n",
      "Average results across all folds:\n",
      "Accuracy: 7.62%\n",
      "Precision: 6.67%\n",
      "Recall: 7.62%\n",
      "F1: 6.97%\n",
      "Average Training Time: 30.55 seconds\n",
      "Average Training Loss: 2.1267\n",
      "Average Validation Loss: 2.1347\n"
     ]
    }
   ],
   "source": [
    "# Calculate and print average metrics\n",
    "average_results = {metric: np.mean([result[metric] for result in results]) for metric in results[0].keys() if metric != 'fold'}\n",
    "average_training_time = np.mean(training_times)\n",
    "average_training_loss = np.mean(training_losses)\n",
    "average_validation_loss = np.mean(validation_losses)\n",
    "\n",
    "print(\"\\nAverage results across all folds:\")\n",
    "for metric, value in average_results.items():\n",
    "    print(f\"{metric.capitalize()}: {value:.2f}%\")\n",
    "\n",
    "print(f\"Average Training Time: {average_training_time:.2f} seconds\")\n",
    "print(f\"Average Training Loss: {average_training_loss:.4f}\")\n",
    "print(f\"Average Validation Loss: {average_validation_loss:.4f}\")"
   ]
  },
  {
   "cell_type": "code",
   "execution_count": 36,
   "id": "e34775c4-d92f-45e6-912b-1adfdaff531b",
   "metadata": {},
   "outputs": [
    {
     "name": "stderr",
     "output_type": "stream",
     "text": [
      "Some layers from the model checkpoint at bert_chatbot_model were not used when initializing TFBertForSequenceClassification: ['dropout_1251']\n",
      "- This IS expected if you are initializing TFBertForSequenceClassification from the checkpoint of a model trained on another task or with another architecture (e.g. initializing a BertForSequenceClassification model from a BertForPreTraining model).\n",
      "- This IS NOT expected if you are initializing TFBertForSequenceClassification from the checkpoint of a model that you expect to be exactly identical (initializing a BertForSequenceClassification model from a BertForSequenceClassification model).\n",
      "All the layers of TFBertForSequenceClassification were initialized from the model checkpoint at bert_chatbot_model.\n",
      "If your task is similar to the task the model of the checkpoint was trained on, you can already use TFBertForSequenceClassification for predictions without further training.\n"
     ]
    }
   ],
   "source": [
    "# Save the final model, tokenizer, and label encoder\n",
    "model.save_pretrained('bert_chatbot_model')\n",
    "tokenizer.save_pretrained('bert_chatbot_tokenizer')\n",
    "np.save('label_encoder_classes.npy', label_encoder.classes_)\n",
    "\n",
    "# Load the model, tokenizer, and label encoder\n",
    "model = TFBertForSequenceClassification.from_pretrained('bert_chatbot_model')\n",
    "tokenizer = BertTokenizer.from_pretrained('bert_chatbot_tokenizer')\n",
    "label_encoder = LabelEncoder()\n",
    "label_encoder.classes_ = np.load('label_encoder_classes.npy', allow_pickle=True)"
   ]
  },
  {
   "cell_type": "code",
   "execution_count": 37,
   "id": "45da5607-fc1d-462a-8e77-9c9283465453",
   "metadata": {},
   "outputs": [
    {
     "name": "stdout",
     "output_type": "stream",
     "text": [
      "Start chatting with the bot (type 'exit' to stop)!\n"
     ]
    },
    {
     "name": "stdin",
     "output_type": "stream",
     "text": [
      "You:  exit\n"
     ]
    },
    {
     "name": "stdout",
     "output_type": "stream",
     "text": [
      "Chatbot: Goodbye!\n"
     ]
    }
   ],
   "source": [
    "# Load the dataset again for responses\n",
    "with open('Combined_training.json', 'r') as f:\n",
    "    data = json.load(f)\n",
    "\n",
    "# Create a dictionary to map tags to responses\n",
    "tag_to_response = {intent['tag']: intent['responses'] for intent in data['intents']}\n",
    "\n",
    "# Function to chat with the model\n",
    "def chat_with_bert(user_input):\n",
    "    # Tokenize the user input\n",
    "    inputs = tokenizer(user_input, return_tensors='tf', max_length=128, padding='max_length', truncation=True)\n",
    "    \n",
    "    # Predict the response\n",
    "    outputs = model(inputs)\n",
    "    predicted_label = tf.argmax(outputs.logits, axis=1).numpy()[0]\n",
    "    predicted_tag = label_encoder.inverse_transform([predicted_label])[0]\n",
    "    \n",
    "    # Get the response from the tag_to_response dictionary\n",
    "    if predicted_tag in tag_to_response:\n",
    "        predicted_response = np.random.choice(tag_to_response[predicted_tag])\n",
    "    else:\n",
    "        predicted_response = \"I'm not sure how to respond to that. Can you please rephrase?\"\n",
    "\n",
    "    return predicted_response\n",
    "\n",
    "# Interactive chat\n",
    "print(\"Start chatting with the bot (type 'exit' to stop)!\")\n",
    "while True:\n",
    "    user_input = input(\"You: \")\n",
    "    if user_input.lower() == 'exit':\n",
    "        print(\"Chatbot: Goodbye!\")\n",
    "        break\n",
    "    response = chat_with_bert(user_input)\n",
    "    print(f\"Chatbot: {response}\")"
   ]
  },
  {
   "cell_type": "code",
   "execution_count": null,
   "id": "756ab3b3-2638-400c-a944-084e1b9e25f2",
   "metadata": {},
   "outputs": [],
   "source": []
  },
  {
   "cell_type": "code",
   "execution_count": 38,
   "id": "311b9b58-9987-4737-b00c-709da5a97ff3",
   "metadata": {},
   "outputs": [],
   "source": [
    "#roberta-base"
   ]
  },
  {
   "cell_type": "code",
   "execution_count": 39,
   "id": "64c6fde3-c2fc-4f2c-85c4-8baa88b77fb7",
   "metadata": {},
   "outputs": [],
   "source": [
    "import json\n",
    "import numpy as np\n",
    "import nltk\n",
    "import time\n",
    "import random\n",
    "import string\n",
    "import tensorflow as tf\n",
    "from sklearn.model_selection import KFold\n",
    "from sklearn.preprocessing import LabelEncoder\n",
    "from sklearn.metrics import accuracy_score, precision_score, recall_score, f1_score\n",
    "from transformers import RobertaTokenizer, TFRobertaForSequenceClassification\n",
    "\n",
    "import warnings\n",
    "warnings.filterwarnings('ignore')"
   ]
  },
  {
   "cell_type": "code",
   "execution_count": 40,
   "id": "7f49b1b1-20f2-4c5c-bf92-6929f5679b00",
   "metadata": {},
   "outputs": [],
   "source": [
    "# Load and preprocess your dataset\n",
    "with open('Combined_training.json', 'r') as f:\n",
    "    data = json.load(f)\n",
    "\n",
    "# Extract patterns and responses\n",
    "questions = []\n",
    "labels = []\n",
    "\n",
    "for intent in data['intents']:\n",
    "    for pattern in intent['patterns']:\n",
    "        questions.append(pattern)\n",
    "        labels.append(intent['tag'])"
   ]
  },
  {
   "cell_type": "code",
   "execution_count": 41,
   "id": "6d650c25-c6e6-4870-8e8d-b94e4611eeee",
   "metadata": {},
   "outputs": [],
   "source": [
    "# Encode the labels\n",
    "label_encoder = LabelEncoder()\n",
    "encoded_labels = label_encoder.fit_transform(labels)\n",
    "\n",
    "# Load BERT tokenizer\n",
    "MODEL_TYPE = 'roberta-base'\n",
    "tokenizer = RobertaTokenizer.from_pretrained(MODEL_TYPE)\n",
    "\n",
    "# Tokenize the data\n",
    "def tokenize_data(questions, max_length):\n",
    "    encodings = tokenizer(questions, truncation=True, padding=True, max_length=max_length)\n",
    "    return encodings\n",
    "\n",
    "# Convert data to TensorFlow Dataset format\n",
    "def convert_to_tf_dataset(encodings, labels, batch_size):\n",
    "    dataset = tf.data.Dataset.from_tensor_slices((dict(encodings), labels))\n",
    "    dataset = dataset.shuffle(len(labels)).batch(batch_size)\n",
    "    return dataset"
   ]
  },
  {
   "cell_type": "code",
   "execution_count": 42,
   "id": "9c44ab70-8f1f-4434-9fcf-8e2ced190c3d",
   "metadata": {},
   "outputs": [],
   "source": [
    "# Hyperparameters\n",
    "MAX_LENGTH = 128\n",
    "BATCH_SIZE = 32\n",
    "LEARNING_RATE = 5e-5\n",
    "EPOCHS = 10\n",
    "N_SPLITS = 5"
   ]
  },
  {
   "cell_type": "code",
   "execution_count": 43,
   "id": "9d4c9366-1688-4ece-82be-46af0ce96a2e",
   "metadata": {},
   "outputs": [
    {
     "name": "stdout",
     "output_type": "stream",
     "text": [
      "Fold 1\n"
     ]
    },
    {
     "name": "stderr",
     "output_type": "stream",
     "text": [
      "Some weights of the PyTorch model were not used when initializing the TF 2.0 model TFRobertaForSequenceClassification: ['roberta.embeddings.position_ids']\n",
      "- This IS expected if you are initializing TFRobertaForSequenceClassification from a PyTorch model trained on another task or with another architecture (e.g. initializing a TFBertForSequenceClassification model from a BertForPreTraining model).\n",
      "- This IS NOT expected if you are initializing TFRobertaForSequenceClassification from a PyTorch model that you expect to be exactly identical (e.g. initializing a TFBertForSequenceClassification model from a BertForSequenceClassification model).\n",
      "Some weights or buffers of the TF 2.0 model TFRobertaForSequenceClassification were not initialized from the PyTorch model and are newly initialized: ['classifier.dense.weight', 'classifier.dense.bias', 'classifier.out_proj.weight', 'classifier.out_proj.bias']\n",
      "You should probably TRAIN this model on a down-stream task to be able to use it for predictions and inference.\n",
      "WARNING:absl:At this time, the v2.11+ optimizer `tf.keras.optimizers.Adam` runs slowly on M1/M2 Macs, please use the legacy Keras optimizer instead, located at `tf.keras.optimizers.legacy.Adam`.\n",
      "WARNING:absl:There is a known slowdown when using v2.11+ Keras optimizers on M1/M2 Macs. Falling back to the legacy Keras optimizer, i.e., `tf.keras.optimizers.legacy.Adam`.\n"
     ]
    },
    {
     "name": "stdout",
     "output_type": "stream",
     "text": [
      "Epoch 1/10\n",
      "3/3 [==============================] - 8s 1s/step - loss: 2.7761 - accuracy: 0.0714 - val_loss: 2.7332 - val_accuracy: 0.1905\n",
      "Epoch 2/10\n",
      "3/3 [==============================] - 3s 842ms/step - loss: 2.7552 - accuracy: 0.1190 - val_loss: 2.7112 - val_accuracy: 0.1905\n",
      "Epoch 3/10\n",
      "3/3 [==============================] - 3s 845ms/step - loss: 2.7073 - accuracy: 0.1310 - val_loss: 2.5921 - val_accuracy: 0.1905\n",
      "Epoch 4/10\n",
      "3/3 [==============================] - 3s 858ms/step - loss: 2.5360 - accuracy: 0.2024 - val_loss: 2.3939 - val_accuracy: 0.2381\n",
      "Epoch 5/10\n",
      "3/3 [==============================] - 3s 864ms/step - loss: 2.2591 - accuracy: 0.4881 - val_loss: 1.9458 - val_accuracy: 0.7619\n",
      "Epoch 6/10\n",
      "3/3 [==============================] - 3s 870ms/step - loss: 1.9084 - accuracy: 0.8214 - val_loss: 1.5914 - val_accuracy: 0.9524\n",
      "Epoch 7/10\n",
      "3/3 [==============================] - 3s 889ms/step - loss: 1.5648 - accuracy: 0.9643 - val_loss: 1.2549 - val_accuracy: 1.0000\n",
      "Epoch 8/10\n",
      "3/3 [==============================] - 3s 879ms/step - loss: 1.2646 - accuracy: 0.9524 - val_loss: 0.9627 - val_accuracy: 1.0000\n",
      "Epoch 9/10\n",
      "3/3 [==============================] - 3s 883ms/step - loss: 0.9933 - accuracy: 1.0000 - val_loss: 0.7312 - val_accuracy: 1.0000\n",
      "Epoch 10/10\n",
      "3/3 [==============================] - 3s 882ms/step - loss: 0.8054 - accuracy: 1.0000 - val_loss: 0.5497 - val_accuracy: 1.0000\n",
      "1/1 [==============================] - 1s 897ms/step\n",
      "Fold 1 results - Accuracy: 9.52%, Precision: 9.52%, Recall: 9.52%, F1 Score: 9.52%\n",
      "Fold 2\n"
     ]
    },
    {
     "name": "stderr",
     "output_type": "stream",
     "text": [
      "Some weights of the PyTorch model were not used when initializing the TF 2.0 model TFRobertaForSequenceClassification: ['roberta.embeddings.position_ids']\n",
      "- This IS expected if you are initializing TFRobertaForSequenceClassification from a PyTorch model trained on another task or with another architecture (e.g. initializing a TFBertForSequenceClassification model from a BertForPreTraining model).\n",
      "- This IS NOT expected if you are initializing TFRobertaForSequenceClassification from a PyTorch model that you expect to be exactly identical (e.g. initializing a TFBertForSequenceClassification model from a BertForSequenceClassification model).\n",
      "Some weights or buffers of the TF 2.0 model TFRobertaForSequenceClassification were not initialized from the PyTorch model and are newly initialized: ['classifier.dense.weight', 'classifier.dense.bias', 'classifier.out_proj.weight', 'classifier.out_proj.bias']\n",
      "You should probably TRAIN this model on a down-stream task to be able to use it for predictions and inference.\n",
      "WARNING:absl:At this time, the v2.11+ optimizer `tf.keras.optimizers.Adam` runs slowly on M1/M2 Macs, please use the legacy Keras optimizer instead, located at `tf.keras.optimizers.legacy.Adam`.\n",
      "WARNING:absl:There is a known slowdown when using v2.11+ Keras optimizers on M1/M2 Macs. Falling back to the legacy Keras optimizer, i.e., `tf.keras.optimizers.legacy.Adam`.\n"
     ]
    },
    {
     "name": "stdout",
     "output_type": "stream",
     "text": [
      "Epoch 1/10\n",
      "3/3 [==============================] - 7s 1s/step - loss: 2.7700 - accuracy: 0.0476 - val_loss: 2.8016 - val_accuracy: 0.1429\n",
      "Epoch 2/10\n",
      "3/3 [==============================] - 3s 899ms/step - loss: 2.7340 - accuracy: 0.1548 - val_loss: 2.7741 - val_accuracy: 0.1429\n",
      "Epoch 3/10\n",
      "3/3 [==============================] - 3s 889ms/step - loss: 2.6123 - accuracy: 0.2024 - val_loss: 2.6490 - val_accuracy: 0.1905\n",
      "Epoch 4/10\n",
      "3/3 [==============================] - 3s 903ms/step - loss: 2.4051 - accuracy: 0.4286 - val_loss: 2.3584 - val_accuracy: 0.4286\n",
      "Epoch 5/10\n",
      "3/3 [==============================] - 3s 898ms/step - loss: 2.0547 - accuracy: 0.7500 - val_loss: 1.9581 - val_accuracy: 0.7143\n",
      "Epoch 6/10\n",
      "3/3 [==============================] - 3s 944ms/step - loss: 1.7123 - accuracy: 0.8929 - val_loss: 1.6090 - val_accuracy: 0.8095\n",
      "Epoch 7/10\n",
      "3/3 [==============================] - 3s 907ms/step - loss: 1.3743 - accuracy: 0.9524 - val_loss: 1.2725 - val_accuracy: 0.8095\n",
      "Epoch 8/10\n",
      "3/3 [==============================] - 3s 915ms/step - loss: 1.1040 - accuracy: 0.9762 - val_loss: 1.0179 - val_accuracy: 1.0000\n",
      "Epoch 9/10\n",
      "3/3 [==============================] - 3s 920ms/step - loss: 0.8641 - accuracy: 1.0000 - val_loss: 0.8379 - val_accuracy: 1.0000\n",
      "Epoch 10/10\n",
      "3/3 [==============================] - 3s 907ms/step - loss: 0.6829 - accuracy: 1.0000 - val_loss: 0.6536 - val_accuracy: 1.0000\n",
      "1/1 [==============================] - 1s 937ms/step\n",
      "Fold 2 results - Accuracy: 9.52%, Precision: 9.52%, Recall: 9.52%, F1 Score: 9.52%\n",
      "Fold 3\n"
     ]
    },
    {
     "name": "stderr",
     "output_type": "stream",
     "text": [
      "Some weights of the PyTorch model were not used when initializing the TF 2.0 model TFRobertaForSequenceClassification: ['roberta.embeddings.position_ids']\n",
      "- This IS expected if you are initializing TFRobertaForSequenceClassification from a PyTorch model trained on another task or with another architecture (e.g. initializing a TFBertForSequenceClassification model from a BertForPreTraining model).\n",
      "- This IS NOT expected if you are initializing TFRobertaForSequenceClassification from a PyTorch model that you expect to be exactly identical (e.g. initializing a TFBertForSequenceClassification model from a BertForSequenceClassification model).\n",
      "Some weights or buffers of the TF 2.0 model TFRobertaForSequenceClassification were not initialized from the PyTorch model and are newly initialized: ['classifier.dense.weight', 'classifier.dense.bias', 'classifier.out_proj.weight', 'classifier.out_proj.bias']\n",
      "You should probably TRAIN this model on a down-stream task to be able to use it for predictions and inference.\n",
      "WARNING:absl:At this time, the v2.11+ optimizer `tf.keras.optimizers.Adam` runs slowly on M1/M2 Macs, please use the legacy Keras optimizer instead, located at `tf.keras.optimizers.legacy.Adam`.\n",
      "WARNING:absl:There is a known slowdown when using v2.11+ Keras optimizers on M1/M2 Macs. Falling back to the legacy Keras optimizer, i.e., `tf.keras.optimizers.legacy.Adam`.\n"
     ]
    },
    {
     "name": "stdout",
     "output_type": "stream",
     "text": [
      "Epoch 1/10\n",
      "3/3 [==============================] - 8s 1s/step - loss: 2.7790 - accuracy: 0.0357 - val_loss: 2.7375 - val_accuracy: 0.1429\n",
      "Epoch 2/10\n",
      "3/3 [==============================] - 3s 895ms/step - loss: 2.7563 - accuracy: 0.1190 - val_loss: 2.7234 - val_accuracy: 0.2381\n",
      "Epoch 3/10\n",
      "3/3 [==============================] - 3s 898ms/step - loss: 2.7079 - accuracy: 0.2381 - val_loss: 2.6654 - val_accuracy: 0.2857\n",
      "Epoch 4/10\n",
      "3/3 [==============================] - 3s 905ms/step - loss: 2.5965 - accuracy: 0.2976 - val_loss: 2.3778 - val_accuracy: 0.3333\n",
      "Epoch 5/10\n",
      "3/3 [==============================] - 3s 941ms/step - loss: 2.2522 - accuracy: 0.6310 - val_loss: 1.9708 - val_accuracy: 0.7619\n",
      "Epoch 6/10\n",
      "3/3 [==============================] - 3s 912ms/step - loss: 1.8814 - accuracy: 0.8452 - val_loss: 1.6251 - val_accuracy: 0.8095\n",
      "Epoch 7/10\n",
      "3/3 [==============================] - 3s 922ms/step - loss: 1.4985 - accuracy: 0.9762 - val_loss: 1.2895 - val_accuracy: 1.0000\n",
      "Epoch 8/10\n",
      "3/3 [==============================] - 3s 924ms/step - loss: 1.2068 - accuracy: 1.0000 - val_loss: 0.9901 - val_accuracy: 1.0000\n",
      "Epoch 9/10\n",
      "3/3 [==============================] - 3s 913ms/step - loss: 0.9499 - accuracy: 1.0000 - val_loss: 0.7884 - val_accuracy: 1.0000\n",
      "Epoch 10/10\n",
      "3/3 [==============================] - 3s 918ms/step - loss: 0.7426 - accuracy: 1.0000 - val_loss: 0.5988 - val_accuracy: 1.0000\n",
      "1/1 [==============================] - 1s 960ms/step\n",
      "Fold 3 results - Accuracy: 23.81%, Precision: 23.81%, Recall: 23.81%, F1 Score: 23.81%\n",
      "Fold 4\n"
     ]
    },
    {
     "name": "stderr",
     "output_type": "stream",
     "text": [
      "Some weights of the PyTorch model were not used when initializing the TF 2.0 model TFRobertaForSequenceClassification: ['roberta.embeddings.position_ids']\n",
      "- This IS expected if you are initializing TFRobertaForSequenceClassification from a PyTorch model trained on another task or with another architecture (e.g. initializing a TFBertForSequenceClassification model from a BertForPreTraining model).\n",
      "- This IS NOT expected if you are initializing TFRobertaForSequenceClassification from a PyTorch model that you expect to be exactly identical (e.g. initializing a TFBertForSequenceClassification model from a BertForSequenceClassification model).\n",
      "Some weights or buffers of the TF 2.0 model TFRobertaForSequenceClassification were not initialized from the PyTorch model and are newly initialized: ['classifier.dense.weight', 'classifier.dense.bias', 'classifier.out_proj.weight', 'classifier.out_proj.bias']\n",
      "You should probably TRAIN this model on a down-stream task to be able to use it for predictions and inference.\n",
      "WARNING:absl:At this time, the v2.11+ optimizer `tf.keras.optimizers.Adam` runs slowly on M1/M2 Macs, please use the legacy Keras optimizer instead, located at `tf.keras.optimizers.legacy.Adam`.\n",
      "WARNING:absl:There is a known slowdown when using v2.11+ Keras optimizers on M1/M2 Macs. Falling back to the legacy Keras optimizer, i.e., `tf.keras.optimizers.legacy.Adam`.\n"
     ]
    },
    {
     "name": "stdout",
     "output_type": "stream",
     "text": [
      "Epoch 1/10\n",
      "3/3 [==============================] - 8s 1s/step - loss: 2.7658 - accuracy: 0.0952 - val_loss: 2.8045 - val_accuracy: 0.0000e+00\n",
      "Epoch 2/10\n",
      "3/3 [==============================] - 3s 880ms/step - loss: 2.6914 - accuracy: 0.1667 - val_loss: 2.8149 - val_accuracy: 0.0000e+00\n",
      "Epoch 3/10\n",
      "3/3 [==============================] - 3s 893ms/step - loss: 2.6507 - accuracy: 0.1786 - val_loss: 2.7942 - val_accuracy: 0.0000e+00\n",
      "Epoch 4/10\n",
      "3/3 [==============================] - 3s 922ms/step - loss: 2.4640 - accuracy: 0.1786 - val_loss: 2.6070 - val_accuracy: 0.0952\n",
      "Epoch 5/10\n",
      "3/3 [==============================] - 3s 896ms/step - loss: 2.1415 - accuracy: 0.5595 - val_loss: 2.2677 - val_accuracy: 0.7143\n",
      "Epoch 6/10\n",
      "3/3 [==============================] - 3s 894ms/step - loss: 1.8082 - accuracy: 0.8095 - val_loss: 1.8446 - val_accuracy: 0.6667\n",
      "Epoch 7/10\n",
      "3/3 [==============================] - 3s 909ms/step - loss: 1.5046 - accuracy: 0.9167 - val_loss: 1.5513 - val_accuracy: 1.0000\n",
      "Epoch 8/10\n",
      "3/3 [==============================] - 3s 900ms/step - loss: 1.1841 - accuracy: 0.9762 - val_loss: 1.2284 - val_accuracy: 1.0000\n",
      "Epoch 9/10\n",
      "3/3 [==============================] - 3s 899ms/step - loss: 0.9314 - accuracy: 0.9643 - val_loss: 0.9810 - val_accuracy: 1.0000\n",
      "Epoch 10/10\n",
      "3/3 [==============================] - 3s 924ms/step - loss: 0.7625 - accuracy: 1.0000 - val_loss: 0.7544 - val_accuracy: 1.0000\n",
      "1/1 [==============================] - 1s 928ms/step\n",
      "Fold 4 results - Accuracy: 4.76%, Precision: 4.76%, Recall: 4.76%, F1 Score: 4.76%\n",
      "Fold 5\n"
     ]
    },
    {
     "name": "stderr",
     "output_type": "stream",
     "text": [
      "Some weights of the PyTorch model were not used when initializing the TF 2.0 model TFRobertaForSequenceClassification: ['roberta.embeddings.position_ids']\n",
      "- This IS expected if you are initializing TFRobertaForSequenceClassification from a PyTorch model trained on another task or with another architecture (e.g. initializing a TFBertForSequenceClassification model from a BertForPreTraining model).\n",
      "- This IS NOT expected if you are initializing TFRobertaForSequenceClassification from a PyTorch model that you expect to be exactly identical (e.g. initializing a TFBertForSequenceClassification model from a BertForSequenceClassification model).\n",
      "Some weights or buffers of the TF 2.0 model TFRobertaForSequenceClassification were not initialized from the PyTorch model and are newly initialized: ['classifier.dense.weight', 'classifier.dense.bias', 'classifier.out_proj.weight', 'classifier.out_proj.bias']\n",
      "You should probably TRAIN this model on a down-stream task to be able to use it for predictions and inference.\n",
      "WARNING:absl:At this time, the v2.11+ optimizer `tf.keras.optimizers.Adam` runs slowly on M1/M2 Macs, please use the legacy Keras optimizer instead, located at `tf.keras.optimizers.legacy.Adam`.\n",
      "WARNING:absl:There is a known slowdown when using v2.11+ Keras optimizers on M1/M2 Macs. Falling back to the legacy Keras optimizer, i.e., `tf.keras.optimizers.legacy.Adam`.\n"
     ]
    },
    {
     "name": "stdout",
     "output_type": "stream",
     "text": [
      "Epoch 1/10\n",
      "3/3 [==============================] - 8s 1s/step - loss: 2.7809 - accuracy: 0.0357 - val_loss: 2.7748 - val_accuracy: 0.0476\n",
      "Epoch 2/10\n",
      "3/3 [==============================] - 3s 896ms/step - loss: 2.7394 - accuracy: 0.1548 - val_loss: 2.7475 - val_accuracy: 0.1429\n",
      "Epoch 3/10\n",
      "3/3 [==============================] - 3s 903ms/step - loss: 2.6485 - accuracy: 0.1905 - val_loss: 2.5503 - val_accuracy: 0.1429\n",
      "Epoch 4/10\n",
      "3/3 [==============================] - 3s 909ms/step - loss: 2.3552 - accuracy: 0.3333 - val_loss: 2.3132 - val_accuracy: 0.2381\n",
      "Epoch 5/10\n",
      "3/3 [==============================] - 3s 916ms/step - loss: 2.0298 - accuracy: 0.7262 - val_loss: 1.9029 - val_accuracy: 0.8571\n",
      "Epoch 6/10\n",
      "3/3 [==============================] - 3s 909ms/step - loss: 1.6628 - accuracy: 0.9762 - val_loss: 1.5310 - val_accuracy: 0.9048\n",
      "Epoch 7/10\n",
      "3/3 [==============================] - 3s 921ms/step - loss: 1.3543 - accuracy: 0.9881 - val_loss: 1.2041 - val_accuracy: 1.0000\n",
      "Epoch 8/10\n",
      "3/3 [==============================] - 3s 937ms/step - loss: 1.0691 - accuracy: 1.0000 - val_loss: 0.9180 - val_accuracy: 1.0000\n",
      "Epoch 9/10\n",
      "3/3 [==============================] - 3s 956ms/step - loss: 0.8406 - accuracy: 1.0000 - val_loss: 0.7160 - val_accuracy: 1.0000\n",
      "Epoch 10/10\n",
      "3/3 [==============================] - 3s 926ms/step - loss: 0.6619 - accuracy: 1.0000 - val_loss: 0.5491 - val_accuracy: 1.0000\n",
      "1/1 [==============================] - 1s 964ms/step\n",
      "Fold 5 results - Accuracy: 23.81%, Precision: 23.81%, Recall: 23.81%, F1 Score: 23.81%\n"
     ]
    }
   ],
   "source": [
    "# K-fold cross-validation\n",
    "kf = KFold(n_splits=N_SPLITS, shuffle=True, random_state=42)\n",
    "fold = 0\n",
    "results = []\n",
    "\n",
    "training_times = []\n",
    "training_losses = []\n",
    "validation_losses = []\n",
    "\n",
    "for train_index, test_index in kf.split(questions):\n",
    "    fold += 1\n",
    "    print(f\"Fold {fold}\")\n",
    "\n",
    "    train_questions = [questions[i] for i in train_index]\n",
    "    test_questions = [questions[i] for i in test_index]\n",
    "    train_labels = [encoded_labels[i] for i in train_index]\n",
    "    test_labels = [encoded_labels[i] for i in test_index]\n",
    "\n",
    "    train_encodings = tokenize_data(train_questions, max_length=MAX_LENGTH)\n",
    "    test_encodings = tokenize_data(test_questions, max_length=MAX_LENGTH)\n",
    "\n",
    "    train_dataset = convert_to_tf_dataset(train_encodings, train_labels, batch_size=BATCH_SIZE)\n",
    "    test_dataset = convert_to_tf_dataset(test_encodings, test_labels, batch_size=BATCH_SIZE)\n",
    "\n",
    "    # Load BERT model for sequence classification\n",
    "    model = TFRobertaForSequenceClassification.from_pretrained(MODEL_TYPE, num_labels=len(label_encoder.classes_))\n",
    "\n",
    "    # Compile the model\n",
    "    optimizer = tf.keras.optimizers.Adam(learning_rate=LEARNING_RATE)\n",
    "    loss = tf.keras.losses.SparseCategoricalCrossentropy(from_logits=True)\n",
    "    metrics = [tf.keras.metrics.SparseCategoricalAccuracy('accuracy')]\n",
    "\n",
    "    model.compile(optimizer=optimizer, loss=loss, metrics=metrics)\n",
    "\n",
    "    # Train the model\n",
    "    start_time = time.time()\n",
    "    history = model.fit(train_dataset, epochs=EPOCHS, validation_data=test_dataset, verbose=1)\n",
    "    training_time = time.time() - start_time\n",
    "\n",
    "    training_times.append(training_time)\n",
    "    training_losses.append(np.mean(history.history['loss']))\n",
    "    validation_losses.append(np.mean(history.history['val_loss']))\n",
    "\n",
    "    # Evaluate the model\n",
    "    predictions = model.predict(test_dataset).logits\n",
    "    predictions = np.argmax(predictions, axis=1)\n",
    "\n",
    "    accuracy = accuracy_score(test_labels, predictions) * 100\n",
    "    precision = precision_score(test_labels, predictions, average='weighted') * 100\n",
    "    recall = recall_score(test_labels, predictions, average='weighted') * 100\n",
    "    f1 = f1_score(test_labels, predictions, average='weighted') * 100\n",
    "\n",
    "    results.append({\n",
    "        'fold': fold,\n",
    "        'accuracy': accuracy,\n",
    "        'precision': precision,\n",
    "        'recall': recall,\n",
    "        'f1': f1\n",
    "    })\n",
    "\n",
    "    print(f\"Fold {fold} results - Accuracy: {accuracy:.2f}%, Precision: {precision:.2f}%, Recall: {recall:.2f}%, F1 Score: {f1:.2f}%\")"
   ]
  },
  {
   "cell_type": "code",
   "execution_count": 44,
   "id": "afb6e028-032a-40ca-a442-35f51b7205ed",
   "metadata": {},
   "outputs": [
    {
     "name": "stdout",
     "output_type": "stream",
     "text": [
      "\n",
      "Average results across all folds:\n",
      "Accuracy: 14.29%\n",
      "Precision: 14.29%\n",
      "Recall: 14.29%\n",
      "F1: 14.29%\n",
      "Average Training Time: 32.41 seconds\n",
      "Average Training Loss: 1.8860\n",
      "Average Validation Loss: 1.8004\n"
     ]
    }
   ],
   "source": [
    "# Calculate and print average metrics\n",
    "average_results = {metric: np.mean([result[metric] for result in results]) for metric in results[0].keys() if metric != 'fold'}\n",
    "average_training_time = np.mean(training_times)\n",
    "average_training_loss = np.mean(training_losses)\n",
    "average_validation_loss = np.mean(validation_losses)\n",
    "\n",
    "print(\"\\nAverage results across all folds:\")\n",
    "for metric, value in average_results.items():\n",
    "    print(f\"{metric.capitalize()}: {value:.2f}%\")\n",
    "\n",
    "print(f\"Average Training Time: {average_training_time:.2f} seconds\")\n",
    "print(f\"Average Training Loss: {average_training_loss:.4f}\")\n",
    "print(f\"Average Validation Loss: {average_validation_loss:.4f}\")"
   ]
  },
  {
   "cell_type": "code",
   "execution_count": 45,
   "id": "9216e1b4-6141-4b7c-bbc6-54850427533a",
   "metadata": {},
   "outputs": [
    {
     "name": "stderr",
     "output_type": "stream",
     "text": [
      "All model checkpoint layers were used when initializing TFRobertaForSequenceClassification.\n",
      "\n",
      "All the layers of TFRobertaForSequenceClassification were initialized from the model checkpoint at roberta_chatbot_model.\n",
      "If your task is similar to the task the model of the checkpoint was trained on, you can already use TFRobertaForSequenceClassification for predictions without further training.\n"
     ]
    }
   ],
   "source": [
    "# Save the final model, tokenizer, and label encoder\n",
    "model.save_pretrained('roberta_chatbot_model')\n",
    "tokenizer.save_pretrained('roberta_chatbot_tokenizer')\n",
    "np.save('label_encoder_classes.npy', label_encoder.classes_)\n",
    "\n",
    "# Load the model, tokenizer, and label encoder\n",
    "model = TFRobertaForSequenceClassification.from_pretrained('roberta_chatbot_model')\n",
    "tokenizer = RobertaTokenizer.from_pretrained('roberta_chatbot_tokenizer')\n",
    "label_encoder = LabelEncoder()\n",
    "label_encoder.classes_ = np.load('label_encoder_classes.npy', allow_pickle=True)"
   ]
  },
  {
   "cell_type": "code",
   "execution_count": 46,
   "id": "4212e6fe-2571-4000-b5b7-eb3e349349f0",
   "metadata": {},
   "outputs": [
    {
     "name": "stdout",
     "output_type": "stream",
     "text": [
      "Start chatting with the bot (type 'exit' to stop)!\n"
     ]
    },
    {
     "name": "stdin",
     "output_type": "stream",
     "text": [
      "You:  exit\n"
     ]
    },
    {
     "name": "stdout",
     "output_type": "stream",
     "text": [
      "Chatbot: Goodbye!\n"
     ]
    }
   ],
   "source": [
    "# Load the dataset again for responses\n",
    "with open('Combined_training.json', 'r') as f:\n",
    "    data = json.load(f)\n",
    "\n",
    "# Create a dictionary to map tags to responses\n",
    "tag_to_response = {intent['tag']: intent['responses'] for intent in data['intents']}\n",
    "\n",
    "# Function to chat with the model\n",
    "def chat_with_bert(user_input):\n",
    "    # Tokenize the user input\n",
    "    inputs = tokenizer(user_input, return_tensors='tf', max_length=128, padding='max_length', truncation=True)\n",
    "    \n",
    "    # Predict the response\n",
    "    outputs = model(inputs)\n",
    "    predicted_label = tf.argmax(outputs.logits, axis=1).numpy()[0]\n",
    "    predicted_tag = label_encoder.inverse_transform([predicted_label])[0]\n",
    "    \n",
    "    # Get the response from the tag_to_response dictionary\n",
    "    if predicted_tag in tag_to_response:\n",
    "        predicted_response = np.random.choice(tag_to_response[predicted_tag])\n",
    "    else:\n",
    "        predicted_response = \"I'm not sure how to respond to that. Can you please rephrase?\"\n",
    "\n",
    "    return predicted_response\n",
    "\n",
    "# Interactive chat\n",
    "print(\"Start chatting with the bot (type 'exit' to stop)!\")\n",
    "while True:\n",
    "    user_input = input(\"You: \")\n",
    "    if user_input.lower() == 'exit':\n",
    "        print(\"Chatbot: Goodbye!\")\n",
    "        break\n",
    "    response = chat_with_bert(user_input)\n",
    "    print(f\"Chatbot: {response}\")"
   ]
  },
  {
   "cell_type": "code",
   "execution_count": null,
   "id": "5a3ff7ff-2b76-4b4b-bf76-f7a70361fac6",
   "metadata": {},
   "outputs": [],
   "source": []
  },
  {
   "cell_type": "code",
   "execution_count": 49,
   "id": "6fca7bf1-501a-45e2-b261-e0f2b4e79d1d",
   "metadata": {},
   "outputs": [
    {
     "data": {
      "image/png": "[encoded data removed]",
      "text/plain": [
       "<Figure size 1000x600 with 1 Axes>"
      ]
     },
     "metadata": {},
     "output_type": "display_data"
    }
   ],
   "source": [
    "import matplotlib.pyplot as plt\n",
    "\n",
    "# Data for the plot\n",
    "models = ['roberta-base', 'bert-large-uncased', 'distilbert-base-uncased', 'bert-base-uncased']\n",
    "accuracies = [14.29, 7.62, 5.71, 7.62]\n",
    "\n",
    "# Plotting the bar chart\n",
    "plt.figure(figsize=(10, 6))\n",
    "plt.bar(models, accuracies, color=['blue', 'orange', 'green', 'red'])\n",
    "plt.ylim(0, 20)  # Set y-axis limit slightly above the highest accuracy for better visualization\n",
    "plt.title('Accuracy for Different Models(Considered for Hyperparameter Tuning)')\n",
    "plt.xlabel('Models')\n",
    "plt.ylabel('Accuracy (%)')\n",
    "plt.grid(axis='y')\n",
    "\n",
    "# Adding the accuracy values on top of the bars\n",
    "for i, acc in enumerate(accuracies):\n",
    "    plt.text(i, acc + 1, f\"{acc:.2f}%\", ha='center', fontsize=12)\n",
    "\n",
    "plt.tight_layout()\n",
    "\n",
    "# Save the figure\n",
    "plt.savefig('BertTensor.png', format='png')  # Save as PNG file\n",
    "\n",
    "plt.show()\n"
   ]
  },
  {
   "cell_type": "code",
   "execution_count": null,
   "id": "bb51d209-7422-4ec8-ae64-d98ea9cef38b",
   "metadata": {},
   "outputs": [],
   "source": []
  },
  {
   "cell_type": "code",
   "execution_count": null,
   "id": "82a512f3-5aca-45e8-855d-0774df25ff54",
   "metadata": {},
   "outputs": [],
   "source": []
  },
  {
   "cell_type": "code",
   "execution_count": null,
   "id": "f87adc56-7191-4677-a6a9-127bcb50d9f9",
   "metadata": {},
   "outputs": [],
   "source": []
  },
  {
   "cell_type": "code",
   "execution_count": null,
   "id": "aff7c5b5-30bf-4a14-b894-ebf07f1c8334",
   "metadata": {},
   "outputs": [],
   "source": []
  },
  {
   "cell_type": "code",
   "execution_count": null,
   "id": "9c2a24b2-a716-47ac-8a08-58e9d0ea03da",
   "metadata": {},
   "outputs": [],
   "source": []
  },
  {
   "cell_type": "code",
   "execution_count": null,
   "id": "8e45d24e-e517-4e98-98cd-ec500fa7ecdc",
   "metadata": {},
   "outputs": [],
   "source": []
  },
  {
   "cell_type": "code",
   "execution_count": null,
   "id": "afd55832-9719-483e-800a-70d71116e74a",
   "metadata": {},
   "outputs": [],
   "source": []
  }
 ],
 "metadata": {
  "kernelspec": {
   "display_name": "Python 3 (ipykernel)",
   "language": "python",
   "name": "python3"
  },
  "language_info": {
   "codemirror_mode": {
    "name": "ipython",
    "version": 3
   },
   "file_extension": ".py",
   "mimetype": "text/x-python",
   "name": "python",
   "nbconvert_exporter": "python",
   "pygments_lexer": "ipython3",
   "version": "3.8.19"
  }
 },
 "nbformat": 4,
 "nbformat_minor": 5
}
